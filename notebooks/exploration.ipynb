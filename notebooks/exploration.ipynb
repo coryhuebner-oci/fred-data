{
 "cells": [
  {
   "cell_type": "markdown",
   "metadata": {},
   "source": [
    "# Exploration\n",
    "\n",
    "A notebook used to explore FRED data"
   ]
  },
  {
   "cell_type": "markdown",
   "metadata": {},
   "source": [
    "## Setup    "
   ]
  },
  {
   "cell_type": "code",
   "execution_count": null,
   "metadata": {},
   "outputs": [],
   "source": [
    "# Load environment variables using dotenv\n",
    "\n",
    "from dotenv import load_dotenv\n",
    "\n",
    "load_dotenv()"
   ]
  },
  {
   "cell_type": "code",
   "execution_count": null,
   "metadata": {},
   "outputs": [],
   "source": [
    "# Setup autoreload of modules\n",
    "import importlib\n"
   ]
  },
  {
   "cell_type": "code",
   "execution_count": null,
   "metadata": {},
   "outputs": [],
   "source": [
    "from update_path import ensure_src_in_path\n",
    "\n",
    "ensure_src_in_path()"
   ]
  },
  {
   "cell_type": "code",
   "execution_count": null,
   "metadata": {},
   "outputs": [],
   "source": [
    "# Get the FRED API client\n",
    "\n",
    "from fred_data import api\n",
    "\n",
    "importlib.reload(api)\n",
    "\n",
    "fred_client = api.FredApiClient()"
   ]
  },
  {
   "cell_type": "code",
   "execution_count": null,
   "metadata": {},
   "outputs": [],
   "source": [
    "## Run everything above this cell for setup"
   ]
  },
  {
   "cell_type": "markdown",
   "metadata": {},
   "source": [
    "## Data Exploration"
   ]
  },
  {
   "cell_type": "markdown",
   "metadata": {},
   "source": [
    "### Releases"
   ]
  },
  {
   "cell_type": "code",
   "execution_count": null,
   "metadata": {},
   "outputs": [],
   "source": [
    "# Fetch all current releases\n",
    "from fred_data.releases import get_releases\n",
    "\n",
    "releases = get_releases(fred_client)\n",
    "releases_df = releases.releases.sort(\"name\")\n",
    "\n",
    "# Get an idea of the amount/types of data stored in releases\n",
    "print(f\"Release summary\")\n",
    "print(f\"Count: {releases.count}\")\n",
    "print(f\"Realtime range: {releases.realtime_start} to {releases.realtime_end}, Duration: {releases.realtime_end - releases.realtime_start}\")\n",
    "releases.releases.describe()"
   ]
  },
  {
   "cell_type": "code",
   "execution_count": null,
   "metadata": {},
   "outputs": [],
   "source": [
    "# Fetch older and current releases\n",
    "\n",
    "from datetime import date, timedelta\n",
    "from fred_data.releases import get_releases\n",
    "\n",
    "archived_releases = get_releases(fred_client, realtime_start=date.today() - timedelta(days=60), realtime_end=date.today())\n",
    "archived_releases_df = archived_releases.releases\n",
    "\n",
    "# Get an idea of the amount/types of data stored in releases\n",
    "print(f\"Archived Release summary\")\n",
    "print(f\"Count: {archived_releases.count}\")\n",
    "print(f\"Realtime range: {archived_releases.realtime_start} to {archived_releases.realtime_end}, Duration: {archived_releases.realtime_end - archived_releases.realtime_start}\")\n",
    "archived_releases.releases.describe()"
   ]
  },
  {
   "cell_type": "markdown",
   "metadata": {},
   "source": [
    "### Release Dates"
   ]
  },
  {
   "cell_type": "code",
   "execution_count": null,
   "metadata": {},
   "outputs": [],
   "source": [
    "# Get release dates for today and tomorrow\n",
    "from datetime import date, timedelta\n",
    "\n",
    "from fred_data.releases import get_release_dates\n",
    "\n",
    "today = date.today()\n",
    "tomorrow = today + timedelta(days=1)\n",
    "release_dates = get_release_dates(fred_client, realtime_start=today, realtime_end=tomorrow, include_release_dates_with_no_data=True)\n",
    "release_dates_df = release_dates.release_dates\n",
    "\n",
    "print(f\"Release Dates Summary\")\n",
    "print(f\"Count: {release_dates.count}\")\n",
    "print(f\"Realtime range: {release_dates.realtime_start} to {release_dates.realtime_end}, Duration: {release_dates.realtime_end - release_dates.realtime_start}\")\n",
    "release_dates_df.describe()"
   ]
  },
  {
   "cell_type": "code",
   "execution_count": null,
   "metadata": {},
   "outputs": [],
   "source": [
    "# Get release dates from the past into the future\n",
    "from datetime import date, timedelta\n",
    "\n",
    "from fred_data.releases import get_release_dates\n",
    "\n",
    "release_dates_over_time = get_release_dates(\n",
    "    fred_client,\n",
    "    realtime_start=date.today() - timedelta(days=30),\n",
    "    realtime_end=date.today() + timedelta(days=10),\n",
    "    include_release_dates_with_no_data=True\n",
    ")\n",
    "release_dates_over_time_df = release_dates_over_time.release_dates\n",
    "\n",
    "print(f\"Release Dates Summary\")\n",
    "print(f\"Count: {release_dates_over_time.count}\")\n",
    "print(f\"Realtime range: {release_dates_over_time.realtime_start} to {release_dates_over_time.realtime_end}, Duration: {release_dates_over_time.realtime_end - release_dates_over_time.realtime_start}\")\n",
    "release_dates_over_time_df.describe()"
   ]
  },
  {
   "cell_type": "markdown",
   "metadata": {},
   "source": [
    "### Series"
   ]
  },
  {
   "cell_type": "code",
   "execution_count": null,
   "metadata": {},
   "outputs": [],
   "source": [
    "# Get series search results from the API\n",
    "import polars as pl\n",
    "\n",
    "from fred_data.series import get_search_results\n",
    "\n",
    "search_text = \"illinois unemployment\"\n",
    "\n",
    "search_results = get_search_results(\n",
    "    fred_client,\n",
    "    search_text=search_text,\n",
    ")\n",
    "search_results_df = search_results.series\n",
    "\n",
    "print(f\"Search Results\")\n",
    "print(f\"Count: {search_results.count}\")\n",
    "print(f\"Realtime range: {search_results.realtime_start} to {search_results.realtime_end}, Duration: {search_results.realtime_end - search_results.realtime_start}\")\n",
    "search_results_df_summary = pl.DataFrame() if search_results_df.is_empty() else search_results_df.describe()\n",
    "search_results_df_summary"
   ]
  },
  {
   "cell_type": "code",
   "execution_count": null,
   "metadata": {},
   "outputs": [],
   "source": [
    "# Get all series contained within a given release\n",
    "\n",
    "from fred_data.series import get_series_for_release\n",
    "\n",
    "\n",
    "# Grabbed from releases_df from cells above\n",
    "stl_financial_stress_release_id = 245\n",
    "stl_financial_stress_multi_series = get_series_for_release(fred_client, stl_financial_stress_release_id)\n",
    "stl_financial_stress_multi_series_df = stl_financial_stress_multi_series.series\n",
    "\n",
    "print(f\"Release Series Results\")\n",
    "print(f\"Count: {stl_financial_stress_multi_series.count}\")\n",
    "print(f\"Realtime range: {stl_financial_stress_multi_series.realtime_start} to {stl_financial_stress_multi_series.realtime_end}, Duration: {stl_financial_stress_multi_series.realtime_end - stl_financial_stress_multi_series.realtime_start}\")\n",
    "st_louis_financial_stress_series_summary = pl.DataFrame() if stl_financial_stress_multi_series_df.is_empty() else stl_financial_stress_multi_series_df.describe()\n",
    "st_louis_financial_stress_series_summary\n"
   ]
  }
 ],
 "metadata": {
  "kernelspec": {
   "display_name": ".venv",
   "language": "python",
   "name": "python3"
  },
  "language_info": {
   "codemirror_mode": {
    "name": "ipython",
    "version": 3
   },
   "file_extension": ".py",
   "mimetype": "text/x-python",
   "name": "python",
   "nbconvert_exporter": "python",
   "pygments_lexer": "ipython3",
   "version": "3.13.2"
  }
 },
 "nbformat": 4,
 "nbformat_minor": 2
}
