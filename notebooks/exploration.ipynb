{
 "cells": [
  {
   "cell_type": "markdown",
   "metadata": {},
   "source": [
    "# Exploration\n",
    "\n",
    "A notebook used to explore FRED data"
   ]
  },
  {
   "cell_type": "markdown",
   "metadata": {},
   "source": [
    "## Setup    "
   ]
  },
  {
   "cell_type": "code",
   "execution_count": 1,
   "metadata": {},
   "outputs": [
    {
     "data": {
      "text/plain": [
       "True"
      ]
     },
     "execution_count": 1,
     "metadata": {},
     "output_type": "execute_result"
    }
   ],
   "source": [
    "# Load environment variables using dotenv\n",
    "\n",
    "from dotenv import load_dotenv\n",
    "\n",
    "load_dotenv()"
   ]
  },
  {
   "cell_type": "code",
   "execution_count": 2,
   "metadata": {},
   "outputs": [],
   "source": [
    "# Setup autoreload of modules\n",
    "%load_ext autoreload\n",
    "%autoreload 2\n"
   ]
  },
  {
   "cell_type": "code",
   "execution_count": 3,
   "metadata": {},
   "outputs": [
    {
     "name": "stdout",
     "output_type": "stream",
     "text": [
      "/Users/coryhuebner/workspace/fed/fred-data/src already in path\n"
     ]
    }
   ],
   "source": [
    "from update_path import ensure_src_in_path\n",
    "\n",
    "ensure_src_in_path()"
   ]
  },
  {
   "cell_type": "code",
   "execution_count": 4,
   "metadata": {},
   "outputs": [],
   "source": [
    "# Get the FRED API client\n",
    "\n",
    "from fred_data import api\n",
    "\n",
    "%autoreload 2\n",
    "\n",
    "fred_client = api.FredApiClient()"
   ]
  },
  {
   "cell_type": "markdown",
   "metadata": {},
   "source": [
    "## Data Exploration"
   ]
  },
  {
   "cell_type": "code",
   "execution_count": 5,
   "metadata": {},
   "outputs": [
    {
     "name": "stdout",
     "output_type": "stream",
     "text": [
      "Release summary\n",
      "Count: 315\n",
      "Realtime range: 2025-03-11 to 2025-03-11, Duration: 0:00:00\n"
     ]
    },
    {
     "data": {
      "text/html": [
       "<div><style>\n",
       ".dataframe > thead > tr,\n",
       ".dataframe > tbody > tr {\n",
       "  text-align: right;\n",
       "  white-space: pre-wrap;\n",
       "}\n",
       "</style>\n",
       "<small>shape: (9, 8)</small><table border=\"1\" class=\"dataframe\"><thead><tr><th>statistic</th><th>id</th><th>realtime_start</th><th>realtime_end</th><th>name</th><th>press_release</th><th>link</th><th>notes</th></tr><tr><td>str</td><td>f64</td><td>str</td><td>str</td><td>str</td><td>f64</td><td>str</td><td>str</td></tr></thead><tbody><tr><td>&quot;count&quot;</td><td>315.0</td><td>&quot;315&quot;</td><td>&quot;315&quot;</td><td>&quot;315&quot;</td><td>315.0</td><td>&quot;276&quot;</td><td>&quot;123&quot;</td></tr><tr><td>&quot;null_count&quot;</td><td>0.0</td><td>&quot;0&quot;</td><td>&quot;0&quot;</td><td>&quot;0&quot;</td><td>0.0</td><td>&quot;39&quot;</td><td>&quot;192&quot;</td></tr><tr><td>&quot;mean&quot;</td><td>288.031746</td><td>&quot;2025-03-11 00:00:00&quot;</td><td>&quot;2025-03-11 00:00:00&quot;</td><td>null</td><td>0.542857</td><td>null</td><td>null</td></tr><tr><td>&quot;std&quot;</td><td>152.199623</td><td>null</td><td>null</td><td>null</td><td>null</td><td>null</td><td>null</td></tr><tr><td>&quot;min&quot;</td><td>9.0</td><td>&quot;2025-03-11&quot;</td><td>&quot;2025-03-11&quot;</td><td>&quot;A Millennium of Macroeconomic …</td><td>0.0</td><td>&quot;http://data.imf.org/?sk=3E40CD…</td><td>&quot;AMERIBOR® (American Interbank …</td></tr><tr><td>&quot;25%&quot;</td><td>172.0</td><td>&quot;2025-03-11&quot;</td><td>&quot;2025-03-11&quot;</td><td>null</td><td>null</td><td>null</td><td>null</td></tr><tr><td>&quot;50%&quot;</td><td>301.0</td><td>&quot;2025-03-11&quot;</td><td>&quot;2025-03-11&quot;</td><td>null</td><td>null</td><td>null</td><td>null</td></tr><tr><td>&quot;75%&quot;</td><td>406.0</td><td>&quot;2025-03-11&quot;</td><td>&quot;2025-03-11&quot;</td><td>null</td><td>null</td><td>null</td><td>null</td></tr><tr><td>&quot;max&quot;</td><td>769.0</td><td>&quot;2025-03-11&quot;</td><td>&quot;2025-03-11&quot;</td><td>&quot;Zillow Home Value Index (ZHVI)&quot;</td><td>1.0</td><td>&quot;https://www2.optimalblue.com/o…</td><td>&quot;With the issue dated January 8…</td></tr></tbody></table></div>"
      ],
      "text/plain": [
       "shape: (9, 8)\n",
       "┌────────────┬────────────┬────────────┬───────────┬───────────┬───────────┬───────────┬───────────┐\n",
       "│ statistic  ┆ id         ┆ realtime_s ┆ realtime_ ┆ name      ┆ press_rel ┆ link      ┆ notes     │\n",
       "│ ---        ┆ ---        ┆ tart       ┆ end       ┆ ---       ┆ ease      ┆ ---       ┆ ---       │\n",
       "│ str        ┆ f64        ┆ ---        ┆ ---       ┆ str       ┆ ---       ┆ str       ┆ str       │\n",
       "│            ┆            ┆ str        ┆ str       ┆           ┆ f64       ┆           ┆           │\n",
       "╞════════════╪════════════╪════════════╪═══════════╪═══════════╪═══════════╪═══════════╪═══════════╡\n",
       "│ count      ┆ 315.0      ┆ 315        ┆ 315       ┆ 315       ┆ 315.0     ┆ 276       ┆ 123       │\n",
       "│ null_count ┆ 0.0        ┆ 0          ┆ 0         ┆ 0         ┆ 0.0       ┆ 39        ┆ 192       │\n",
       "│ mean       ┆ 288.031746 ┆ 2025-03-11 ┆ 2025-03-1 ┆ null      ┆ 0.542857  ┆ null      ┆ null      │\n",
       "│            ┆            ┆ 00:00:00   ┆ 1         ┆           ┆           ┆           ┆           │\n",
       "│            ┆            ┆            ┆ 00:00:00  ┆           ┆           ┆           ┆           │\n",
       "│ std        ┆ 152.199623 ┆ null       ┆ null      ┆ null      ┆ null      ┆ null      ┆ null      │\n",
       "│ min        ┆ 9.0        ┆ 2025-03-11 ┆ 2025-03-1 ┆ A Millenn ┆ 0.0       ┆ http://da ┆ AMERIBOR® │\n",
       "│            ┆            ┆            ┆ 1         ┆ ium of    ┆           ┆ ta.imf.or ┆ (American │\n",
       "│            ┆            ┆            ┆           ┆ Macroecon ┆           ┆ g/?sk=3E4 ┆ Interbank │\n",
       "│            ┆            ┆            ┆           ┆ omic …    ┆           ┆ 0CD…      ┆ …         │\n",
       "│ 25%        ┆ 172.0      ┆ 2025-03-11 ┆ 2025-03-1 ┆ null      ┆ null      ┆ null      ┆ null      │\n",
       "│            ┆            ┆            ┆ 1         ┆           ┆           ┆           ┆           │\n",
       "│ 50%        ┆ 301.0      ┆ 2025-03-11 ┆ 2025-03-1 ┆ null      ┆ null      ┆ null      ┆ null      │\n",
       "│            ┆            ┆            ┆ 1         ┆           ┆           ┆           ┆           │\n",
       "│ 75%        ┆ 406.0      ┆ 2025-03-11 ┆ 2025-03-1 ┆ null      ┆ null      ┆ null      ┆ null      │\n",
       "│            ┆            ┆            ┆ 1         ┆           ┆           ┆           ┆           │\n",
       "│ max        ┆ 769.0      ┆ 2025-03-11 ┆ 2025-03-1 ┆ Zillow    ┆ 1.0       ┆ https://w ┆ With the  │\n",
       "│            ┆            ┆            ┆ 1         ┆ Home      ┆           ┆ ww2.optim ┆ issue     │\n",
       "│            ┆            ┆            ┆           ┆ Value     ┆           ┆ alblue.co ┆ dated     │\n",
       "│            ┆            ┆            ┆           ┆ Index     ┆           ┆ m/o…      ┆ January   │\n",
       "│            ┆            ┆            ┆           ┆ (ZHVI)    ┆           ┆           ┆ 8…        │\n",
       "└────────────┴────────────┴────────────┴───────────┴───────────┴───────────┴───────────┴───────────┘"
      ]
     },
     "execution_count": 5,
     "metadata": {},
     "output_type": "execute_result"
    }
   ],
   "source": [
    "# Fetch all current releases\n",
    "from fred_data.releases import get_releases\n",
    "\n",
    "releases = get_releases(fred_client)\n",
    "releases_df = releases.releases\n",
    "\n",
    "# Get an idea of the amount/types of data stored in releases\n",
    "print(f\"Release summary\")\n",
    "print(f\"Count: {releases.count}\")\n",
    "print(f\"Realtime range: {releases.realtime_start} to {releases.realtime_end}, Duration: {releases.realtime_end - releases.realtime_start}\")\n",
    "releases.releases.describe()"
   ]
  },
  {
   "cell_type": "code",
   "execution_count": 6,
   "metadata": {},
   "outputs": [
    {
     "name": "stdout",
     "output_type": "stream",
     "text": [
      "Archived Release summary\n",
      "Count: 309\n",
      "Realtime range: 2025-01-10 to 2025-03-11, Duration: 60 days, 0:00:00\n"
     ]
    },
    {
     "data": {
      "text/html": [
       "<div><style>\n",
       ".dataframe > thead > tr,\n",
       ".dataframe > tbody > tr {\n",
       "  text-align: right;\n",
       "  white-space: pre-wrap;\n",
       "}\n",
       "</style>\n",
       "<small>shape: (9, 8)</small><table border=\"1\" class=\"dataframe\"><thead><tr><th>statistic</th><th>id</th><th>realtime_start</th><th>realtime_end</th><th>name</th><th>press_release</th><th>link</th><th>notes</th></tr><tr><td>str</td><td>f64</td><td>str</td><td>str</td><td>str</td><td>f64</td><td>str</td><td>str</td></tr></thead><tbody><tr><td>&quot;count&quot;</td><td>309.0</td><td>&quot;309&quot;</td><td>&quot;309&quot;</td><td>&quot;309&quot;</td><td>309.0</td><td>&quot;270&quot;</td><td>&quot;121&quot;</td></tr><tr><td>&quot;null_count&quot;</td><td>0.0</td><td>&quot;0&quot;</td><td>&quot;0&quot;</td><td>&quot;0&quot;</td><td>0.0</td><td>&quot;39&quot;</td><td>&quot;188&quot;</td></tr><tr><td>&quot;mean&quot;</td><td>287.640777</td><td>&quot;2025-01-10 00:00:00&quot;</td><td>&quot;2025-03-11 00:00:00&quot;</td><td>null</td><td>0.540453</td><td>null</td><td>null</td></tr><tr><td>&quot;std&quot;</td><td>152.758267</td><td>null</td><td>null</td><td>null</td><td>null</td><td>null</td><td>null</td></tr><tr><td>&quot;min&quot;</td><td>9.0</td><td>&quot;2025-01-10&quot;</td><td>&quot;2025-03-11&quot;</td><td>&quot;A Millennium of Macroeconomic …</td><td>0.0</td><td>&quot;http://data.imf.org/?sk=3E40CD…</td><td>&quot;AMERIBOR® (American Interbank …</td></tr><tr><td>&quot;25%&quot;</td><td>170.0</td><td>&quot;2025-01-10&quot;</td><td>&quot;2025-03-11&quot;</td><td>null</td><td>null</td><td>null</td><td>null</td></tr><tr><td>&quot;50%&quot;</td><td>302.0</td><td>&quot;2025-01-10&quot;</td><td>&quot;2025-03-11&quot;</td><td>null</td><td>null</td><td>null</td><td>null</td></tr><tr><td>&quot;75%&quot;</td><td>403.0</td><td>&quot;2025-01-10&quot;</td><td>&quot;2025-03-11&quot;</td><td>null</td><td>null</td><td>null</td><td>null</td></tr><tr><td>&quot;max&quot;</td><td>769.0</td><td>&quot;2025-01-10&quot;</td><td>&quot;2025-03-11&quot;</td><td>&quot;Zillow Home Value Index (ZHVI)&quot;</td><td>1.0</td><td>&quot;https://www2.optimalblue.com/o…</td><td>&quot;With the issue dated January 8…</td></tr></tbody></table></div>"
      ],
      "text/plain": [
       "shape: (9, 8)\n",
       "┌────────────┬────────────┬────────────┬───────────┬───────────┬───────────┬───────────┬───────────┐\n",
       "│ statistic  ┆ id         ┆ realtime_s ┆ realtime_ ┆ name      ┆ press_rel ┆ link      ┆ notes     │\n",
       "│ ---        ┆ ---        ┆ tart       ┆ end       ┆ ---       ┆ ease      ┆ ---       ┆ ---       │\n",
       "│ str        ┆ f64        ┆ ---        ┆ ---       ┆ str       ┆ ---       ┆ str       ┆ str       │\n",
       "│            ┆            ┆ str        ┆ str       ┆           ┆ f64       ┆           ┆           │\n",
       "╞════════════╪════════════╪════════════╪═══════════╪═══════════╪═══════════╪═══════════╪═══════════╡\n",
       "│ count      ┆ 309.0      ┆ 309        ┆ 309       ┆ 309       ┆ 309.0     ┆ 270       ┆ 121       │\n",
       "│ null_count ┆ 0.0        ┆ 0          ┆ 0         ┆ 0         ┆ 0.0       ┆ 39        ┆ 188       │\n",
       "│ mean       ┆ 287.640777 ┆ 2025-01-10 ┆ 2025-03-1 ┆ null      ┆ 0.540453  ┆ null      ┆ null      │\n",
       "│            ┆            ┆ 00:00:00   ┆ 1         ┆           ┆           ┆           ┆           │\n",
       "│            ┆            ┆            ┆ 00:00:00  ┆           ┆           ┆           ┆           │\n",
       "│ std        ┆ 152.758267 ┆ null       ┆ null      ┆ null      ┆ null      ┆ null      ┆ null      │\n",
       "│ min        ┆ 9.0        ┆ 2025-01-10 ┆ 2025-03-1 ┆ A Millenn ┆ 0.0       ┆ http://da ┆ AMERIBOR® │\n",
       "│            ┆            ┆            ┆ 1         ┆ ium of    ┆           ┆ ta.imf.or ┆ (American │\n",
       "│            ┆            ┆            ┆           ┆ Macroecon ┆           ┆ g/?sk=3E4 ┆ Interbank │\n",
       "│            ┆            ┆            ┆           ┆ omic …    ┆           ┆ 0CD…      ┆ …         │\n",
       "│ 25%        ┆ 170.0      ┆ 2025-01-10 ┆ 2025-03-1 ┆ null      ┆ null      ┆ null      ┆ null      │\n",
       "│            ┆            ┆            ┆ 1         ┆           ┆           ┆           ┆           │\n",
       "│ 50%        ┆ 302.0      ┆ 2025-01-10 ┆ 2025-03-1 ┆ null      ┆ null      ┆ null      ┆ null      │\n",
       "│            ┆            ┆            ┆ 1         ┆           ┆           ┆           ┆           │\n",
       "│ 75%        ┆ 403.0      ┆ 2025-01-10 ┆ 2025-03-1 ┆ null      ┆ null      ┆ null      ┆ null      │\n",
       "│            ┆            ┆            ┆ 1         ┆           ┆           ┆           ┆           │\n",
       "│ max        ┆ 769.0      ┆ 2025-01-10 ┆ 2025-03-1 ┆ Zillow    ┆ 1.0       ┆ https://w ┆ With the  │\n",
       "│            ┆            ┆            ┆ 1         ┆ Home      ┆           ┆ ww2.optim ┆ issue     │\n",
       "│            ┆            ┆            ┆           ┆ Value     ┆           ┆ alblue.co ┆ dated     │\n",
       "│            ┆            ┆            ┆           ┆ Index     ┆           ┆ m/o…      ┆ January   │\n",
       "│            ┆            ┆            ┆           ┆ (ZHVI)    ┆           ┆           ┆ 8…        │\n",
       "└────────────┴────────────┴────────────┴───────────┴───────────┴───────────┴───────────┴───────────┘"
      ]
     },
     "execution_count": 6,
     "metadata": {},
     "output_type": "execute_result"
    }
   ],
   "source": [
    "# Fetch older and current releases\n",
    "\n",
    "from datetime import date, timedelta\n",
    "from fred_data.releases import get_releases\n",
    "\n",
    "archived_releases = get_releases(fred_client, realtime_start=date.today() - timedelta(days=60), realtime_end=date.today())\n",
    "archived_releases_df = archived_releases.releases\n",
    "\n",
    "# Get an idea of the amount/types of data stored in releases\n",
    "print(f\"Archived Release summary\")\n",
    "print(f\"Count: {archived_releases.count}\")\n",
    "print(f\"Realtime range: {archived_releases.realtime_start} to {archived_releases.realtime_end}, Duration: {archived_releases.realtime_end - archived_releases.realtime_start}\")\n",
    "archived_releases.releases.describe()"
   ]
  },
  {
   "cell_type": "code",
   "execution_count": null,
   "metadata": {},
   "outputs": [
    {
     "ename": "TypeError",
     "evalue": "get_release_dates() missing 2 required positional arguments: 'realtime_start' and 'realtime_end'",
     "output_type": "error",
     "traceback": [
      "\u001b[31m---------------------------------------------------------------------------\u001b[39m",
      "\u001b[31mTypeError\u001b[39m                                 Traceback (most recent call last)",
      "\u001b[36mCell\u001b[39m\u001b[36m \u001b[39m\u001b[32mIn[7]\u001b[39m\u001b[32m, line 4\u001b[39m\n\u001b[32m      1\u001b[39m \u001b[38;5;66;03m# Get release dates using default time range\u001b[39;00m\n\u001b[32m      2\u001b[39m \u001b[38;5;28;01mfrom\u001b[39;00m\u001b[38;5;250m \u001b[39m\u001b[34;01mfred_data\u001b[39;00m\u001b[34;01m.\u001b[39;00m\u001b[34;01mreleases\u001b[39;00m\u001b[38;5;250m \u001b[39m\u001b[38;5;28;01mimport\u001b[39;00m get_release_dates\n\u001b[32m----> \u001b[39m\u001b[32m4\u001b[39m release_dates = \u001b[43mget_release_dates\u001b[49m\u001b[43m(\u001b[49m\u001b[43mfred_client\u001b[49m\u001b[43m)\u001b[49m\n\u001b[32m      5\u001b[39m release_dates_df = release_dates.release_dates\n\u001b[32m      7\u001b[39m \u001b[38;5;28mprint\u001b[39m(\u001b[33mf\u001b[39m\u001b[33m\"\u001b[39m\u001b[33mRelease Dates Summary\u001b[39m\u001b[33m\"\u001b[39m)\n",
      "\u001b[31mTypeError\u001b[39m: get_release_dates() missing 2 required positional arguments: 'realtime_start' and 'realtime_end'"
     ]
    }
   ],
   "source": [
    "# Get release dates using default time range\n",
    "from fred_data.releases import get_release_dates\n",
    "\n",
    "release_dates = get_release_dates(fred_client)\n",
    "release_dates_df = release_dates.release_dates\n",
    "\n",
    "print(f\"Release Dates Summary\")\n",
    "print(f\"Count: {release_dates.count}\")\n",
    "print(f\"Realtime range: {release_dates.realtime_start} to {release_dates.realtime_end}, Duration: {release_dates.realtime_end - release_dates.realtime_start}\")\n",
    "release_dates_df.describe()"
   ]
  },
  {
   "cell_type": "code",
   "execution_count": 18,
   "metadata": {},
   "outputs": [
    {
     "ename": "KeyboardInterrupt",
     "evalue": "",
     "output_type": "error",
     "traceback": [
      "\u001b[31m---------------------------------------------------------------------------\u001b[39m",
      "\u001b[31mKeyboardInterrupt\u001b[39m                         Traceback (most recent call last)",
      "\u001b[36mCell\u001b[39m\u001b[36m \u001b[39m\u001b[32mIn[18]\u001b[39m\u001b[32m, line 4\u001b[39m\n\u001b[32m      1\u001b[39m \u001b[38;5;66;03m# Get release dates from the past into the future\u001b[39;00m\n\u001b[32m      2\u001b[39m \u001b[38;5;28;01mfrom\u001b[39;00m\u001b[38;5;250m \u001b[39m\u001b[34;01mfred_data\u001b[39;00m\u001b[34;01m.\u001b[39;00m\u001b[34;01mreleases\u001b[39;00m\u001b[38;5;250m \u001b[39m\u001b[38;5;28;01mimport\u001b[39;00m get_release_dates\n\u001b[32m----> \u001b[39m\u001b[32m4\u001b[39m release_dates_over_time = \u001b[43mget_release_dates\u001b[49m\u001b[43m(\u001b[49m\n\u001b[32m      5\u001b[39m \u001b[43m    \u001b[49m\u001b[43mfred_client\u001b[49m\u001b[43m,\u001b[49m\n\u001b[32m      6\u001b[39m \u001b[43m    \u001b[49m\u001b[43mrealtime_start\u001b[49m\u001b[43m=\u001b[49m\u001b[43mdate\u001b[49m\u001b[43m.\u001b[49m\u001b[43mtoday\u001b[49m\u001b[43m(\u001b[49m\u001b[43m)\u001b[49m\u001b[43m \u001b[49m\u001b[43m-\u001b[49m\u001b[43m \u001b[49m\u001b[43mtimedelta\u001b[49m\u001b[43m(\u001b[49m\u001b[43mdays\u001b[49m\u001b[43m=\u001b[49m\u001b[32;43m30\u001b[39;49m\u001b[43m)\u001b[49m\u001b[43m,\u001b[49m\n\u001b[32m      7\u001b[39m \u001b[43m    \u001b[49m\u001b[43mrealtime_end\u001b[49m\u001b[43m=\u001b[49m\u001b[43mdate\u001b[49m\u001b[43m.\u001b[49m\u001b[43mtoday\u001b[49m\u001b[43m(\u001b[49m\u001b[43m)\u001b[49m\u001b[43m \u001b[49m\u001b[43m+\u001b[49m\u001b[43m \u001b[49m\u001b[43mtimedelta\u001b[49m\u001b[43m(\u001b[49m\u001b[43mdays\u001b[49m\u001b[43m=\u001b[49m\u001b[32;43m10\u001b[39;49m\u001b[43m)\u001b[49m\u001b[43m,\u001b[49m\n\u001b[32m      8\u001b[39m \u001b[43m    \u001b[49m\u001b[43minclude_release_dates_with_no_data\u001b[49m\u001b[43m=\u001b[49m\u001b[38;5;28;43;01mTrue\u001b[39;49;00m\n\u001b[32m      9\u001b[39m \u001b[43m)\u001b[49m\n\u001b[32m     10\u001b[39m release_dates_over_time_df = release_dates_over_time.release_dates\n\u001b[32m     12\u001b[39m \u001b[38;5;28mprint\u001b[39m(\u001b[33mf\u001b[39m\u001b[33m\"\u001b[39m\u001b[33mRelease Dates Summary\u001b[39m\u001b[33m\"\u001b[39m)\n",
      "\u001b[36mFile \u001b[39m\u001b[32m~/workspace/fed/fred-data/src/fred_data/releases/release_dates.py:42\u001b[39m, in \u001b[36mget_release_dates\u001b[39m\u001b[34m(api_client, realtime_start, realtime_end, limit, include_release_dates_with_no_data)\u001b[39m\n\u001b[32m     34\u001b[39m \u001b[38;5;28;01mdef\u001b[39;00m\u001b[38;5;250m \u001b[39m\u001b[34mget_release_dates\u001b[39m(\n\u001b[32m     35\u001b[39m     api_client: FredApiClient,\n\u001b[32m     36\u001b[39m     *,\n\u001b[32m   (...)\u001b[39m\u001b[32m     40\u001b[39m     include_release_dates_with_no_data: \u001b[38;5;28mbool\u001b[39m = \u001b[38;5;28;01mFalse\u001b[39;00m,\n\u001b[32m     41\u001b[39m ) -> ReleaseDates:\n\u001b[32m---> \u001b[39m\u001b[32m42\u001b[39m     all_release_dates: ReleaseDates | \u001b[38;5;28;01mNone\u001b[39;00m = \u001b[38;5;28;01mNone\u001b[39;00m\n\u001b[32m     43\u001b[39m     \u001b[38;5;28;01mfor\u001b[39;00m release_dates_response \u001b[38;5;129;01min\u001b[39;00m api_client.get_all_pages(\n\u001b[32m     44\u001b[39m         url=\u001b[33m\"\u001b[39m\u001b[33mfred/releases/dates\u001b[39m\u001b[33m\"\u001b[39m,\n\u001b[32m     45\u001b[39m         finished=_is_release_response_empty,\n\u001b[32m   (...)\u001b[39m\u001b[32m     51\u001b[39m         },\n\u001b[32m     52\u001b[39m     ):\n\u001b[32m     53\u001b[39m         release_dates_json = get_json_on_success(release_dates_response)\n",
      "\u001b[36mFile \u001b[39m\u001b[32m<string>:11\u001b[39m, in \u001b[36mget_all_pages\u001b[39m\u001b[34m(self, url, finished, query_string_params, maximum_offset_allowed, **kwargs)\u001b[39m\n",
      "\u001b[36mFile \u001b[39m\u001b[32m~/workspace/fed/fred-data/src/fred_data/api/fred_api_client.py:21\u001b[39m, in \u001b[36mFredApiClient.get\u001b[39m\u001b[34m(self, url, query_string_params, **kwargs)\u001b[39m\n\u001b[32m     16\u001b[39m \u001b[38;5;250m\u001b[39m\u001b[33;03m\"\"\"Run a \"GET\" against the provided url.\u001b[39;00m\n\u001b[32m     17\u001b[39m \u001b[33;03m1. The API key placeholder will be replaced in the query string with the actual api key\u001b[39;00m\n\u001b[32m     18\u001b[39m \u001b[33;03m2. If the url is relative, prefix with the FRED API base url to convert into an absolute url\u001b[39;00m\n\u001b[32m     19\u001b[39m \u001b[33;03m\"\"\"\u001b[39;00m\n\u001b[32m     20\u001b[39m transformed_url: \u001b[38;5;28mstr\u001b[39m = get_url(url, query_string_params)\n\u001b[32m---> \u001b[39m\u001b[32m21\u001b[39m \u001b[38;5;28;01mreturn\u001b[39;00m \u001b[38;5;28;43mself\u001b[39;49m\u001b[43m.\u001b[49m\u001b[43m_pool_manager\u001b[49m\u001b[43m.\u001b[49m\u001b[43mrequest\u001b[49m\u001b[43m(\u001b[49m\u001b[33;43m\"\u001b[39;49m\u001b[33;43mGET\u001b[39;49m\u001b[33;43m\"\u001b[39;49m\u001b[43m,\u001b[49m\u001b[43m \u001b[49m\u001b[43mtransformed_url\u001b[49m\u001b[43m,\u001b[49m\u001b[43m \u001b[49m\u001b[43m*\u001b[49m\u001b[43m*\u001b[49m\u001b[43mkwargs\u001b[49m\u001b[43m)\u001b[49m\n",
      "\u001b[36mFile \u001b[39m\u001b[32m~/workspace/fed/fred-data/.venv/lib/python3.13/site-packages/urllib3/_request_methods.py:135\u001b[39m, in \u001b[36mRequestMethods.request\u001b[39m\u001b[34m(self, method, url, body, fields, headers, json, **urlopen_kw)\u001b[39m\n\u001b[32m    132\u001b[39m     urlopen_kw[\u001b[33m\"\u001b[39m\u001b[33mbody\u001b[39m\u001b[33m\"\u001b[39m] = body\n\u001b[32m    134\u001b[39m \u001b[38;5;28;01mif\u001b[39;00m method \u001b[38;5;129;01min\u001b[39;00m \u001b[38;5;28mself\u001b[39m._encode_url_methods:\n\u001b[32m--> \u001b[39m\u001b[32m135\u001b[39m     \u001b[38;5;28;01mreturn\u001b[39;00m \u001b[38;5;28;43mself\u001b[39;49m\u001b[43m.\u001b[49m\u001b[43mrequest_encode_url\u001b[49m\u001b[43m(\u001b[49m\n\u001b[32m    136\u001b[39m \u001b[43m        \u001b[49m\u001b[43mmethod\u001b[49m\u001b[43m,\u001b[49m\n\u001b[32m    137\u001b[39m \u001b[43m        \u001b[49m\u001b[43murl\u001b[49m\u001b[43m,\u001b[49m\n\u001b[32m    138\u001b[39m \u001b[43m        \u001b[49m\u001b[43mfields\u001b[49m\u001b[43m=\u001b[49m\u001b[43mfields\u001b[49m\u001b[43m,\u001b[49m\u001b[43m  \u001b[49m\u001b[38;5;66;43;03m# type: ignore[arg-type]\u001b[39;49;00m\n\u001b[32m    139\u001b[39m \u001b[43m        \u001b[49m\u001b[43mheaders\u001b[49m\u001b[43m=\u001b[49m\u001b[43mheaders\u001b[49m\u001b[43m,\u001b[49m\n\u001b[32m    140\u001b[39m \u001b[43m        \u001b[49m\u001b[43m*\u001b[49m\u001b[43m*\u001b[49m\u001b[43murlopen_kw\u001b[49m\u001b[43m,\u001b[49m\n\u001b[32m    141\u001b[39m \u001b[43m    \u001b[49m\u001b[43m)\u001b[49m\n\u001b[32m    142\u001b[39m \u001b[38;5;28;01melse\u001b[39;00m:\n\u001b[32m    143\u001b[39m     \u001b[38;5;28;01mreturn\u001b[39;00m \u001b[38;5;28mself\u001b[39m.request_encode_body(\n\u001b[32m    144\u001b[39m         method, url, fields=fields, headers=headers, **urlopen_kw\n\u001b[32m    145\u001b[39m     )\n",
      "\u001b[36mFile \u001b[39m\u001b[32m~/workspace/fed/fred-data/.venv/lib/python3.13/site-packages/urllib3/_request_methods.py:182\u001b[39m, in \u001b[36mRequestMethods.request_encode_url\u001b[39m\u001b[34m(self, method, url, fields, headers, **urlopen_kw)\u001b[39m\n\u001b[32m    179\u001b[39m \u001b[38;5;28;01mif\u001b[39;00m fields:\n\u001b[32m    180\u001b[39m     url += \u001b[33m\"\u001b[39m\u001b[33m?\u001b[39m\u001b[33m\"\u001b[39m + urlencode(fields)\n\u001b[32m--> \u001b[39m\u001b[32m182\u001b[39m \u001b[38;5;28;01mreturn\u001b[39;00m \u001b[38;5;28;43mself\u001b[39;49m\u001b[43m.\u001b[49m\u001b[43murlopen\u001b[49m\u001b[43m(\u001b[49m\u001b[43mmethod\u001b[49m\u001b[43m,\u001b[49m\u001b[43m \u001b[49m\u001b[43murl\u001b[49m\u001b[43m,\u001b[49m\u001b[43m \u001b[49m\u001b[43m*\u001b[49m\u001b[43m*\u001b[49m\u001b[43mextra_kw\u001b[49m\u001b[43m)\u001b[49m\n",
      "\u001b[36mFile \u001b[39m\u001b[32m~/workspace/fed/fred-data/.venv/lib/python3.13/site-packages/urllib3/poolmanager.py:443\u001b[39m, in \u001b[36mPoolManager.urlopen\u001b[39m\u001b[34m(self, method, url, redirect, **kw)\u001b[39m\n\u001b[32m    441\u001b[39m     response = conn.urlopen(method, url, **kw)\n\u001b[32m    442\u001b[39m \u001b[38;5;28;01melse\u001b[39;00m:\n\u001b[32m--> \u001b[39m\u001b[32m443\u001b[39m     response = \u001b[43mconn\u001b[49m\u001b[43m.\u001b[49m\u001b[43murlopen\u001b[49m\u001b[43m(\u001b[49m\u001b[43mmethod\u001b[49m\u001b[43m,\u001b[49m\u001b[43m \u001b[49m\u001b[43mu\u001b[49m\u001b[43m.\u001b[49m\u001b[43mrequest_uri\u001b[49m\u001b[43m,\u001b[49m\u001b[43m \u001b[49m\u001b[43m*\u001b[49m\u001b[43m*\u001b[49m\u001b[43mkw\u001b[49m\u001b[43m)\u001b[49m\n\u001b[32m    445\u001b[39m redirect_location = redirect \u001b[38;5;129;01mand\u001b[39;00m response.get_redirect_location()\n\u001b[32m    446\u001b[39m \u001b[38;5;28;01mif\u001b[39;00m \u001b[38;5;129;01mnot\u001b[39;00m redirect_location:\n",
      "\u001b[36mFile \u001b[39m\u001b[32m~/workspace/fed/fred-data/.venv/lib/python3.13/site-packages/urllib3/connectionpool.py:787\u001b[39m, in \u001b[36mHTTPConnectionPool.urlopen\u001b[39m\u001b[34m(self, method, url, body, headers, retries, redirect, assert_same_host, timeout, pool_timeout, release_conn, chunked, body_pos, preload_content, decode_content, **response_kw)\u001b[39m\n\u001b[32m    784\u001b[39m response_conn = conn \u001b[38;5;28;01mif\u001b[39;00m \u001b[38;5;129;01mnot\u001b[39;00m release_conn \u001b[38;5;28;01melse\u001b[39;00m \u001b[38;5;28;01mNone\u001b[39;00m\n\u001b[32m    786\u001b[39m \u001b[38;5;66;03m# Make the request on the HTTPConnection object\u001b[39;00m\n\u001b[32m--> \u001b[39m\u001b[32m787\u001b[39m response = \u001b[38;5;28;43mself\u001b[39;49m\u001b[43m.\u001b[49m\u001b[43m_make_request\u001b[49m\u001b[43m(\u001b[49m\n\u001b[32m    788\u001b[39m \u001b[43m    \u001b[49m\u001b[43mconn\u001b[49m\u001b[43m,\u001b[49m\n\u001b[32m    789\u001b[39m \u001b[43m    \u001b[49m\u001b[43mmethod\u001b[49m\u001b[43m,\u001b[49m\n\u001b[32m    790\u001b[39m \u001b[43m    \u001b[49m\u001b[43murl\u001b[49m\u001b[43m,\u001b[49m\n\u001b[32m    791\u001b[39m \u001b[43m    \u001b[49m\u001b[43mtimeout\u001b[49m\u001b[43m=\u001b[49m\u001b[43mtimeout_obj\u001b[49m\u001b[43m,\u001b[49m\n\u001b[32m    792\u001b[39m \u001b[43m    \u001b[49m\u001b[43mbody\u001b[49m\u001b[43m=\u001b[49m\u001b[43mbody\u001b[49m\u001b[43m,\u001b[49m\n\u001b[32m    793\u001b[39m \u001b[43m    \u001b[49m\u001b[43mheaders\u001b[49m\u001b[43m=\u001b[49m\u001b[43mheaders\u001b[49m\u001b[43m,\u001b[49m\n\u001b[32m    794\u001b[39m \u001b[43m    \u001b[49m\u001b[43mchunked\u001b[49m\u001b[43m=\u001b[49m\u001b[43mchunked\u001b[49m\u001b[43m,\u001b[49m\n\u001b[32m    795\u001b[39m \u001b[43m    \u001b[49m\u001b[43mretries\u001b[49m\u001b[43m=\u001b[49m\u001b[43mretries\u001b[49m\u001b[43m,\u001b[49m\n\u001b[32m    796\u001b[39m \u001b[43m    \u001b[49m\u001b[43mresponse_conn\u001b[49m\u001b[43m=\u001b[49m\u001b[43mresponse_conn\u001b[49m\u001b[43m,\u001b[49m\n\u001b[32m    797\u001b[39m \u001b[43m    \u001b[49m\u001b[43mpreload_content\u001b[49m\u001b[43m=\u001b[49m\u001b[43mpreload_content\u001b[49m\u001b[43m,\u001b[49m\n\u001b[32m    798\u001b[39m \u001b[43m    \u001b[49m\u001b[43mdecode_content\u001b[49m\u001b[43m=\u001b[49m\u001b[43mdecode_content\u001b[49m\u001b[43m,\u001b[49m\n\u001b[32m    799\u001b[39m \u001b[43m    \u001b[49m\u001b[43m*\u001b[49m\u001b[43m*\u001b[49m\u001b[43mresponse_kw\u001b[49m\u001b[43m,\u001b[49m\n\u001b[32m    800\u001b[39m \u001b[43m\u001b[49m\u001b[43m)\u001b[49m\n\u001b[32m    802\u001b[39m \u001b[38;5;66;03m# Everything went great!\u001b[39;00m\n\u001b[32m    803\u001b[39m clean_exit = \u001b[38;5;28;01mTrue\u001b[39;00m\n",
      "\u001b[36mFile \u001b[39m\u001b[32m~/workspace/fed/fred-data/.venv/lib/python3.13/site-packages/urllib3/connectionpool.py:534\u001b[39m, in \u001b[36mHTTPConnectionPool._make_request\u001b[39m\u001b[34m(self, conn, method, url, body, headers, retries, timeout, chunked, response_conn, preload_content, decode_content, enforce_content_length)\u001b[39m\n\u001b[32m    532\u001b[39m \u001b[38;5;66;03m# Receive the response from the server\u001b[39;00m\n\u001b[32m    533\u001b[39m \u001b[38;5;28;01mtry\u001b[39;00m:\n\u001b[32m--> \u001b[39m\u001b[32m534\u001b[39m     response = \u001b[43mconn\u001b[49m\u001b[43m.\u001b[49m\u001b[43mgetresponse\u001b[49m\u001b[43m(\u001b[49m\u001b[43m)\u001b[49m\n\u001b[32m    535\u001b[39m \u001b[38;5;28;01mexcept\u001b[39;00m (BaseSSLError, \u001b[38;5;167;01mOSError\u001b[39;00m) \u001b[38;5;28;01mas\u001b[39;00m e:\n\u001b[32m    536\u001b[39m     \u001b[38;5;28mself\u001b[39m._raise_timeout(err=e, url=url, timeout_value=read_timeout)\n",
      "\u001b[36mFile \u001b[39m\u001b[32m~/workspace/fed/fred-data/.venv/lib/python3.13/site-packages/urllib3/connection.py:516\u001b[39m, in \u001b[36mHTTPConnection.getresponse\u001b[39m\u001b[34m(self)\u001b[39m\n\u001b[32m    513\u001b[39m _shutdown = \u001b[38;5;28mgetattr\u001b[39m(\u001b[38;5;28mself\u001b[39m.sock, \u001b[33m\"\u001b[39m\u001b[33mshutdown\u001b[39m\u001b[33m\"\u001b[39m, \u001b[38;5;28;01mNone\u001b[39;00m)\n\u001b[32m    515\u001b[39m \u001b[38;5;66;03m# Get the response from http.client.HTTPConnection\u001b[39;00m\n\u001b[32m--> \u001b[39m\u001b[32m516\u001b[39m httplib_response = \u001b[38;5;28;43msuper\u001b[39;49m\u001b[43m(\u001b[49m\u001b[43m)\u001b[49m\u001b[43m.\u001b[49m\u001b[43mgetresponse\u001b[49m\u001b[43m(\u001b[49m\u001b[43m)\u001b[49m\n\u001b[32m    518\u001b[39m \u001b[38;5;28;01mtry\u001b[39;00m:\n\u001b[32m    519\u001b[39m     assert_header_parsing(httplib_response.msg)\n",
      "\u001b[36mFile \u001b[39m\u001b[32m~/.pyenv/versions/3.13.2/lib/python3.13/http/client.py:1430\u001b[39m, in \u001b[36mHTTPConnection.getresponse\u001b[39m\u001b[34m(self)\u001b[39m\n\u001b[32m   1428\u001b[39m \u001b[38;5;28;01mtry\u001b[39;00m:\n\u001b[32m   1429\u001b[39m     \u001b[38;5;28;01mtry\u001b[39;00m:\n\u001b[32m-> \u001b[39m\u001b[32m1430\u001b[39m         \u001b[43mresponse\u001b[49m\u001b[43m.\u001b[49m\u001b[43mbegin\u001b[49m\u001b[43m(\u001b[49m\u001b[43m)\u001b[49m\n\u001b[32m   1431\u001b[39m     \u001b[38;5;28;01mexcept\u001b[39;00m \u001b[38;5;167;01mConnectionError\u001b[39;00m:\n\u001b[32m   1432\u001b[39m         \u001b[38;5;28mself\u001b[39m.close()\n",
      "\u001b[36mFile \u001b[39m\u001b[32m~/.pyenv/versions/3.13.2/lib/python3.13/http/client.py:331\u001b[39m, in \u001b[36mHTTPResponse.begin\u001b[39m\u001b[34m(self)\u001b[39m\n\u001b[32m    329\u001b[39m \u001b[38;5;66;03m# read until we get a non-100 response\u001b[39;00m\n\u001b[32m    330\u001b[39m \u001b[38;5;28;01mwhile\u001b[39;00m \u001b[38;5;28;01mTrue\u001b[39;00m:\n\u001b[32m--> \u001b[39m\u001b[32m331\u001b[39m     version, status, reason = \u001b[38;5;28;43mself\u001b[39;49m\u001b[43m.\u001b[49m\u001b[43m_read_status\u001b[49m\u001b[43m(\u001b[49m\u001b[43m)\u001b[49m\n\u001b[32m    332\u001b[39m     \u001b[38;5;28;01mif\u001b[39;00m status != CONTINUE:\n\u001b[32m    333\u001b[39m         \u001b[38;5;28;01mbreak\u001b[39;00m\n",
      "\u001b[36mFile \u001b[39m\u001b[32m~/.pyenv/versions/3.13.2/lib/python3.13/http/client.py:292\u001b[39m, in \u001b[36mHTTPResponse._read_status\u001b[39m\u001b[34m(self)\u001b[39m\n\u001b[32m    291\u001b[39m \u001b[38;5;28;01mdef\u001b[39;00m\u001b[38;5;250m \u001b[39m\u001b[34m_read_status\u001b[39m(\u001b[38;5;28mself\u001b[39m):\n\u001b[32m--> \u001b[39m\u001b[32m292\u001b[39m     line = \u001b[38;5;28mstr\u001b[39m(\u001b[38;5;28;43mself\u001b[39;49m\u001b[43m.\u001b[49m\u001b[43mfp\u001b[49m\u001b[43m.\u001b[49m\u001b[43mreadline\u001b[49m\u001b[43m(\u001b[49m\u001b[43m_MAXLINE\u001b[49m\u001b[43m \u001b[49m\u001b[43m+\u001b[49m\u001b[43m \u001b[49m\u001b[32;43m1\u001b[39;49m\u001b[43m)\u001b[49m, \u001b[33m\"\u001b[39m\u001b[33miso-8859-1\u001b[39m\u001b[33m\"\u001b[39m)\n\u001b[32m    293\u001b[39m     \u001b[38;5;28;01mif\u001b[39;00m \u001b[38;5;28mlen\u001b[39m(line) > _MAXLINE:\n\u001b[32m    294\u001b[39m         \u001b[38;5;28;01mraise\u001b[39;00m LineTooLong(\u001b[33m\"\u001b[39m\u001b[33mstatus line\u001b[39m\u001b[33m\"\u001b[39m)\n",
      "\u001b[36mFile \u001b[39m\u001b[32m~/.pyenv/versions/3.13.2/lib/python3.13/socket.py:719\u001b[39m, in \u001b[36mSocketIO.readinto\u001b[39m\u001b[34m(self, b)\u001b[39m\n\u001b[32m    717\u001b[39m     \u001b[38;5;28;01mraise\u001b[39;00m \u001b[38;5;167;01mOSError\u001b[39;00m(\u001b[33m\"\u001b[39m\u001b[33mcannot read from timed out object\u001b[39m\u001b[33m\"\u001b[39m)\n\u001b[32m    718\u001b[39m \u001b[38;5;28;01mtry\u001b[39;00m:\n\u001b[32m--> \u001b[39m\u001b[32m719\u001b[39m     \u001b[38;5;28;01mreturn\u001b[39;00m \u001b[38;5;28;43mself\u001b[39;49m\u001b[43m.\u001b[49m\u001b[43m_sock\u001b[49m\u001b[43m.\u001b[49m\u001b[43mrecv_into\u001b[49m\u001b[43m(\u001b[49m\u001b[43mb\u001b[49m\u001b[43m)\u001b[49m\n\u001b[32m    720\u001b[39m \u001b[38;5;28;01mexcept\u001b[39;00m timeout:\n\u001b[32m    721\u001b[39m     \u001b[38;5;28mself\u001b[39m._timeout_occurred = \u001b[38;5;28;01mTrue\u001b[39;00m\n",
      "\u001b[36mFile \u001b[39m\u001b[32m~/.pyenv/versions/3.13.2/lib/python3.13/ssl.py:1304\u001b[39m, in \u001b[36mSSLSocket.recv_into\u001b[39m\u001b[34m(self, buffer, nbytes, flags)\u001b[39m\n\u001b[32m   1300\u001b[39m     \u001b[38;5;28;01mif\u001b[39;00m flags != \u001b[32m0\u001b[39m:\n\u001b[32m   1301\u001b[39m         \u001b[38;5;28;01mraise\u001b[39;00m \u001b[38;5;167;01mValueError\u001b[39;00m(\n\u001b[32m   1302\u001b[39m           \u001b[33m\"\u001b[39m\u001b[33mnon-zero flags not allowed in calls to recv_into() on \u001b[39m\u001b[38;5;132;01m%s\u001b[39;00m\u001b[33m\"\u001b[39m %\n\u001b[32m   1303\u001b[39m           \u001b[38;5;28mself\u001b[39m.\u001b[34m__class__\u001b[39m)\n\u001b[32m-> \u001b[39m\u001b[32m1304\u001b[39m     \u001b[38;5;28;01mreturn\u001b[39;00m \u001b[38;5;28;43mself\u001b[39;49m\u001b[43m.\u001b[49m\u001b[43mread\u001b[49m\u001b[43m(\u001b[49m\u001b[43mnbytes\u001b[49m\u001b[43m,\u001b[49m\u001b[43m \u001b[49m\u001b[43mbuffer\u001b[49m\u001b[43m)\u001b[49m\n\u001b[32m   1305\u001b[39m \u001b[38;5;28;01melse\u001b[39;00m:\n\u001b[32m   1306\u001b[39m     \u001b[38;5;28;01mreturn\u001b[39;00m \u001b[38;5;28msuper\u001b[39m().recv_into(buffer, nbytes, flags)\n",
      "\u001b[36mFile \u001b[39m\u001b[32m~/.pyenv/versions/3.13.2/lib/python3.13/ssl.py:1138\u001b[39m, in \u001b[36mSSLSocket.read\u001b[39m\u001b[34m(self, len, buffer)\u001b[39m\n\u001b[32m   1136\u001b[39m \u001b[38;5;28;01mtry\u001b[39;00m:\n\u001b[32m   1137\u001b[39m     \u001b[38;5;28;01mif\u001b[39;00m buffer \u001b[38;5;129;01mis\u001b[39;00m \u001b[38;5;129;01mnot\u001b[39;00m \u001b[38;5;28;01mNone\u001b[39;00m:\n\u001b[32m-> \u001b[39m\u001b[32m1138\u001b[39m         \u001b[38;5;28;01mreturn\u001b[39;00m \u001b[38;5;28;43mself\u001b[39;49m\u001b[43m.\u001b[49m\u001b[43m_sslobj\u001b[49m\u001b[43m.\u001b[49m\u001b[43mread\u001b[49m\u001b[43m(\u001b[49m\u001b[38;5;28;43mlen\u001b[39;49m\u001b[43m,\u001b[49m\u001b[43m \u001b[49m\u001b[43mbuffer\u001b[49m\u001b[43m)\u001b[49m\n\u001b[32m   1139\u001b[39m     \u001b[38;5;28;01melse\u001b[39;00m:\n\u001b[32m   1140\u001b[39m         \u001b[38;5;28;01mreturn\u001b[39;00m \u001b[38;5;28mself\u001b[39m._sslobj.read(\u001b[38;5;28mlen\u001b[39m)\n",
      "\u001b[31mKeyboardInterrupt\u001b[39m: "
     ]
    }
   ],
   "source": [
    "# Get release dates from the past into the future\n",
    "from fred_data.releases import get_release_dates\n",
    "\n",
    "release_dates_over_time = get_release_dates(\n",
    "    fred_client,\n",
    "    realtime_start=date.today() - timedelta(days=30),\n",
    "    realtime_end=date.today() + timedelta(days=10),\n",
    "    include_release_dates_with_no_data=True\n",
    ")\n",
    "release_dates_over_time_df = release_dates_over_time.release_dates\n",
    "\n",
    "print(f\"Release Dates Summary\")\n",
    "print(f\"Count: {release_dates_over_time.count}\")\n",
    "print(f\"Realtime range: {release_dates_over_time.realtime_start} to {release_dates_over_time.realtime_end}, Duration: {release_dates_over_time.realtime_end - release_dates_over_time.realtime_start}\")\n",
    "release_dates_over_time_df.describe()"
   ]
  }
 ],
 "metadata": {
  "kernelspec": {
   "display_name": ".venv",
   "language": "python",
   "name": "python3"
  },
  "language_info": {
   "codemirror_mode": {
    "name": "ipython",
    "version": 3
   },
   "file_extension": ".py",
   "mimetype": "text/x-python",
   "name": "python",
   "nbconvert_exporter": "python",
   "pygments_lexer": "ipython3",
   "version": "3.13.2"
  }
 },
 "nbformat": 4,
 "nbformat_minor": 2
}
