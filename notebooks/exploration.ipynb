{
 "cells": [
  {
   "cell_type": "markdown",
   "metadata": {},
   "source": [
    "# Exploration\n",
    "\n",
    "A notebook used to explore FRED data"
   ]
  },
  {
   "cell_type": "markdown",
   "metadata": {},
   "source": [
    "## Setup    "
   ]
  },
  {
   "cell_type": "code",
   "execution_count": null,
   "metadata": {},
   "outputs": [],
   "source": [
    "# Load environment variables using dotenv\n",
    "\n",
    "from dotenv import load_dotenv\n",
    "\n",
    "load_dotenv()"
   ]
  },
  {
   "cell_type": "code",
   "execution_count": null,
   "metadata": {},
   "outputs": [],
   "source": [
    "# Setup autoreload of modules\n",
    "import importlib\n"
   ]
  },
  {
   "cell_type": "code",
   "execution_count": null,
   "metadata": {},
   "outputs": [],
   "source": [
    "from update_path import ensure_src_in_path\n",
    "\n",
    "ensure_src_in_path()"
   ]
  },
  {
   "cell_type": "code",
   "execution_count": null,
   "metadata": {},
   "outputs": [],
   "source": [
    "# Get the FRED API client\n",
    "\n",
    "from fred_data import api\n",
    "\n",
    "importlib.reload(api)\n",
    "\n",
    "fred_client = api.FredApiClient()"
   ]
  },
  {
   "cell_type": "code",
   "execution_count": null,
   "metadata": {},
   "outputs": [],
   "source": [
    "## Run everything above this cell for setup"
   ]
  },
  {
   "cell_type": "markdown",
   "metadata": {},
   "source": [
    "## Data Exploration"
   ]
  },
  {
   "cell_type": "markdown",
   "metadata": {},
   "source": [
    "### Releases"
   ]
  },
  {
   "cell_type": "code",
   "execution_count": 26,
   "metadata": {},
   "outputs": [
    {
     "name": "stdout",
     "output_type": "stream",
     "text": [
      "Release summary\n",
      "Count: 315\n",
      "Realtime range: 2025-03-12 to 2025-03-12, Duration: 0:00:00\n"
     ]
    },
    {
     "data": {
      "text/html": [
       "<div><style>\n",
       ".dataframe > thead > tr,\n",
       ".dataframe > tbody > tr {\n",
       "  text-align: right;\n",
       "  white-space: pre-wrap;\n",
       "}\n",
       "</style>\n",
       "<small>shape: (9, 8)</small><table border=\"1\" class=\"dataframe\"><thead><tr><th>statistic</th><th>id</th><th>realtime_start</th><th>realtime_end</th><th>name</th><th>press_release</th><th>link</th><th>notes</th></tr><tr><td>str</td><td>f64</td><td>str</td><td>str</td><td>str</td><td>f64</td><td>str</td><td>str</td></tr></thead><tbody><tr><td>&quot;count&quot;</td><td>315.0</td><td>&quot;315&quot;</td><td>&quot;315&quot;</td><td>&quot;315&quot;</td><td>315.0</td><td>&quot;276&quot;</td><td>&quot;123&quot;</td></tr><tr><td>&quot;null_count&quot;</td><td>0.0</td><td>&quot;0&quot;</td><td>&quot;0&quot;</td><td>&quot;0&quot;</td><td>0.0</td><td>&quot;39&quot;</td><td>&quot;192&quot;</td></tr><tr><td>&quot;mean&quot;</td><td>288.031746</td><td>&quot;2025-03-12 00:00:00&quot;</td><td>&quot;2025-03-12 00:00:00&quot;</td><td>null</td><td>0.542857</td><td>null</td><td>null</td></tr><tr><td>&quot;std&quot;</td><td>152.199623</td><td>null</td><td>null</td><td>null</td><td>null</td><td>null</td><td>null</td></tr><tr><td>&quot;min&quot;</td><td>9.0</td><td>&quot;2025-03-12&quot;</td><td>&quot;2025-03-12&quot;</td><td>&quot;A Millennium of Macroeconomic …</td><td>0.0</td><td>&quot;http://data.imf.org/?sk=3E40CD…</td><td>&quot;AMERIBOR® (American Interbank …</td></tr><tr><td>&quot;25%&quot;</td><td>172.0</td><td>&quot;2025-03-12&quot;</td><td>&quot;2025-03-12&quot;</td><td>null</td><td>null</td><td>null</td><td>null</td></tr><tr><td>&quot;50%&quot;</td><td>301.0</td><td>&quot;2025-03-12&quot;</td><td>&quot;2025-03-12&quot;</td><td>null</td><td>null</td><td>null</td><td>null</td></tr><tr><td>&quot;75%&quot;</td><td>406.0</td><td>&quot;2025-03-12&quot;</td><td>&quot;2025-03-12&quot;</td><td>null</td><td>null</td><td>null</td><td>null</td></tr><tr><td>&quot;max&quot;</td><td>769.0</td><td>&quot;2025-03-12&quot;</td><td>&quot;2025-03-12&quot;</td><td>&quot;Zillow Home Value Index (ZHVI)&quot;</td><td>1.0</td><td>&quot;https://www2.optimalblue.com/o…</td><td>&quot;With the issue dated January 8…</td></tr></tbody></table></div>"
      ],
      "text/plain": [
       "shape: (9, 8)\n",
       "┌────────────┬────────────┬────────────┬───────────┬───────────┬───────────┬───────────┬───────────┐\n",
       "│ statistic  ┆ id         ┆ realtime_s ┆ realtime_ ┆ name      ┆ press_rel ┆ link      ┆ notes     │\n",
       "│ ---        ┆ ---        ┆ tart       ┆ end       ┆ ---       ┆ ease      ┆ ---       ┆ ---       │\n",
       "│ str        ┆ f64        ┆ ---        ┆ ---       ┆ str       ┆ ---       ┆ str       ┆ str       │\n",
       "│            ┆            ┆ str        ┆ str       ┆           ┆ f64       ┆           ┆           │\n",
       "╞════════════╪════════════╪════════════╪═══════════╪═══════════╪═══════════╪═══════════╪═══════════╡\n",
       "│ count      ┆ 315.0      ┆ 315        ┆ 315       ┆ 315       ┆ 315.0     ┆ 276       ┆ 123       │\n",
       "│ null_count ┆ 0.0        ┆ 0          ┆ 0         ┆ 0         ┆ 0.0       ┆ 39        ┆ 192       │\n",
       "│ mean       ┆ 288.031746 ┆ 2025-03-12 ┆ 2025-03-1 ┆ null      ┆ 0.542857  ┆ null      ┆ null      │\n",
       "│            ┆            ┆ 00:00:00   ┆ 2         ┆           ┆           ┆           ┆           │\n",
       "│            ┆            ┆            ┆ 00:00:00  ┆           ┆           ┆           ┆           │\n",
       "│ std        ┆ 152.199623 ┆ null       ┆ null      ┆ null      ┆ null      ┆ null      ┆ null      │\n",
       "│ min        ┆ 9.0        ┆ 2025-03-12 ┆ 2025-03-1 ┆ A Millenn ┆ 0.0       ┆ http://da ┆ AMERIBOR® │\n",
       "│            ┆            ┆            ┆ 2         ┆ ium of    ┆           ┆ ta.imf.or ┆ (American │\n",
       "│            ┆            ┆            ┆           ┆ Macroecon ┆           ┆ g/?sk=3E4 ┆ Interbank │\n",
       "│            ┆            ┆            ┆           ┆ omic …    ┆           ┆ 0CD…      ┆ …         │\n",
       "│ 25%        ┆ 172.0      ┆ 2025-03-12 ┆ 2025-03-1 ┆ null      ┆ null      ┆ null      ┆ null      │\n",
       "│            ┆            ┆            ┆ 2         ┆           ┆           ┆           ┆           │\n",
       "│ 50%        ┆ 301.0      ┆ 2025-03-12 ┆ 2025-03-1 ┆ null      ┆ null      ┆ null      ┆ null      │\n",
       "│            ┆            ┆            ┆ 2         ┆           ┆           ┆           ┆           │\n",
       "│ 75%        ┆ 406.0      ┆ 2025-03-12 ┆ 2025-03-1 ┆ null      ┆ null      ┆ null      ┆ null      │\n",
       "│            ┆            ┆            ┆ 2         ┆           ┆           ┆           ┆           │\n",
       "│ max        ┆ 769.0      ┆ 2025-03-12 ┆ 2025-03-1 ┆ Zillow    ┆ 1.0       ┆ https://w ┆ With the  │\n",
       "│            ┆            ┆            ┆ 2         ┆ Home      ┆           ┆ ww2.optim ┆ issue     │\n",
       "│            ┆            ┆            ┆           ┆ Value     ┆           ┆ alblue.co ┆ dated     │\n",
       "│            ┆            ┆            ┆           ┆ Index     ┆           ┆ m/o…      ┆ January   │\n",
       "│            ┆            ┆            ┆           ┆ (ZHVI)    ┆           ┆           ┆ 8…        │\n",
       "└────────────┴────────────┴────────────┴───────────┴───────────┴───────────┴───────────┴───────────┘"
      ]
     },
     "execution_count": 26,
     "metadata": {},
     "output_type": "execute_result"
    }
   ],
   "source": [
    "# Fetch all current releases\n",
    "from fred_data.releases import get_releases\n",
    "\n",
    "releases = get_releases(fred_client)\n",
    "releases_df = releases.releases\n",
    "\n",
    "# Get an idea of the amount/types of data stored in releases\n",
    "print(f\"Release summary\")\n",
    "print(f\"Count: {releases.count}\")\n",
    "print(f\"Realtime range: {releases.realtime_start} to {releases.realtime_end}, Duration: {releases.realtime_end - releases.realtime_start}\")\n",
    "releases.releases.describe()"
   ]
  },
  {
   "cell_type": "code",
   "execution_count": 29,
   "metadata": {},
   "outputs": [
    {
     "name": "stdout",
     "output_type": "stream",
     "text": [
      "Archived Release summary\n",
      "Count: 309\n",
      "Realtime range: 2025-01-11 to 2025-03-12, Duration: 60 days, 0:00:00\n"
     ]
    },
    {
     "data": {
      "text/html": [
       "<div><style>\n",
       ".dataframe > thead > tr,\n",
       ".dataframe > tbody > tr {\n",
       "  text-align: right;\n",
       "  white-space: pre-wrap;\n",
       "}\n",
       "</style>\n",
       "<small>shape: (9, 8)</small><table border=\"1\" class=\"dataframe\"><thead><tr><th>statistic</th><th>id</th><th>realtime_start</th><th>realtime_end</th><th>name</th><th>press_release</th><th>link</th><th>notes</th></tr><tr><td>str</td><td>f64</td><td>str</td><td>str</td><td>str</td><td>f64</td><td>str</td><td>str</td></tr></thead><tbody><tr><td>&quot;count&quot;</td><td>309.0</td><td>&quot;309&quot;</td><td>&quot;309&quot;</td><td>&quot;309&quot;</td><td>309.0</td><td>&quot;270&quot;</td><td>&quot;121&quot;</td></tr><tr><td>&quot;null_count&quot;</td><td>0.0</td><td>&quot;0&quot;</td><td>&quot;0&quot;</td><td>&quot;0&quot;</td><td>0.0</td><td>&quot;39&quot;</td><td>&quot;188&quot;</td></tr><tr><td>&quot;mean&quot;</td><td>287.640777</td><td>&quot;2025-01-11 00:00:00&quot;</td><td>&quot;2025-03-12 00:00:00&quot;</td><td>null</td><td>0.540453</td><td>null</td><td>null</td></tr><tr><td>&quot;std&quot;</td><td>152.758267</td><td>null</td><td>null</td><td>null</td><td>null</td><td>null</td><td>null</td></tr><tr><td>&quot;min&quot;</td><td>9.0</td><td>&quot;2025-01-11&quot;</td><td>&quot;2025-03-12&quot;</td><td>&quot;A Millennium of Macroeconomic …</td><td>0.0</td><td>&quot;http://data.imf.org/?sk=3E40CD…</td><td>&quot;AMERIBOR® (American Interbank …</td></tr><tr><td>&quot;25%&quot;</td><td>170.0</td><td>&quot;2025-01-11&quot;</td><td>&quot;2025-03-12&quot;</td><td>null</td><td>null</td><td>null</td><td>null</td></tr><tr><td>&quot;50%&quot;</td><td>302.0</td><td>&quot;2025-01-11&quot;</td><td>&quot;2025-03-12&quot;</td><td>null</td><td>null</td><td>null</td><td>null</td></tr><tr><td>&quot;75%&quot;</td><td>403.0</td><td>&quot;2025-01-11&quot;</td><td>&quot;2025-03-12&quot;</td><td>null</td><td>null</td><td>null</td><td>null</td></tr><tr><td>&quot;max&quot;</td><td>769.0</td><td>&quot;2025-01-11&quot;</td><td>&quot;2025-03-12&quot;</td><td>&quot;Zillow Home Value Index (ZHVI)&quot;</td><td>1.0</td><td>&quot;https://www2.optimalblue.com/o…</td><td>&quot;With the issue dated January 8…</td></tr></tbody></table></div>"
      ],
      "text/plain": [
       "shape: (9, 8)\n",
       "┌────────────┬────────────┬────────────┬───────────┬───────────┬───────────┬───────────┬───────────┐\n",
       "│ statistic  ┆ id         ┆ realtime_s ┆ realtime_ ┆ name      ┆ press_rel ┆ link      ┆ notes     │\n",
       "│ ---        ┆ ---        ┆ tart       ┆ end       ┆ ---       ┆ ease      ┆ ---       ┆ ---       │\n",
       "│ str        ┆ f64        ┆ ---        ┆ ---       ┆ str       ┆ ---       ┆ str       ┆ str       │\n",
       "│            ┆            ┆ str        ┆ str       ┆           ┆ f64       ┆           ┆           │\n",
       "╞════════════╪════════════╪════════════╪═══════════╪═══════════╪═══════════╪═══════════╪═══════════╡\n",
       "│ count      ┆ 309.0      ┆ 309        ┆ 309       ┆ 309       ┆ 309.0     ┆ 270       ┆ 121       │\n",
       "│ null_count ┆ 0.0        ┆ 0          ┆ 0         ┆ 0         ┆ 0.0       ┆ 39        ┆ 188       │\n",
       "│ mean       ┆ 287.640777 ┆ 2025-01-11 ┆ 2025-03-1 ┆ null      ┆ 0.540453  ┆ null      ┆ null      │\n",
       "│            ┆            ┆ 00:00:00   ┆ 2         ┆           ┆           ┆           ┆           │\n",
       "│            ┆            ┆            ┆ 00:00:00  ┆           ┆           ┆           ┆           │\n",
       "│ std        ┆ 152.758267 ┆ null       ┆ null      ┆ null      ┆ null      ┆ null      ┆ null      │\n",
       "│ min        ┆ 9.0        ┆ 2025-01-11 ┆ 2025-03-1 ┆ A Millenn ┆ 0.0       ┆ http://da ┆ AMERIBOR® │\n",
       "│            ┆            ┆            ┆ 2         ┆ ium of    ┆           ┆ ta.imf.or ┆ (American │\n",
       "│            ┆            ┆            ┆           ┆ Macroecon ┆           ┆ g/?sk=3E4 ┆ Interbank │\n",
       "│            ┆            ┆            ┆           ┆ omic …    ┆           ┆ 0CD…      ┆ …         │\n",
       "│ 25%        ┆ 170.0      ┆ 2025-01-11 ┆ 2025-03-1 ┆ null      ┆ null      ┆ null      ┆ null      │\n",
       "│            ┆            ┆            ┆ 2         ┆           ┆           ┆           ┆           │\n",
       "│ 50%        ┆ 302.0      ┆ 2025-01-11 ┆ 2025-03-1 ┆ null      ┆ null      ┆ null      ┆ null      │\n",
       "│            ┆            ┆            ┆ 2         ┆           ┆           ┆           ┆           │\n",
       "│ 75%        ┆ 403.0      ┆ 2025-01-11 ┆ 2025-03-1 ┆ null      ┆ null      ┆ null      ┆ null      │\n",
       "│            ┆            ┆            ┆ 2         ┆           ┆           ┆           ┆           │\n",
       "│ max        ┆ 769.0      ┆ 2025-01-11 ┆ 2025-03-1 ┆ Zillow    ┆ 1.0       ┆ https://w ┆ With the  │\n",
       "│            ┆            ┆            ┆ 2         ┆ Home      ┆           ┆ ww2.optim ┆ issue     │\n",
       "│            ┆            ┆            ┆           ┆ Value     ┆           ┆ alblue.co ┆ dated     │\n",
       "│            ┆            ┆            ┆           ┆ Index     ┆           ┆ m/o…      ┆ January   │\n",
       "│            ┆            ┆            ┆           ┆ (ZHVI)    ┆           ┆           ┆ 8…        │\n",
       "└────────────┴────────────┴────────────┴───────────┴───────────┴───────────┴───────────┴───────────┘"
      ]
     },
     "execution_count": 29,
     "metadata": {},
     "output_type": "execute_result"
    }
   ],
   "source": [
    "# Fetch older and current releases\n",
    "\n",
    "from datetime import date, timedelta\n",
    "from fred_data.releases import get_releases\n",
    "\n",
    "archived_releases = get_releases(fred_client, realtime_start=date.today() - timedelta(days=60), realtime_end=date.today())\n",
    "archived_releases_df = archived_releases.releases\n",
    "\n",
    "# Get an idea of the amount/types of data stored in releases\n",
    "print(f\"Archived Release summary\")\n",
    "print(f\"Count: {archived_releases.count}\")\n",
    "print(f\"Realtime range: {archived_releases.realtime_start} to {archived_releases.realtime_end}, Duration: {archived_releases.realtime_end - archived_releases.realtime_start}\")\n",
    "archived_releases.releases.describe()"
   ]
  },
  {
   "cell_type": "markdown",
   "metadata": {},
   "source": [
    "### Release Dates"
   ]
  },
  {
   "cell_type": "code",
   "execution_count": 28,
   "metadata": {},
   "outputs": [
    {
     "name": "stdout",
     "output_type": "stream",
     "text": [
      "Release Dates Summary\n",
      "Count: 77\n",
      "Realtime range: 2025-03-12 to 2025-03-13, Duration: 1 day, 0:00:00\n"
     ]
    },
    {
     "data": {
      "text/html": [
       "<div><style>\n",
       ".dataframe > thead > tr,\n",
       ".dataframe > tbody > tr {\n",
       "  text-align: right;\n",
       "  white-space: pre-wrap;\n",
       "}\n",
       "</style>\n",
       "<small>shape: (9, 5)</small><table border=\"1\" class=\"dataframe\"><thead><tr><th>statistic</th><th>release_id</th><th>release_name</th><th>release_last_updated</th><th>date</th></tr><tr><td>str</td><td>f64</td><td>str</td><td>str</td><td>str</td></tr></thead><tbody><tr><td>&quot;count&quot;</td><td>77.0</td><td>&quot;77&quot;</td><td>&quot;77&quot;</td><td>&quot;77&quot;</td></tr><tr><td>&quot;null_count&quot;</td><td>0.0</td><td>&quot;0&quot;</td><td>&quot;0&quot;</td><td>&quot;0&quot;</td></tr><tr><td>&quot;mean&quot;</td><td>317.337662</td><td>null</td><td>&quot;2025-03-09 09:27:41.428571+00:…</td><td>&quot;2025-03-12 10:54:32.727000&quot;</td></tr><tr><td>&quot;std&quot;</td><td>158.092046</td><td>null</td><td>null</td><td>null</td></tr><tr><td>&quot;min&quot;</td><td>10.0</td><td>&quot;Average Price Data&quot;</td><td>&quot;2025-01-07 20:50:46+00:00&quot;</td><td>&quot;2025-03-12&quot;</td></tr><tr><td>&quot;25%&quot;</td><td>197.0</td><td>null</td><td>&quot;2025-03-12 00:04:03+00:00&quot;</td><td>&quot;2025-03-12&quot;</td></tr><tr><td>&quot;50%&quot;</td><td>328.0</td><td>null</td><td>&quot;2025-03-12 12:02:03+00:00&quot;</td><td>&quot;2025-03-12&quot;</td></tr><tr><td>&quot;75%&quot;</td><td>445.0</td><td>null</td><td>&quot;2025-03-12 13:54:07+00:00&quot;</td><td>&quot;2025-03-13&quot;</td></tr><tr><td>&quot;max&quot;</td><td>736.0</td><td>&quot;Z.1 Financial Accounts of the …</td><td>&quot;2025-03-12 20:16:58+00:00&quot;</td><td>&quot;2025-03-13&quot;</td></tr></tbody></table></div>"
      ],
      "text/plain": [
       "shape: (9, 5)\n",
       "┌────────────┬────────────┬────────────────────┬──────────────────────┬────────────────────────────┐\n",
       "│ statistic  ┆ release_id ┆ release_name       ┆ release_last_updated ┆ date                       │\n",
       "│ ---        ┆ ---        ┆ ---                ┆ ---                  ┆ ---                        │\n",
       "│ str        ┆ f64        ┆ str                ┆ str                  ┆ str                        │\n",
       "╞════════════╪════════════╪════════════════════╪══════════════════════╪════════════════════════════╡\n",
       "│ count      ┆ 77.0       ┆ 77                 ┆ 77                   ┆ 77                         │\n",
       "│ null_count ┆ 0.0        ┆ 0                  ┆ 0                    ┆ 0                          │\n",
       "│ mean       ┆ 317.337662 ┆ null               ┆ 2025-03-09           ┆ 2025-03-12 10:54:32.727000 │\n",
       "│            ┆            ┆                    ┆ 09:27:41.428571+00:… ┆                            │\n",
       "│ std        ┆ 158.092046 ┆ null               ┆ null                 ┆ null                       │\n",
       "│ min        ┆ 10.0       ┆ Average Price Data ┆ 2025-01-07           ┆ 2025-03-12                 │\n",
       "│            ┆            ┆                    ┆ 20:50:46+00:00       ┆                            │\n",
       "│ 25%        ┆ 197.0      ┆ null               ┆ 2025-03-12           ┆ 2025-03-12                 │\n",
       "│            ┆            ┆                    ┆ 00:04:03+00:00       ┆                            │\n",
       "│ 50%        ┆ 328.0      ┆ null               ┆ 2025-03-12           ┆ 2025-03-12                 │\n",
       "│            ┆            ┆                    ┆ 12:02:03+00:00       ┆                            │\n",
       "│ 75%        ┆ 445.0      ┆ null               ┆ 2025-03-12           ┆ 2025-03-13                 │\n",
       "│            ┆            ┆                    ┆ 13:54:07+00:00       ┆                            │\n",
       "│ max        ┆ 736.0      ┆ Z.1 Financial      ┆ 2025-03-12           ┆ 2025-03-13                 │\n",
       "│            ┆            ┆ Accounts of the …  ┆ 20:16:58+00:00       ┆                            │\n",
       "└────────────┴────────────┴────────────────────┴──────────────────────┴────────────────────────────┘"
      ]
     },
     "execution_count": 28,
     "metadata": {},
     "output_type": "execute_result"
    }
   ],
   "source": [
    "# Get release dates for today and tomorrow\n",
    "from datetime import date, timedelta\n",
    "\n",
    "from fred_data.releases import get_release_dates\n",
    "\n",
    "today = date.today()\n",
    "tomorrow = today + timedelta(days=1)\n",
    "release_dates = get_release_dates(fred_client, realtime_start=today, realtime_end=tomorrow, include_release_dates_with_no_data=True)\n",
    "release_dates_df = release_dates.release_dates\n",
    "\n",
    "print(f\"Release Dates Summary\")\n",
    "print(f\"Count: {release_dates.count}\")\n",
    "print(f\"Realtime range: {release_dates.realtime_start} to {release_dates.realtime_end}, Duration: {release_dates.realtime_end - release_dates.realtime_start}\")\n",
    "release_dates_df.describe()"
   ]
  },
  {
   "cell_type": "code",
   "execution_count": 27,
   "metadata": {},
   "outputs": [
    {
     "name": "stdout",
     "output_type": "stream",
     "text": [
      "Release Dates Summary\n",
      "Count: 1007\n",
      "Realtime range: 2025-02-10 to 2025-03-22, Duration: 40 days, 0:00:00\n"
     ]
    },
    {
     "data": {
      "text/html": [
       "<div><style>\n",
       ".dataframe > thead > tr,\n",
       ".dataframe > tbody > tr {\n",
       "  text-align: right;\n",
       "  white-space: pre-wrap;\n",
       "}\n",
       "</style>\n",
       "<small>shape: (9, 5)</small><table border=\"1\" class=\"dataframe\"><thead><tr><th>statistic</th><th>release_id</th><th>release_name</th><th>release_last_updated</th><th>date</th></tr><tr><td>str</td><td>f64</td><td>str</td><td>str</td><td>str</td></tr></thead><tbody><tr><td>&quot;count&quot;</td><td>1007.0</td><td>&quot;1007&quot;</td><td>&quot;1007&quot;</td><td>&quot;1007&quot;</td></tr><tr><td>&quot;null_count&quot;</td><td>0.0</td><td>&quot;0&quot;</td><td>&quot;0&quot;</td><td>&quot;0&quot;</td></tr><tr><td>&quot;mean&quot;</td><td>306.695134</td><td>null</td><td>&quot;2025-03-08 13:55:28.601787+00:…</td><td>&quot;2025-03-01 11:19:14.716000&quot;</td></tr><tr><td>&quot;std&quot;</td><td>155.308676</td><td>null</td><td>null</td><td>null</td></tr><tr><td>&quot;min&quot;</td><td>9.0</td><td>&quot;ADP National Employment Report&quot;</td><td>&quot;2023-11-28 21:36:04+00:00&quot;</td><td>&quot;2025-02-10&quot;</td></tr><tr><td>&quot;25%&quot;</td><td>198.0</td><td>null</td><td>&quot;2025-03-11 20:30:35+00:00&quot;</td><td>&quot;2025-02-20&quot;</td></tr><tr><td>&quot;50%&quot;</td><td>326.0</td><td>null</td><td>&quot;2025-03-12 12:01:08+00:00&quot;</td><td>&quot;2025-03-01&quot;</td></tr><tr><td>&quot;75%&quot;</td><td>445.0</td><td>null</td><td>&quot;2025-03-12 13:02:05+00:00&quot;</td><td>&quot;2025-03-12&quot;</td></tr><tr><td>&quot;max&quot;</td><td>769.0</td><td>&quot;Zillow Home Value Index (ZHVI)&quot;</td><td>&quot;2025-03-12 20:16:58+00:00&quot;</td><td>&quot;2025-03-22&quot;</td></tr></tbody></table></div>"
      ],
      "text/plain": [
       "shape: (9, 5)\n",
       "┌────────────┬────────────┬───────────────────┬──────────────────────┬─────────────────────────────┐\n",
       "│ statistic  ┆ release_id ┆ release_name      ┆ release_last_updated ┆ date                        │\n",
       "│ ---        ┆ ---        ┆ ---               ┆ ---                  ┆ ---                         │\n",
       "│ str        ┆ f64        ┆ str               ┆ str                  ┆ str                         │\n",
       "╞════════════╪════════════╪═══════════════════╪══════════════════════╪═════════════════════════════╡\n",
       "│ count      ┆ 1007.0     ┆ 1007              ┆ 1007                 ┆ 1007                        │\n",
       "│ null_count ┆ 0.0        ┆ 0                 ┆ 0                    ┆ 0                           │\n",
       "│ mean       ┆ 306.695134 ┆ null              ┆ 2025-03-08           ┆ 2025-03-01 11:19:14.716000  │\n",
       "│            ┆            ┆                   ┆ 13:55:28.601787+00:… ┆                             │\n",
       "│ std        ┆ 155.308676 ┆ null              ┆ null                 ┆ null                        │\n",
       "│ min        ┆ 9.0        ┆ ADP National      ┆ 2023-11-28           ┆ 2025-02-10                  │\n",
       "│            ┆            ┆ Employment Report ┆ 21:36:04+00:00       ┆                             │\n",
       "│ 25%        ┆ 198.0      ┆ null              ┆ 2025-03-11           ┆ 2025-02-20                  │\n",
       "│            ┆            ┆                   ┆ 20:30:35+00:00       ┆                             │\n",
       "│ 50%        ┆ 326.0      ┆ null              ┆ 2025-03-12           ┆ 2025-03-01                  │\n",
       "│            ┆            ┆                   ┆ 12:01:08+00:00       ┆                             │\n",
       "│ 75%        ┆ 445.0      ┆ null              ┆ 2025-03-12           ┆ 2025-03-12                  │\n",
       "│            ┆            ┆                   ┆ 13:02:05+00:00       ┆                             │\n",
       "│ max        ┆ 769.0      ┆ Zillow Home Value ┆ 2025-03-12           ┆ 2025-03-22                  │\n",
       "│            ┆            ┆ Index (ZHVI)      ┆ 20:16:58+00:00       ┆                             │\n",
       "└────────────┴────────────┴───────────────────┴──────────────────────┴─────────────────────────────┘"
      ]
     },
     "execution_count": 27,
     "metadata": {},
     "output_type": "execute_result"
    }
   ],
   "source": [
    "# Get release dates from the past into the future\n",
    "from datetime import date, timedelta\n",
    "\n",
    "from fred_data.releases import get_release_dates\n",
    "\n",
    "release_dates_over_time = get_release_dates(\n",
    "    fred_client,\n",
    "    realtime_start=date.today() - timedelta(days=30),\n",
    "    realtime_end=date.today() + timedelta(days=10),\n",
    "    include_release_dates_with_no_data=True\n",
    ")\n",
    "release_dates_over_time_df = release_dates_over_time.release_dates\n",
    "\n",
    "print(f\"Release Dates Summary\")\n",
    "print(f\"Count: {release_dates_over_time.count}\")\n",
    "print(f\"Realtime range: {release_dates_over_time.realtime_start} to {release_dates_over_time.realtime_end}, Duration: {release_dates_over_time.realtime_end - release_dates_over_time.realtime_start}\")\n",
    "release_dates_over_time_df.describe()"
   ]
  },
  {
   "cell_type": "markdown",
   "metadata": {},
   "source": [
    "### Series"
   ]
  },
  {
   "cell_type": "code",
   "execution_count": null,
   "metadata": {},
   "outputs": [
    {
     "name": "stdout",
     "output_type": "stream",
     "text": [
      "Search Results\n",
      "Count: 1186\n",
      "Realtime range: 2025-03-12 to 2025-03-12, Duration: 0:00:00\n"
     ]
    },
    {
     "data": {
      "text/html": [
       "<div><style>\n",
       ".dataframe > thead > tr,\n",
       ".dataframe > tbody > tr {\n",
       "  text-align: right;\n",
       "  white-space: pre-wrap;\n",
       "}\n",
       "</style>\n",
       "<small>shape: (9, 17)</small><table border=\"1\" class=\"dataframe\"><thead><tr><th>statistic</th><th>id</th><th>realtime_start</th><th>realtime_end</th><th>title</th><th>observation_start</th><th>observation_end</th><th>frequency</th><th>frequency_short</th><th>units</th><th>units_short</th><th>seasonal_adjustment</th><th>seasonal_adjustment_short</th><th>last_updated</th><th>popularity</th><th>group_popularity</th><th>notes</th></tr><tr><td>str</td><td>str</td><td>str</td><td>str</td><td>str</td><td>str</td><td>str</td><td>str</td><td>str</td><td>str</td><td>str</td><td>str</td><td>str</td><td>str</td><td>f64</td><td>f64</td><td>str</td></tr></thead><tbody><tr><td>&quot;count&quot;</td><td>&quot;1186&quot;</td><td>&quot;1186&quot;</td><td>&quot;1186&quot;</td><td>&quot;1186&quot;</td><td>&quot;1186&quot;</td><td>&quot;1186&quot;</td><td>&quot;1186&quot;</td><td>&quot;1186&quot;</td><td>&quot;1186&quot;</td><td>&quot;1186&quot;</td><td>&quot;1186&quot;</td><td>&quot;1186&quot;</td><td>&quot;1186&quot;</td><td>1186.0</td><td>1186.0</td><td>&quot;1144&quot;</td></tr><tr><td>&quot;null_count&quot;</td><td>&quot;0&quot;</td><td>&quot;0&quot;</td><td>&quot;0&quot;</td><td>&quot;0&quot;</td><td>&quot;0&quot;</td><td>&quot;0&quot;</td><td>&quot;0&quot;</td><td>&quot;0&quot;</td><td>&quot;0&quot;</td><td>&quot;0&quot;</td><td>&quot;0&quot;</td><td>&quot;0&quot;</td><td>&quot;0&quot;</td><td>0.0</td><td>0.0</td><td>&quot;42&quot;</td></tr><tr><td>&quot;mean&quot;</td><td>null</td><td>&quot;2025-03-12 00:00:00&quot;</td><td>&quot;2025-03-12 00:00:00&quot;</td><td>null</td><td>&quot;1991-12-04 16:44:06.880000&quot;</td><td>&quot;2023-10-16 01:37:07.993000&quot;</td><td>null</td><td>null</td><td>null</td><td>null</td><td>null</td><td>null</td><td>&quot;2024-08-22 18:46:53.230185+00:…</td><td>0.934233</td><td>1.515177</td><td>null</td></tr><tr><td>&quot;std&quot;</td><td>null</td><td>null</td><td>null</td><td>null</td><td>null</td><td>null</td><td>null</td><td>null</td><td>null</td><td>null</td><td>null</td><td>null</td><td>null</td><td>1.887304</td><td>2.997358</td><td>null</td></tr><tr><td>&quot;min&quot;</td><td>&quot;ALLMARGATIL&quot;</td><td>&quot;2025-03-12&quot;</td><td>&quot;2025-03-12&quot;</td><td>&quot;All Marginally Attached Worker…</td><td>&quot;1948-01-01&quot;</td><td>&quot;2008-12-01&quot;</td><td>&quot;Annual&quot;</td><td>&quot;A&quot;</td><td>&quot;Dollars&quot;</td><td>&quot;$&quot;</td><td>&quot;Not Seasonally Adjusted&quot;</td><td>&quot;NSA&quot;</td><td>&quot;2009-03-12 20:01:08+00:00&quot;</td><td>0.0</td><td>0.0</td><td>&quot;A state&#x27;s labor-force particip…</td></tr><tr><td>&quot;25%&quot;</td><td>null</td><td>&quot;2025-03-12&quot;</td><td>&quot;2025-03-12&quot;</td><td>null</td><td>&quot;1990-01-01&quot;</td><td>&quot;2023-01-01&quot;</td><td>null</td><td>null</td><td>null</td><td>null</td><td>null</td><td>null</td><td>&quot;2024-05-01 15:51:12+00:00&quot;</td><td>0.0</td><td>1.0</td><td>null</td></tr><tr><td>&quot;50%&quot;</td><td>null</td><td>&quot;2025-03-12&quot;</td><td>&quot;2025-03-12&quot;</td><td>null</td><td>&quot;1990-01-01&quot;</td><td>&quot;2023-10-01&quot;</td><td>null</td><td>null</td><td>null</td><td>null</td><td>null</td><td>null</td><td>&quot;2024-12-12 15:31:53+00:00&quot;</td><td>1.0</td><td>1.0</td><td>null</td></tr><tr><td>&quot;75%&quot;</td><td>null</td><td>&quot;2025-03-12&quot;</td><td>&quot;2025-03-12&quot;</td><td>null</td><td>&quot;1990-01-01&quot;</td><td>&quot;2024-12-01&quot;</td><td>null</td><td>null</td><td>null</td><td>null</td><td>null</td><td>null</td><td>&quot;2025-02-05 16:20:02+00:00&quot;</td><td>1.0</td><td>1.0</td><td>null</td></tr><tr><td>&quot;max&quot;</td><td>&quot;WIKENO9URN&quot;</td><td>&quot;2025-03-12&quot;</td><td>&quot;2025-03-12&quot;</td><td>&quot;Unemployment Rate in Woodford …</td><td>&quot;2020-04-04&quot;</td><td>&quot;2025-03-01&quot;</td><td>&quot;Weekly, Ending Saturday&quot;</td><td>&quot;W&quot;</td><td>&quot;Thousands of Dollars&quot;</td><td>&quot;Thous. of $&quot;</td><td>&quot;Smoothed Seasonally Adjusted&quot;</td><td>&quot;SSA&quot;</td><td>&quot;2025-03-07 13:37:06+00:00&quot;</td><td>31.0</td><td>39.0</td><td>&quot;U-6 unemployment rate, as defi…</td></tr></tbody></table></div>"
      ],
      "text/plain": [
       "shape: (9, 17)\n",
       "┌───────────┬───────────┬───────────┬───────────┬───┬───────────┬───────────┬───────────┬──────────┐\n",
       "│ statistic ┆ id        ┆ realtime_ ┆ realtime_ ┆ … ┆ last_upda ┆ popularit ┆ group_pop ┆ notes    │\n",
       "│ ---       ┆ ---       ┆ start     ┆ end       ┆   ┆ ted       ┆ y         ┆ ularity   ┆ ---      │\n",
       "│ str       ┆ str       ┆ ---       ┆ ---       ┆   ┆ ---       ┆ ---       ┆ ---       ┆ str      │\n",
       "│           ┆           ┆ str       ┆ str       ┆   ┆ str       ┆ f64       ┆ f64       ┆          │\n",
       "╞═══════════╪═══════════╪═══════════╪═══════════╪═══╪═══════════╪═══════════╪═══════════╪══════════╡\n",
       "│ count     ┆ 1186      ┆ 1186      ┆ 1186      ┆ … ┆ 1186      ┆ 1186.0    ┆ 1186.0    ┆ 1144     │\n",
       "│ null_coun ┆ 0         ┆ 0         ┆ 0         ┆ … ┆ 0         ┆ 0.0       ┆ 0.0       ┆ 42       │\n",
       "│ t         ┆           ┆           ┆           ┆   ┆           ┆           ┆           ┆          │\n",
       "│ mean      ┆ null      ┆ 2025-03-1 ┆ 2025-03-1 ┆ … ┆ 2024-08-2 ┆ 0.934233  ┆ 1.515177  ┆ null     │\n",
       "│           ┆           ┆ 2         ┆ 2         ┆   ┆ 2 18:46:5 ┆           ┆           ┆          │\n",
       "│           ┆           ┆ 00:00:00  ┆ 00:00:00  ┆   ┆ 3.230185+ ┆           ┆           ┆          │\n",
       "│           ┆           ┆           ┆           ┆   ┆ 00:…      ┆           ┆           ┆          │\n",
       "│ std       ┆ null      ┆ null      ┆ null      ┆ … ┆ null      ┆ 1.887304  ┆ 2.997358  ┆ null     │\n",
       "│ min       ┆ ALLMARGAT ┆ 2025-03-1 ┆ 2025-03-1 ┆ … ┆ 2009-03-1 ┆ 0.0       ┆ 0.0       ┆ A        │\n",
       "│           ┆ IL        ┆ 2         ┆ 2         ┆   ┆ 2 20:01:0 ┆           ┆           ┆ state's  │\n",
       "│           ┆           ┆           ┆           ┆   ┆ 8+00:00   ┆           ┆           ┆ labor-fo │\n",
       "│           ┆           ┆           ┆           ┆   ┆           ┆           ┆           ┆ rce part │\n",
       "│           ┆           ┆           ┆           ┆   ┆           ┆           ┆           ┆ icip…    │\n",
       "│ 25%       ┆ null      ┆ 2025-03-1 ┆ 2025-03-1 ┆ … ┆ 2024-05-0 ┆ 0.0       ┆ 1.0       ┆ null     │\n",
       "│           ┆           ┆ 2         ┆ 2         ┆   ┆ 1 15:51:1 ┆           ┆           ┆          │\n",
       "│           ┆           ┆           ┆           ┆   ┆ 2+00:00   ┆           ┆           ┆          │\n",
       "│ 50%       ┆ null      ┆ 2025-03-1 ┆ 2025-03-1 ┆ … ┆ 2024-12-1 ┆ 1.0       ┆ 1.0       ┆ null     │\n",
       "│           ┆           ┆ 2         ┆ 2         ┆   ┆ 2 15:31:5 ┆           ┆           ┆          │\n",
       "│           ┆           ┆           ┆           ┆   ┆ 3+00:00   ┆           ┆           ┆          │\n",
       "│ 75%       ┆ null      ┆ 2025-03-1 ┆ 2025-03-1 ┆ … ┆ 2025-02-0 ┆ 1.0       ┆ 1.0       ┆ null     │\n",
       "│           ┆           ┆ 2         ┆ 2         ┆   ┆ 5 16:20:0 ┆           ┆           ┆          │\n",
       "│           ┆           ┆           ┆           ┆   ┆ 2+00:00   ┆           ┆           ┆          │\n",
       "│ max       ┆ WIKENO9UR ┆ 2025-03-1 ┆ 2025-03-1 ┆ … ┆ 2025-03-0 ┆ 31.0      ┆ 39.0      ┆ U-6 unem │\n",
       "│           ┆ N         ┆ 2         ┆ 2         ┆   ┆ 7 13:37:0 ┆           ┆           ┆ ployment │\n",
       "│           ┆           ┆           ┆           ┆   ┆ 6+00:00   ┆           ┆           ┆ rate, as │\n",
       "│           ┆           ┆           ┆           ┆   ┆           ┆           ┆           ┆ defi…    │\n",
       "└───────────┴───────────┴───────────┴───────────┴───┴───────────┴───────────┴───────────┴──────────┘"
      ]
     },
     "execution_count": 24,
     "metadata": {},
     "output_type": "execute_result"
    }
   ],
   "source": [
    "# Get series search results from the API\n",
    "import polars as pl\n",
    "\n",
    "from fred_data.series import get_search_results\n",
    "\n",
    "search_text = \"illinois unemployment\"\n",
    "\n",
    "search_results = get_search_results(\n",
    "    fred_client,\n",
    "    search_text=search_text,\n",
    ")\n",
    "search_results_df = search_results.series\n",
    "\n",
    "print(f\"Search Results\")\n",
    "print(f\"Count: {search_results.count}\")\n",
    "print(f\"Realtime range: {search_results.realtime_start} to {search_results.realtime_end}, Duration: {search_results.realtime_end - search_results.realtime_start}\")\n",
    "search_results_df_summary = pl.DataFrame() if search_results_df.is_empty() else search_results_df.describe()\n",
    "search_results_df_summary"
   ]
  }
 ],
 "metadata": {
  "kernelspec": {
   "display_name": ".venv",
   "language": "python",
   "name": "python3"
  },
  "language_info": {
   "codemirror_mode": {
    "name": "ipython",
    "version": 3
   },
   "file_extension": ".py",
   "mimetype": "text/x-python",
   "name": "python",
   "nbconvert_exporter": "python",
   "pygments_lexer": "ipython3",
   "version": "3.13.2"
  }
 },
 "nbformat": 4,
 "nbformat_minor": 2
}
