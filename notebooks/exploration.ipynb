{
 "cells": [
  {
   "cell_type": "markdown",
   "metadata": {},
   "source": [
    "# Exploration\n",
    "\n",
    "A notebook used to explore FRED data"
   ]
  },
  {
   "cell_type": "markdown",
   "metadata": {},
   "source": [
    "## Setup    "
   ]
  },
  {
   "cell_type": "code",
   "execution_count": 1,
   "metadata": {},
   "outputs": [
    {
     "data": {
      "text/plain": [
       "True"
      ]
     },
     "execution_count": 1,
     "metadata": {},
     "output_type": "execute_result"
    }
   ],
   "source": [
    "# Load environment variables using dotenv\n",
    "\n",
    "from dotenv import load_dotenv\n",
    "\n",
    "load_dotenv()"
   ]
  },
  {
   "cell_type": "code",
   "execution_count": 2,
   "metadata": {},
   "outputs": [],
   "source": [
    "# Setup autoreload of modules\n",
    "%load_ext autoreload\n",
    "%autoreload 2\n"
   ]
  },
  {
   "cell_type": "code",
   "execution_count": 3,
   "metadata": {},
   "outputs": [
    {
     "name": "stdout",
     "output_type": "stream",
     "text": [
      "/Users/coryhuebner/workspace/fed/fred-data/src already in path\n"
     ]
    }
   ],
   "source": [
    "from update_path import ensure_src_in_path\n",
    "\n",
    "ensure_src_in_path()"
   ]
  },
  {
   "cell_type": "code",
   "execution_count": 4,
   "metadata": {},
   "outputs": [],
   "source": [
    "# Get the FRED API client\n",
    "\n",
    "from fred_data import api\n",
    "\n",
    "%autoreload 2\n",
    "\n",
    "fred_client = api.FredApiClient()"
   ]
  },
  {
   "cell_type": "markdown",
   "metadata": {},
   "source": [
    "## Data Exploration"
   ]
  },
  {
   "cell_type": "code",
   "execution_count": 5,
   "metadata": {},
   "outputs": [
    {
     "name": "stdout",
     "output_type": "stream",
     "text": [
      "Release summary\n",
      "Count: 315\n",
      "Realtime range: 2025-03-11 to 2025-03-11, Duration: 0:00:00\n"
     ]
    },
    {
     "data": {
      "text/html": [
       "<div><style>\n",
       ".dataframe > thead > tr,\n",
       ".dataframe > tbody > tr {\n",
       "  text-align: right;\n",
       "  white-space: pre-wrap;\n",
       "}\n",
       "</style>\n",
       "<small>shape: (9, 8)</small><table border=\"1\" class=\"dataframe\"><thead><tr><th>statistic</th><th>id</th><th>realtime_start</th><th>realtime_end</th><th>name</th><th>press_release</th><th>link</th><th>notes</th></tr><tr><td>str</td><td>f64</td><td>str</td><td>str</td><td>str</td><td>f64</td><td>str</td><td>str</td></tr></thead><tbody><tr><td>&quot;count&quot;</td><td>315.0</td><td>&quot;315&quot;</td><td>&quot;315&quot;</td><td>&quot;315&quot;</td><td>315.0</td><td>&quot;276&quot;</td><td>&quot;123&quot;</td></tr><tr><td>&quot;null_count&quot;</td><td>0.0</td><td>&quot;0&quot;</td><td>&quot;0&quot;</td><td>&quot;0&quot;</td><td>0.0</td><td>&quot;39&quot;</td><td>&quot;192&quot;</td></tr><tr><td>&quot;mean&quot;</td><td>288.031746</td><td>&quot;2025-03-11 00:00:00&quot;</td><td>&quot;2025-03-11 00:00:00&quot;</td><td>null</td><td>0.542857</td><td>null</td><td>null</td></tr><tr><td>&quot;std&quot;</td><td>152.199623</td><td>null</td><td>null</td><td>null</td><td>null</td><td>null</td><td>null</td></tr><tr><td>&quot;min&quot;</td><td>9.0</td><td>&quot;2025-03-11&quot;</td><td>&quot;2025-03-11&quot;</td><td>&quot;A Millennium of Macroeconomic …</td><td>0.0</td><td>&quot;http://data.imf.org/?sk=3E40CD…</td><td>&quot;AMERIBOR® (American Interbank …</td></tr><tr><td>&quot;25%&quot;</td><td>172.0</td><td>&quot;2025-03-11&quot;</td><td>&quot;2025-03-11&quot;</td><td>null</td><td>null</td><td>null</td><td>null</td></tr><tr><td>&quot;50%&quot;</td><td>301.0</td><td>&quot;2025-03-11&quot;</td><td>&quot;2025-03-11&quot;</td><td>null</td><td>null</td><td>null</td><td>null</td></tr><tr><td>&quot;75%&quot;</td><td>406.0</td><td>&quot;2025-03-11&quot;</td><td>&quot;2025-03-11&quot;</td><td>null</td><td>null</td><td>null</td><td>null</td></tr><tr><td>&quot;max&quot;</td><td>769.0</td><td>&quot;2025-03-11&quot;</td><td>&quot;2025-03-11&quot;</td><td>&quot;Zillow Home Value Index (ZHVI)&quot;</td><td>1.0</td><td>&quot;https://www2.optimalblue.com/o…</td><td>&quot;With the issue dated January 8…</td></tr></tbody></table></div>"
      ],
      "text/plain": [
       "shape: (9, 8)\n",
       "┌────────────┬────────────┬────────────┬───────────┬───────────┬───────────┬───────────┬───────────┐\n",
       "│ statistic  ┆ id         ┆ realtime_s ┆ realtime_ ┆ name      ┆ press_rel ┆ link      ┆ notes     │\n",
       "│ ---        ┆ ---        ┆ tart       ┆ end       ┆ ---       ┆ ease      ┆ ---       ┆ ---       │\n",
       "│ str        ┆ f64        ┆ ---        ┆ ---       ┆ str       ┆ ---       ┆ str       ┆ str       │\n",
       "│            ┆            ┆ str        ┆ str       ┆           ┆ f64       ┆           ┆           │\n",
       "╞════════════╪════════════╪════════════╪═══════════╪═══════════╪═══════════╪═══════════╪═══════════╡\n",
       "│ count      ┆ 315.0      ┆ 315        ┆ 315       ┆ 315       ┆ 315.0     ┆ 276       ┆ 123       │\n",
       "│ null_count ┆ 0.0        ┆ 0          ┆ 0         ┆ 0         ┆ 0.0       ┆ 39        ┆ 192       │\n",
       "│ mean       ┆ 288.031746 ┆ 2025-03-11 ┆ 2025-03-1 ┆ null      ┆ 0.542857  ┆ null      ┆ null      │\n",
       "│            ┆            ┆ 00:00:00   ┆ 1         ┆           ┆           ┆           ┆           │\n",
       "│            ┆            ┆            ┆ 00:00:00  ┆           ┆           ┆           ┆           │\n",
       "│ std        ┆ 152.199623 ┆ null       ┆ null      ┆ null      ┆ null      ┆ null      ┆ null      │\n",
       "│ min        ┆ 9.0        ┆ 2025-03-11 ┆ 2025-03-1 ┆ A Millenn ┆ 0.0       ┆ http://da ┆ AMERIBOR® │\n",
       "│            ┆            ┆            ┆ 1         ┆ ium of    ┆           ┆ ta.imf.or ┆ (American │\n",
       "│            ┆            ┆            ┆           ┆ Macroecon ┆           ┆ g/?sk=3E4 ┆ Interbank │\n",
       "│            ┆            ┆            ┆           ┆ omic …    ┆           ┆ 0CD…      ┆ …         │\n",
       "│ 25%        ┆ 172.0      ┆ 2025-03-11 ┆ 2025-03-1 ┆ null      ┆ null      ┆ null      ┆ null      │\n",
       "│            ┆            ┆            ┆ 1         ┆           ┆           ┆           ┆           │\n",
       "│ 50%        ┆ 301.0      ┆ 2025-03-11 ┆ 2025-03-1 ┆ null      ┆ null      ┆ null      ┆ null      │\n",
       "│            ┆            ┆            ┆ 1         ┆           ┆           ┆           ┆           │\n",
       "│ 75%        ┆ 406.0      ┆ 2025-03-11 ┆ 2025-03-1 ┆ null      ┆ null      ┆ null      ┆ null      │\n",
       "│            ┆            ┆            ┆ 1         ┆           ┆           ┆           ┆           │\n",
       "│ max        ┆ 769.0      ┆ 2025-03-11 ┆ 2025-03-1 ┆ Zillow    ┆ 1.0       ┆ https://w ┆ With the  │\n",
       "│            ┆            ┆            ┆ 1         ┆ Home      ┆           ┆ ww2.optim ┆ issue     │\n",
       "│            ┆            ┆            ┆           ┆ Value     ┆           ┆ alblue.co ┆ dated     │\n",
       "│            ┆            ┆            ┆           ┆ Index     ┆           ┆ m/o…      ┆ January   │\n",
       "│            ┆            ┆            ┆           ┆ (ZHVI)    ┆           ┆           ┆ 8…        │\n",
       "└────────────┴────────────┴────────────┴───────────┴───────────┴───────────┴───────────┴───────────┘"
      ]
     },
     "execution_count": 5,
     "metadata": {},
     "output_type": "execute_result"
    }
   ],
   "source": [
    "# Fetch all current releases\n",
    "from fred_data.releases import get_releases\n",
    "\n",
    "releases = get_releases(fred_client)\n",
    "releases_df = releases.releases\n",
    "\n",
    "# Get an idea of the amount/types of data stored in releases\n",
    "print(f\"Release summary\")\n",
    "print(f\"Count: {releases.count}\")\n",
    "print(f\"Realtime range: {releases.realtime_start} to {releases.realtime_end}, Duration: {releases.realtime_end - releases.realtime_start}\")\n",
    "releases.releases.describe()"
   ]
  },
  {
   "cell_type": "code",
   "execution_count": 6,
   "metadata": {},
   "outputs": [
    {
     "name": "stdout",
     "output_type": "stream",
     "text": [
      "Archived Release summary\n",
      "Count: 309\n",
      "Realtime range: 2025-01-10 to 2025-03-11, Duration: 60 days, 0:00:00\n"
     ]
    },
    {
     "data": {
      "text/html": [
       "<div><style>\n",
       ".dataframe > thead > tr,\n",
       ".dataframe > tbody > tr {\n",
       "  text-align: right;\n",
       "  white-space: pre-wrap;\n",
       "}\n",
       "</style>\n",
       "<small>shape: (9, 8)</small><table border=\"1\" class=\"dataframe\"><thead><tr><th>statistic</th><th>id</th><th>realtime_start</th><th>realtime_end</th><th>name</th><th>press_release</th><th>link</th><th>notes</th></tr><tr><td>str</td><td>f64</td><td>str</td><td>str</td><td>str</td><td>f64</td><td>str</td><td>str</td></tr></thead><tbody><tr><td>&quot;count&quot;</td><td>309.0</td><td>&quot;309&quot;</td><td>&quot;309&quot;</td><td>&quot;309&quot;</td><td>309.0</td><td>&quot;270&quot;</td><td>&quot;121&quot;</td></tr><tr><td>&quot;null_count&quot;</td><td>0.0</td><td>&quot;0&quot;</td><td>&quot;0&quot;</td><td>&quot;0&quot;</td><td>0.0</td><td>&quot;39&quot;</td><td>&quot;188&quot;</td></tr><tr><td>&quot;mean&quot;</td><td>287.640777</td><td>&quot;2025-01-10 00:00:00&quot;</td><td>&quot;2025-03-11 00:00:00&quot;</td><td>null</td><td>0.540453</td><td>null</td><td>null</td></tr><tr><td>&quot;std&quot;</td><td>152.758267</td><td>null</td><td>null</td><td>null</td><td>null</td><td>null</td><td>null</td></tr><tr><td>&quot;min&quot;</td><td>9.0</td><td>&quot;2025-01-10&quot;</td><td>&quot;2025-03-11&quot;</td><td>&quot;A Millennium of Macroeconomic …</td><td>0.0</td><td>&quot;http://data.imf.org/?sk=3E40CD…</td><td>&quot;AMERIBOR® (American Interbank …</td></tr><tr><td>&quot;25%&quot;</td><td>170.0</td><td>&quot;2025-01-10&quot;</td><td>&quot;2025-03-11&quot;</td><td>null</td><td>null</td><td>null</td><td>null</td></tr><tr><td>&quot;50%&quot;</td><td>302.0</td><td>&quot;2025-01-10&quot;</td><td>&quot;2025-03-11&quot;</td><td>null</td><td>null</td><td>null</td><td>null</td></tr><tr><td>&quot;75%&quot;</td><td>403.0</td><td>&quot;2025-01-10&quot;</td><td>&quot;2025-03-11&quot;</td><td>null</td><td>null</td><td>null</td><td>null</td></tr><tr><td>&quot;max&quot;</td><td>769.0</td><td>&quot;2025-01-10&quot;</td><td>&quot;2025-03-11&quot;</td><td>&quot;Zillow Home Value Index (ZHVI)&quot;</td><td>1.0</td><td>&quot;https://www2.optimalblue.com/o…</td><td>&quot;With the issue dated January 8…</td></tr></tbody></table></div>"
      ],
      "text/plain": [
       "shape: (9, 8)\n",
       "┌────────────┬────────────┬────────────┬───────────┬───────────┬───────────┬───────────┬───────────┐\n",
       "│ statistic  ┆ id         ┆ realtime_s ┆ realtime_ ┆ name      ┆ press_rel ┆ link      ┆ notes     │\n",
       "│ ---        ┆ ---        ┆ tart       ┆ end       ┆ ---       ┆ ease      ┆ ---       ┆ ---       │\n",
       "│ str        ┆ f64        ┆ ---        ┆ ---       ┆ str       ┆ ---       ┆ str       ┆ str       │\n",
       "│            ┆            ┆ str        ┆ str       ┆           ┆ f64       ┆           ┆           │\n",
       "╞════════════╪════════════╪════════════╪═══════════╪═══════════╪═══════════╪═══════════╪═══════════╡\n",
       "│ count      ┆ 309.0      ┆ 309        ┆ 309       ┆ 309       ┆ 309.0     ┆ 270       ┆ 121       │\n",
       "│ null_count ┆ 0.0        ┆ 0          ┆ 0         ┆ 0         ┆ 0.0       ┆ 39        ┆ 188       │\n",
       "│ mean       ┆ 287.640777 ┆ 2025-01-10 ┆ 2025-03-1 ┆ null      ┆ 0.540453  ┆ null      ┆ null      │\n",
       "│            ┆            ┆ 00:00:00   ┆ 1         ┆           ┆           ┆           ┆           │\n",
       "│            ┆            ┆            ┆ 00:00:00  ┆           ┆           ┆           ┆           │\n",
       "│ std        ┆ 152.758267 ┆ null       ┆ null      ┆ null      ┆ null      ┆ null      ┆ null      │\n",
       "│ min        ┆ 9.0        ┆ 2025-01-10 ┆ 2025-03-1 ┆ A Millenn ┆ 0.0       ┆ http://da ┆ AMERIBOR® │\n",
       "│            ┆            ┆            ┆ 1         ┆ ium of    ┆           ┆ ta.imf.or ┆ (American │\n",
       "│            ┆            ┆            ┆           ┆ Macroecon ┆           ┆ g/?sk=3E4 ┆ Interbank │\n",
       "│            ┆            ┆            ┆           ┆ omic …    ┆           ┆ 0CD…      ┆ …         │\n",
       "│ 25%        ┆ 170.0      ┆ 2025-01-10 ┆ 2025-03-1 ┆ null      ┆ null      ┆ null      ┆ null      │\n",
       "│            ┆            ┆            ┆ 1         ┆           ┆           ┆           ┆           │\n",
       "│ 50%        ┆ 302.0      ┆ 2025-01-10 ┆ 2025-03-1 ┆ null      ┆ null      ┆ null      ┆ null      │\n",
       "│            ┆            ┆            ┆ 1         ┆           ┆           ┆           ┆           │\n",
       "│ 75%        ┆ 403.0      ┆ 2025-01-10 ┆ 2025-03-1 ┆ null      ┆ null      ┆ null      ┆ null      │\n",
       "│            ┆            ┆            ┆ 1         ┆           ┆           ┆           ┆           │\n",
       "│ max        ┆ 769.0      ┆ 2025-01-10 ┆ 2025-03-1 ┆ Zillow    ┆ 1.0       ┆ https://w ┆ With the  │\n",
       "│            ┆            ┆            ┆ 1         ┆ Home      ┆           ┆ ww2.optim ┆ issue     │\n",
       "│            ┆            ┆            ┆           ┆ Value     ┆           ┆ alblue.co ┆ dated     │\n",
       "│            ┆            ┆            ┆           ┆ Index     ┆           ┆ m/o…      ┆ January   │\n",
       "│            ┆            ┆            ┆           ┆ (ZHVI)    ┆           ┆           ┆ 8…        │\n",
       "└────────────┴────────────┴────────────┴───────────┴───────────┴───────────┴───────────┴───────────┘"
      ]
     },
     "execution_count": 6,
     "metadata": {},
     "output_type": "execute_result"
    }
   ],
   "source": [
    "# Fetch older and current releases\n",
    "\n",
    "from datetime import date, timedelta\n",
    "from fred_data.releases import get_releases\n",
    "\n",
    "archived_releases = get_releases(fred_client, realtime_start=date.today() - timedelta(days=60), realtime_end=date.today())\n",
    "archived_releases_df = archived_releases.releases\n",
    "\n",
    "# Get an idea of the amount/types of data stored in releases\n",
    "print(f\"Archived Release summary\")\n",
    "print(f\"Count: {archived_releases.count}\")\n",
    "print(f\"Realtime range: {archived_releases.realtime_start} to {archived_releases.realtime_end}, Duration: {archived_releases.realtime_end - archived_releases.realtime_start}\")\n",
    "archived_releases.releases.describe()"
   ]
  },
  {
   "cell_type": "code",
   "execution_count": 9,
   "metadata": {},
   "outputs": [
    {
     "name": "stdout",
     "output_type": "stream",
     "text": [
      "Release Dates Summary\n",
      "Count: 1640\n",
      "Realtime range: 2025-01-01 to 9999-12-31, Duration: 2912807 days, 0:00:00\n"
     ]
    },
    {
     "data": {
      "text/html": [
       "<div><style>\n",
       ".dataframe > thead > tr,\n",
       ".dataframe > tbody > tr {\n",
       "  text-align: right;\n",
       "  white-space: pre-wrap;\n",
       "}\n",
       "</style>\n",
       "<small>shape: (9, 4)</small><table border=\"1\" class=\"dataframe\"><thead><tr><th>statistic</th><th>release_id</th><th>release_name</th><th>date</th></tr><tr><td>str</td><td>f64</td><td>str</td><td>str</td></tr></thead><tbody><tr><td>&quot;count&quot;</td><td>1000.0</td><td>&quot;1000&quot;</td><td>&quot;1000&quot;</td></tr><tr><td>&quot;null_count&quot;</td><td>0.0</td><td>&quot;0&quot;</td><td>&quot;0&quot;</td></tr><tr><td>&quot;mean&quot;</td><td>303.097</td><td>null</td><td>&quot;2025-02-18 08:39:50.400000&quot;</td></tr><tr><td>&quot;std&quot;</td><td>153.895716</td><td>null</td><td>null</td></tr><tr><td>&quot;min&quot;</td><td>9.0</td><td>&quot;ADP National Employment Report&quot;</td><td>&quot;2025-01-29&quot;</td></tr><tr><td>&quot;25%&quot;</td><td>190.0</td><td>null</td><td>&quot;2025-02-07&quot;</td></tr><tr><td>&quot;50%&quot;</td><td>316.0</td><td>null</td><td>&quot;2025-02-19&quot;</td></tr><tr><td>&quot;75%&quot;</td><td>441.0</td><td>null</td><td>&quot;2025-02-28&quot;</td></tr><tr><td>&quot;max&quot;</td><td>769.0</td><td>&quot;Zillow Home Value Index (ZHVI)&quot;</td><td>&quot;2025-03-11&quot;</td></tr></tbody></table></div>"
      ],
      "text/plain": [
       "shape: (9, 4)\n",
       "┌────────────┬────────────┬────────────────────────────────┬────────────────────────────┐\n",
       "│ statistic  ┆ release_id ┆ release_name                   ┆ date                       │\n",
       "│ ---        ┆ ---        ┆ ---                            ┆ ---                        │\n",
       "│ str        ┆ f64        ┆ str                            ┆ str                        │\n",
       "╞════════════╪════════════╪════════════════════════════════╪════════════════════════════╡\n",
       "│ count      ┆ 1000.0     ┆ 1000                           ┆ 1000                       │\n",
       "│ null_count ┆ 0.0        ┆ 0                              ┆ 0                          │\n",
       "│ mean       ┆ 303.097    ┆ null                           ┆ 2025-02-18 08:39:50.400000 │\n",
       "│ std        ┆ 153.895716 ┆ null                           ┆ null                       │\n",
       "│ min        ┆ 9.0        ┆ ADP National Employment Report ┆ 2025-01-29                 │\n",
       "│ 25%        ┆ 190.0      ┆ null                           ┆ 2025-02-07                 │\n",
       "│ 50%        ┆ 316.0      ┆ null                           ┆ 2025-02-19                 │\n",
       "│ 75%        ┆ 441.0      ┆ null                           ┆ 2025-02-28                 │\n",
       "│ max        ┆ 769.0      ┆ Zillow Home Value Index (ZHVI) ┆ 2025-03-11                 │\n",
       "└────────────┴────────────┴────────────────────────────────┴────────────────────────────┘"
      ]
     },
     "execution_count": 9,
     "metadata": {},
     "output_type": "execute_result"
    }
   ],
   "source": [
    "# Get release dates using default time range\n",
    "from fred_data.releases import get_release_dates\n",
    "\n",
    "release_dates = get_release_dates(fred_client)\n",
    "release_dates_df = release_dates.release_dates\n",
    "\n",
    "print(f\"Release Dates Summary\")\n",
    "print(f\"Count: {release_dates.count}\")\n",
    "print(f\"Realtime range: {release_dates.realtime_start} to {release_dates.realtime_end}, Duration: {release_dates.realtime_end - release_dates.realtime_start}\")\n",
    "release_dates_df.describe()"
   ]
  },
  {
   "cell_type": "code",
   "execution_count": null,
   "metadata": {},
   "outputs": [
    {
     "name": "stdout",
     "output_type": "stream",
     "text": [
      "Release Dates Summary\n",
      "Count: 1003\n",
      "Realtime range: 2025-02-09 to 2025-03-21, Duration: 40 days, 0:00:00\n"
     ]
    },
    {
     "data": {
      "text/html": [
       "<div><style>\n",
       ".dataframe > thead > tr,\n",
       ".dataframe > tbody > tr {\n",
       "  text-align: right;\n",
       "  white-space: pre-wrap;\n",
       "}\n",
       "</style>\n",
       "<small>shape: (9, 5)</small><table border=\"1\" class=\"dataframe\"><thead><tr><th>statistic</th><th>release_id</th><th>release_name</th><th>release_last_updated</th><th>date</th></tr><tr><td>str</td><td>f64</td><td>str</td><td>str</td><td>str</td></tr></thead><tbody><tr><td>&quot;count&quot;</td><td>1000.0</td><td>&quot;1000&quot;</td><td>&quot;1000&quot;</td><td>&quot;1000&quot;</td></tr><tr><td>&quot;null_count&quot;</td><td>0.0</td><td>&quot;0&quot;</td><td>&quot;0&quot;</td><td>&quot;0&quot;</td></tr><tr><td>&quot;mean&quot;</td><td>306.178</td><td>null</td><td>null</td><td>&quot;2025-03-01 09:47:31.200000&quot;</td></tr><tr><td>&quot;std&quot;</td><td>154.856646</td><td>null</td><td>null</td><td>null</td></tr><tr><td>&quot;min&quot;</td><td>9.0</td><td>&quot;ADP National Employment Report&quot;</td><td>&quot;2023-11-28 15:36:04-06&quot;</td><td>&quot;2025-02-10&quot;</td></tr><tr><td>&quot;25%&quot;</td><td>198.0</td><td>null</td><td>null</td><td>&quot;2025-02-20&quot;</td></tr><tr><td>&quot;50%&quot;</td><td>325.0</td><td>null</td><td>null</td><td>&quot;2025-02-28&quot;</td></tr><tr><td>&quot;75%&quot;</td><td>445.0</td><td>null</td><td>null</td><td>&quot;2025-03-12&quot;</td></tr><tr><td>&quot;max&quot;</td><td>769.0</td><td>&quot;Zillow Home Value Index (ZHVI)&quot;</td><td>&quot;2025-03-11 15:30:35-05&quot;</td><td>&quot;2025-03-21&quot;</td></tr></tbody></table></div>"
      ],
      "text/plain": [
       "shape: (9, 5)\n",
       "┌────────────┬────────────┬───────────────────┬────────────────────────┬─────────────────┐\n",
       "│ statistic  ┆ release_id ┆ release_name      ┆ release_last_updated   ┆ date            │\n",
       "│ ---        ┆ ---        ┆ ---               ┆ ---                    ┆ ---             │\n",
       "│ str        ┆ f64        ┆ str               ┆ str                    ┆ str             │\n",
       "╞════════════╪════════════╪═══════════════════╪════════════════════════╪═════════════════╡\n",
       "│ count      ┆ 1000.0     ┆ 1000              ┆ 1000                   ┆ 1000            │\n",
       "│ null_count ┆ 0.0        ┆ 0                 ┆ 0                      ┆ 0               │\n",
       "│ mean       ┆ 306.178    ┆ null              ┆ null                   ┆ 2025-03-01      │\n",
       "│            ┆            ┆                   ┆                        ┆ 09:47:31.200000 │\n",
       "│ std        ┆ 154.856646 ┆ null              ┆ null                   ┆ null            │\n",
       "│ min        ┆ 9.0        ┆ ADP National      ┆ 2023-11-28 15:36:04-06 ┆ 2025-02-10      │\n",
       "│            ┆            ┆ Employment Report ┆                        ┆                 │\n",
       "│ 25%        ┆ 198.0      ┆ null              ┆ null                   ┆ 2025-02-20      │\n",
       "│ 50%        ┆ 325.0      ┆ null              ┆ null                   ┆ 2025-02-28      │\n",
       "│ 75%        ┆ 445.0      ┆ null              ┆ null                   ┆ 2025-03-12      │\n",
       "│ max        ┆ 769.0      ┆ Zillow Home Value ┆ 2025-03-11 15:30:35-05 ┆ 2025-03-21      │\n",
       "│            ┆            ┆ Index (ZHVI)      ┆                        ┆                 │\n",
       "└────────────┴────────────┴───────────────────┴────────────────────────┴─────────────────┘"
      ]
     },
     "execution_count": 10,
     "metadata": {},
     "output_type": "execute_result"
    }
   ],
   "source": [
    "# Get release dates from the past into the future\n",
    "from fred_data.releases import get_release_dates\n",
    "\n",
    "release_dates_over_time = get_release_dates(\n",
    "    fred_client,\n",
    "    realtime_start=date.today() - timedelta(days=30),\n",
    "    realtime_end=date.today() + timedelta(days=10),\n",
    "    include_release_dates_with_no_data=True\n",
    ")\n",
    "release_dates_over_time_df = release_dates_over_time.release_dates\n",
    "\n",
    "print(f\"Release Dates Summary\")\n",
    "print(f\"Count: {release_dates_over_time.count}\")\n",
    "print(f\"Realtime range: {release_dates_over_time.realtime_start} to {release_dates_over_time.realtime_end}, Duration: {release_dates_over_time.realtime_end - release_dates_over_time.realtime_start}\")\n",
    "release_dates_over_time_df.describe()"
   ]
  }
 ],
 "metadata": {
  "kernelspec": {
   "display_name": ".venv",
   "language": "python",
   "name": "python3"
  },
  "language_info": {
   "codemirror_mode": {
    "name": "ipython",
    "version": 3
   },
   "file_extension": ".py",
   "mimetype": "text/x-python",
   "name": "python",
   "nbconvert_exporter": "python",
   "pygments_lexer": "ipython3",
   "version": "3.13.2"
  }
 },
 "nbformat": 4,
 "nbformat_minor": 2
}
