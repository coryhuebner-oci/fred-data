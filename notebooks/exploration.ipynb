{
 "cells": [
  {
   "cell_type": "markdown",
   "metadata": {},
   "source": [
    "# Exploration\n",
    "\n",
    "A notebook used to explore FRED data"
   ]
  },
  {
   "cell_type": "markdown",
   "metadata": {},
   "source": [
    "## Setup    "
   ]
  },
  {
   "cell_type": "code",
   "execution_count": 6,
   "metadata": {},
   "outputs": [
    {
     "data": {
      "text/plain": [
       "True"
      ]
     },
     "execution_count": 6,
     "metadata": {},
     "output_type": "execute_result"
    }
   ],
   "source": [
    "# Load environment variables using dotenv\n",
    "\n",
    "from dotenv import load_dotenv\n",
    "\n",
    "load_dotenv()"
   ]
  },
  {
   "cell_type": "code",
   "execution_count": 7,
   "metadata": {},
   "outputs": [
    {
     "name": "stdout",
     "output_type": "stream",
     "text": [
      "The autoreload extension is already loaded. To reload it, use:\n",
      "  %reload_ext autoreload\n"
     ]
    }
   ],
   "source": [
    "# Setup autoreload of modules\n",
    "%load_ext autoreload\n",
    "%autoreload 2\n"
   ]
  },
  {
   "cell_type": "code",
   "execution_count": 8,
   "metadata": {},
   "outputs": [
    {
     "name": "stdout",
     "output_type": "stream",
     "text": [
      "/Users/coryhuebner/workspace/fed/fred-data/src already in path\n"
     ]
    }
   ],
   "source": [
    "from update_path import ensure_src_in_path\n",
    "\n",
    "ensure_src_in_path()"
   ]
  },
  {
   "cell_type": "code",
   "execution_count": 9,
   "metadata": {},
   "outputs": [],
   "source": [
    "# Get the FRED API client\n",
    "\n",
    "from fred_data import api\n",
    "\n",
    "fred_client = api.FredApiClient()"
   ]
  },
  {
   "cell_type": "code",
   "execution_count": 10,
   "metadata": {},
   "outputs": [],
   "source": [
    "## Run everything above this cell for setup"
   ]
  },
  {
   "cell_type": "markdown",
   "metadata": {},
   "source": [
    "## Data Exploration"
   ]
  },
  {
   "cell_type": "markdown",
   "metadata": {},
   "source": [
    "### Releases"
   ]
  },
  {
   "cell_type": "code",
   "execution_count": 11,
   "metadata": {},
   "outputs": [
    {
     "name": "stdout",
     "output_type": "stream",
     "text": [
      "Release summary\n",
      "Count: 315\n",
      "Realtime range: 2025-03-12 to 2025-03-12, Duration: 0:00:00\n"
     ]
    },
    {
     "data": {
      "text/html": [
       "<div><style>\n",
       ".dataframe > thead > tr,\n",
       ".dataframe > tbody > tr {\n",
       "  text-align: right;\n",
       "  white-space: pre-wrap;\n",
       "}\n",
       "</style>\n",
       "<small>shape: (9, 8)</small><table border=\"1\" class=\"dataframe\"><thead><tr><th>statistic</th><th>id</th><th>realtime_start</th><th>realtime_end</th><th>name</th><th>press_release</th><th>link</th><th>notes</th></tr><tr><td>str</td><td>f64</td><td>str</td><td>str</td><td>str</td><td>f64</td><td>str</td><td>str</td></tr></thead><tbody><tr><td>&quot;count&quot;</td><td>315.0</td><td>&quot;315&quot;</td><td>&quot;315&quot;</td><td>&quot;315&quot;</td><td>315.0</td><td>&quot;276&quot;</td><td>&quot;123&quot;</td></tr><tr><td>&quot;null_count&quot;</td><td>0.0</td><td>&quot;0&quot;</td><td>&quot;0&quot;</td><td>&quot;0&quot;</td><td>0.0</td><td>&quot;39&quot;</td><td>&quot;192&quot;</td></tr><tr><td>&quot;mean&quot;</td><td>288.031746</td><td>&quot;2025-03-12 00:00:00&quot;</td><td>&quot;2025-03-12 00:00:00&quot;</td><td>null</td><td>0.542857</td><td>null</td><td>null</td></tr><tr><td>&quot;std&quot;</td><td>152.199623</td><td>null</td><td>null</td><td>null</td><td>null</td><td>null</td><td>null</td></tr><tr><td>&quot;min&quot;</td><td>9.0</td><td>&quot;2025-03-12&quot;</td><td>&quot;2025-03-12&quot;</td><td>&quot;A Millennium of Macroeconomic …</td><td>0.0</td><td>&quot;http://data.imf.org/?sk=3E40CD…</td><td>&quot;AMERIBOR® (American Interbank …</td></tr><tr><td>&quot;25%&quot;</td><td>172.0</td><td>&quot;2025-03-12&quot;</td><td>&quot;2025-03-12&quot;</td><td>null</td><td>null</td><td>null</td><td>null</td></tr><tr><td>&quot;50%&quot;</td><td>301.0</td><td>&quot;2025-03-12&quot;</td><td>&quot;2025-03-12&quot;</td><td>null</td><td>null</td><td>null</td><td>null</td></tr><tr><td>&quot;75%&quot;</td><td>406.0</td><td>&quot;2025-03-12&quot;</td><td>&quot;2025-03-12&quot;</td><td>null</td><td>null</td><td>null</td><td>null</td></tr><tr><td>&quot;max&quot;</td><td>769.0</td><td>&quot;2025-03-12&quot;</td><td>&quot;2025-03-12&quot;</td><td>&quot;Zillow Home Value Index (ZHVI)&quot;</td><td>1.0</td><td>&quot;https://www2.optimalblue.com/o…</td><td>&quot;With the issue dated January 8…</td></tr></tbody></table></div>"
      ],
      "text/plain": [
       "shape: (9, 8)\n",
       "┌────────────┬────────────┬────────────┬───────────┬───────────┬───────────┬───────────┬───────────┐\n",
       "│ statistic  ┆ id         ┆ realtime_s ┆ realtime_ ┆ name      ┆ press_rel ┆ link      ┆ notes     │\n",
       "│ ---        ┆ ---        ┆ tart       ┆ end       ┆ ---       ┆ ease      ┆ ---       ┆ ---       │\n",
       "│ str        ┆ f64        ┆ ---        ┆ ---       ┆ str       ┆ ---       ┆ str       ┆ str       │\n",
       "│            ┆            ┆ str        ┆ str       ┆           ┆ f64       ┆           ┆           │\n",
       "╞════════════╪════════════╪════════════╪═══════════╪═══════════╪═══════════╪═══════════╪═══════════╡\n",
       "│ count      ┆ 315.0      ┆ 315        ┆ 315       ┆ 315       ┆ 315.0     ┆ 276       ┆ 123       │\n",
       "│ null_count ┆ 0.0        ┆ 0          ┆ 0         ┆ 0         ┆ 0.0       ┆ 39        ┆ 192       │\n",
       "│ mean       ┆ 288.031746 ┆ 2025-03-12 ┆ 2025-03-1 ┆ null      ┆ 0.542857  ┆ null      ┆ null      │\n",
       "│            ┆            ┆ 00:00:00   ┆ 2         ┆           ┆           ┆           ┆           │\n",
       "│            ┆            ┆            ┆ 00:00:00  ┆           ┆           ┆           ┆           │\n",
       "│ std        ┆ 152.199623 ┆ null       ┆ null      ┆ null      ┆ null      ┆ null      ┆ null      │\n",
       "│ min        ┆ 9.0        ┆ 2025-03-12 ┆ 2025-03-1 ┆ A Millenn ┆ 0.0       ┆ http://da ┆ AMERIBOR® │\n",
       "│            ┆            ┆            ┆ 2         ┆ ium of    ┆           ┆ ta.imf.or ┆ (American │\n",
       "│            ┆            ┆            ┆           ┆ Macroecon ┆           ┆ g/?sk=3E4 ┆ Interbank │\n",
       "│            ┆            ┆            ┆           ┆ omic …    ┆           ┆ 0CD…      ┆ …         │\n",
       "│ 25%        ┆ 172.0      ┆ 2025-03-12 ┆ 2025-03-1 ┆ null      ┆ null      ┆ null      ┆ null      │\n",
       "│            ┆            ┆            ┆ 2         ┆           ┆           ┆           ┆           │\n",
       "│ 50%        ┆ 301.0      ┆ 2025-03-12 ┆ 2025-03-1 ┆ null      ┆ null      ┆ null      ┆ null      │\n",
       "│            ┆            ┆            ┆ 2         ┆           ┆           ┆           ┆           │\n",
       "│ 75%        ┆ 406.0      ┆ 2025-03-12 ┆ 2025-03-1 ┆ null      ┆ null      ┆ null      ┆ null      │\n",
       "│            ┆            ┆            ┆ 2         ┆           ┆           ┆           ┆           │\n",
       "│ max        ┆ 769.0      ┆ 2025-03-12 ┆ 2025-03-1 ┆ Zillow    ┆ 1.0       ┆ https://w ┆ With the  │\n",
       "│            ┆            ┆            ┆ 2         ┆ Home      ┆           ┆ ww2.optim ┆ issue     │\n",
       "│            ┆            ┆            ┆           ┆ Value     ┆           ┆ alblue.co ┆ dated     │\n",
       "│            ┆            ┆            ┆           ┆ Index     ┆           ┆ m/o…      ┆ January   │\n",
       "│            ┆            ┆            ┆           ┆ (ZHVI)    ┆           ┆           ┆ 8…        │\n",
       "└────────────┴────────────┴────────────┴───────────┴───────────┴───────────┴───────────┴───────────┘"
      ]
     },
     "execution_count": 11,
     "metadata": {},
     "output_type": "execute_result"
    }
   ],
   "source": [
    "# Fetch all current releases\n",
    "from fred_data.releases import get_releases\n",
    "\n",
    "releases = get_releases(fred_client)\n",
    "releases_df = releases.releases.sort(\"name\")\n",
    "\n",
    "# Get an idea of the amount/types of data stored in releases\n",
    "print(f\"Release summary\")\n",
    "print(f\"Count: {releases.count}\")\n",
    "print(f\"Realtime range: {releases.realtime_start} to {releases.realtime_end}, Duration: {releases.realtime_end - releases.realtime_start}\")\n",
    "releases.releases.describe()"
   ]
  },
  {
   "cell_type": "code",
   "execution_count": 12,
   "metadata": {},
   "outputs": [
    {
     "name": "stdout",
     "output_type": "stream",
     "text": [
      "Archived Release summary\n",
      "Count: 309\n",
      "Realtime range: 2025-01-12 to 2025-03-13, Duration: 60 days, 0:00:00\n"
     ]
    },
    {
     "data": {
      "text/html": [
       "<div><style>\n",
       ".dataframe > thead > tr,\n",
       ".dataframe > tbody > tr {\n",
       "  text-align: right;\n",
       "  white-space: pre-wrap;\n",
       "}\n",
       "</style>\n",
       "<small>shape: (9, 8)</small><table border=\"1\" class=\"dataframe\"><thead><tr><th>statistic</th><th>id</th><th>realtime_start</th><th>realtime_end</th><th>name</th><th>press_release</th><th>link</th><th>notes</th></tr><tr><td>str</td><td>f64</td><td>str</td><td>str</td><td>str</td><td>f64</td><td>str</td><td>str</td></tr></thead><tbody><tr><td>&quot;count&quot;</td><td>309.0</td><td>&quot;309&quot;</td><td>&quot;309&quot;</td><td>&quot;309&quot;</td><td>309.0</td><td>&quot;270&quot;</td><td>&quot;121&quot;</td></tr><tr><td>&quot;null_count&quot;</td><td>0.0</td><td>&quot;0&quot;</td><td>&quot;0&quot;</td><td>&quot;0&quot;</td><td>0.0</td><td>&quot;39&quot;</td><td>&quot;188&quot;</td></tr><tr><td>&quot;mean&quot;</td><td>287.640777</td><td>&quot;2025-01-12 00:00:00&quot;</td><td>&quot;2025-03-13 00:00:00&quot;</td><td>null</td><td>0.540453</td><td>null</td><td>null</td></tr><tr><td>&quot;std&quot;</td><td>152.758267</td><td>null</td><td>null</td><td>null</td><td>null</td><td>null</td><td>null</td></tr><tr><td>&quot;min&quot;</td><td>9.0</td><td>&quot;2025-01-12&quot;</td><td>&quot;2025-03-13&quot;</td><td>&quot;A Millennium of Macroeconomic …</td><td>0.0</td><td>&quot;http://data.imf.org/?sk=3E40CD…</td><td>&quot;AMERIBOR® (American Interbank …</td></tr><tr><td>&quot;25%&quot;</td><td>170.0</td><td>&quot;2025-01-12&quot;</td><td>&quot;2025-03-13&quot;</td><td>null</td><td>null</td><td>null</td><td>null</td></tr><tr><td>&quot;50%&quot;</td><td>302.0</td><td>&quot;2025-01-12&quot;</td><td>&quot;2025-03-13&quot;</td><td>null</td><td>null</td><td>null</td><td>null</td></tr><tr><td>&quot;75%&quot;</td><td>403.0</td><td>&quot;2025-01-12&quot;</td><td>&quot;2025-03-13&quot;</td><td>null</td><td>null</td><td>null</td><td>null</td></tr><tr><td>&quot;max&quot;</td><td>769.0</td><td>&quot;2025-01-12&quot;</td><td>&quot;2025-03-13&quot;</td><td>&quot;Zillow Home Value Index (ZHVI)&quot;</td><td>1.0</td><td>&quot;https://www2.optimalblue.com/o…</td><td>&quot;With the issue dated January 8…</td></tr></tbody></table></div>"
      ],
      "text/plain": [
       "shape: (9, 8)\n",
       "┌────────────┬────────────┬────────────┬───────────┬───────────┬───────────┬───────────┬───────────┐\n",
       "│ statistic  ┆ id         ┆ realtime_s ┆ realtime_ ┆ name      ┆ press_rel ┆ link      ┆ notes     │\n",
       "│ ---        ┆ ---        ┆ tart       ┆ end       ┆ ---       ┆ ease      ┆ ---       ┆ ---       │\n",
       "│ str        ┆ f64        ┆ ---        ┆ ---       ┆ str       ┆ ---       ┆ str       ┆ str       │\n",
       "│            ┆            ┆ str        ┆ str       ┆           ┆ f64       ┆           ┆           │\n",
       "╞════════════╪════════════╪════════════╪═══════════╪═══════════╪═══════════╪═══════════╪═══════════╡\n",
       "│ count      ┆ 309.0      ┆ 309        ┆ 309       ┆ 309       ┆ 309.0     ┆ 270       ┆ 121       │\n",
       "│ null_count ┆ 0.0        ┆ 0          ┆ 0         ┆ 0         ┆ 0.0       ┆ 39        ┆ 188       │\n",
       "│ mean       ┆ 287.640777 ┆ 2025-01-12 ┆ 2025-03-1 ┆ null      ┆ 0.540453  ┆ null      ┆ null      │\n",
       "│            ┆            ┆ 00:00:00   ┆ 3         ┆           ┆           ┆           ┆           │\n",
       "│            ┆            ┆            ┆ 00:00:00  ┆           ┆           ┆           ┆           │\n",
       "│ std        ┆ 152.758267 ┆ null       ┆ null      ┆ null      ┆ null      ┆ null      ┆ null      │\n",
       "│ min        ┆ 9.0        ┆ 2025-01-12 ┆ 2025-03-1 ┆ A Millenn ┆ 0.0       ┆ http://da ┆ AMERIBOR® │\n",
       "│            ┆            ┆            ┆ 3         ┆ ium of    ┆           ┆ ta.imf.or ┆ (American │\n",
       "│            ┆            ┆            ┆           ┆ Macroecon ┆           ┆ g/?sk=3E4 ┆ Interbank │\n",
       "│            ┆            ┆            ┆           ┆ omic …    ┆           ┆ 0CD…      ┆ …         │\n",
       "│ 25%        ┆ 170.0      ┆ 2025-01-12 ┆ 2025-03-1 ┆ null      ┆ null      ┆ null      ┆ null      │\n",
       "│            ┆            ┆            ┆ 3         ┆           ┆           ┆           ┆           │\n",
       "│ 50%        ┆ 302.0      ┆ 2025-01-12 ┆ 2025-03-1 ┆ null      ┆ null      ┆ null      ┆ null      │\n",
       "│            ┆            ┆            ┆ 3         ┆           ┆           ┆           ┆           │\n",
       "│ 75%        ┆ 403.0      ┆ 2025-01-12 ┆ 2025-03-1 ┆ null      ┆ null      ┆ null      ┆ null      │\n",
       "│            ┆            ┆            ┆ 3         ┆           ┆           ┆           ┆           │\n",
       "│ max        ┆ 769.0      ┆ 2025-01-12 ┆ 2025-03-1 ┆ Zillow    ┆ 1.0       ┆ https://w ┆ With the  │\n",
       "│            ┆            ┆            ┆ 3         ┆ Home      ┆           ┆ ww2.optim ┆ issue     │\n",
       "│            ┆            ┆            ┆           ┆ Value     ┆           ┆ alblue.co ┆ dated     │\n",
       "│            ┆            ┆            ┆           ┆ Index     ┆           ┆ m/o…      ┆ January   │\n",
       "│            ┆            ┆            ┆           ┆ (ZHVI)    ┆           ┆           ┆ 8…        │\n",
       "└────────────┴────────────┴────────────┴───────────┴───────────┴───────────┴───────────┴───────────┘"
      ]
     },
     "execution_count": 12,
     "metadata": {},
     "output_type": "execute_result"
    }
   ],
   "source": [
    "# Fetch older and current releases\n",
    "\n",
    "from datetime import date, timedelta\n",
    "from fred_data.releases import get_releases\n",
    "\n",
    "archived_releases = get_releases(fred_client, realtime_start=date.today() - timedelta(days=60), realtime_end=date.today())\n",
    "archived_releases_df = archived_releases.releases\n",
    "\n",
    "# Get an idea of the amount/types of data stored in releases\n",
    "print(f\"Archived Release summary\")\n",
    "print(f\"Count: {archived_releases.count}\")\n",
    "print(f\"Realtime range: {archived_releases.realtime_start} to {archived_releases.realtime_end}, Duration: {archived_releases.realtime_end - archived_releases.realtime_start}\")\n",
    "archived_releases.releases.describe()"
   ]
  },
  {
   "cell_type": "markdown",
   "metadata": {},
   "source": [
    "### Release Dates"
   ]
  },
  {
   "cell_type": "code",
   "execution_count": 13,
   "metadata": {},
   "outputs": [
    {
     "name": "stdout",
     "output_type": "stream",
     "text": [
      "Release Dates Summary\n",
      "Count: 69\n",
      "Realtime range: 2025-03-13 to 2025-03-14, Duration: 1 day, 0:00:00\n"
     ]
    },
    {
     "data": {
      "text/html": [
       "<div><style>\n",
       ".dataframe > thead > tr,\n",
       ".dataframe > tbody > tr {\n",
       "  text-align: right;\n",
       "  white-space: pre-wrap;\n",
       "}\n",
       "</style>\n",
       "<small>shape: (9, 5)</small><table border=\"1\" class=\"dataframe\"><thead><tr><th>statistic</th><th>release_id</th><th>release_name</th><th>release_last_updated</th><th>date</th></tr><tr><td>str</td><td>f64</td><td>str</td><td>str</td><td>str</td></tr></thead><tbody><tr><td>&quot;count&quot;</td><td>69.0</td><td>&quot;69&quot;</td><td>&quot;69&quot;</td><td>&quot;69&quot;</td></tr><tr><td>&quot;null_count&quot;</td><td>0.0</td><td>&quot;0&quot;</td><td>&quot;0&quot;</td><td>&quot;0&quot;</td></tr><tr><td>&quot;mean&quot;</td><td>314.753623</td><td>null</td><td>&quot;2025-03-09 19:51:36.579710+00:…</td><td>&quot;2025-03-13 10:46:57.391000&quot;</td></tr><tr><td>&quot;std&quot;</td><td>168.298353</td><td>null</td><td>null</td><td>null</td></tr><tr><td>&quot;min&quot;</td><td>18.0</td><td>&quot;CBOE Market Statistics&quot;</td><td>&quot;2025-01-07 20:50:46+00:00&quot;</td><td>&quot;2025-03-13&quot;</td></tr><tr><td>&quot;25%&quot;</td><td>190.0</td><td>null</td><td>&quot;2025-03-12 20:16:58+00:00&quot;</td><td>&quot;2025-03-13&quot;</td></tr><tr><td>&quot;50%&quot;</td><td>304.0</td><td>null</td><td>&quot;2025-03-13 11:03:05+00:00&quot;</td><td>&quot;2025-03-13&quot;</td></tr><tr><td>&quot;75%&quot;</td><td>455.0</td><td>null</td><td>&quot;2025-03-13 13:01:10+00:00&quot;</td><td>&quot;2025-03-14&quot;</td></tr><tr><td>&quot;max&quot;</td><td>769.0</td><td>&quot;Z.1 Financial Accounts of the …</td><td>&quot;2025-03-13 16:06:05+00:00&quot;</td><td>&quot;2025-03-14&quot;</td></tr></tbody></table></div>"
      ],
      "text/plain": [
       "shape: (9, 5)\n",
       "┌────────────┬────────────┬───────────────────┬──────────────────────┬─────────────────────────────┐\n",
       "│ statistic  ┆ release_id ┆ release_name      ┆ release_last_updated ┆ date                        │\n",
       "│ ---        ┆ ---        ┆ ---               ┆ ---                  ┆ ---                         │\n",
       "│ str        ┆ f64        ┆ str               ┆ str                  ┆ str                         │\n",
       "╞════════════╪════════════╪═══════════════════╪══════════════════════╪═════════════════════════════╡\n",
       "│ count      ┆ 69.0       ┆ 69                ┆ 69                   ┆ 69                          │\n",
       "│ null_count ┆ 0.0        ┆ 0                 ┆ 0                    ┆ 0                           │\n",
       "│ mean       ┆ 314.753623 ┆ null              ┆ 2025-03-09           ┆ 2025-03-13 10:46:57.391000  │\n",
       "│            ┆            ┆                   ┆ 19:51:36.579710+00:… ┆                             │\n",
       "│ std        ┆ 168.298353 ┆ null              ┆ null                 ┆ null                        │\n",
       "│ min        ┆ 18.0       ┆ CBOE Market       ┆ 2025-01-07           ┆ 2025-03-13                  │\n",
       "│            ┆            ┆ Statistics        ┆ 20:50:46+00:00       ┆                             │\n",
       "│ 25%        ┆ 190.0      ┆ null              ┆ 2025-03-12           ┆ 2025-03-13                  │\n",
       "│            ┆            ┆                   ┆ 20:16:58+00:00       ┆                             │\n",
       "│ 50%        ┆ 304.0      ┆ null              ┆ 2025-03-13           ┆ 2025-03-13                  │\n",
       "│            ┆            ┆                   ┆ 11:03:05+00:00       ┆                             │\n",
       "│ 75%        ┆ 455.0      ┆ null              ┆ 2025-03-13           ┆ 2025-03-14                  │\n",
       "│            ┆            ┆                   ┆ 13:01:10+00:00       ┆                             │\n",
       "│ max        ┆ 769.0      ┆ Z.1 Financial     ┆ 2025-03-13           ┆ 2025-03-14                  │\n",
       "│            ┆            ┆ Accounts of the … ┆ 16:06:05+00:00       ┆                             │\n",
       "└────────────┴────────────┴───────────────────┴──────────────────────┴─────────────────────────────┘"
      ]
     },
     "execution_count": 13,
     "metadata": {},
     "output_type": "execute_result"
    }
   ],
   "source": [
    "# Get release dates for today and tomorrow\n",
    "from datetime import date, timedelta\n",
    "\n",
    "from fred_data.releases import get_release_dates\n",
    "\n",
    "today = date.today()\n",
    "tomorrow = today + timedelta(days=1)\n",
    "release_dates = get_release_dates(fred_client, realtime_start=today, realtime_end=tomorrow, include_release_dates_with_no_data=True)\n",
    "release_dates_df = release_dates.release_dates\n",
    "\n",
    "print(f\"Release Dates Summary\")\n",
    "print(f\"Count: {release_dates.count}\")\n",
    "print(f\"Realtime range: {release_dates.realtime_start} to {release_dates.realtime_end}, Duration: {release_dates.realtime_end - release_dates.realtime_start}\")\n",
    "release_dates_df.describe()"
   ]
  },
  {
   "cell_type": "code",
   "execution_count": 14,
   "metadata": {},
   "outputs": [
    {
     "name": "stdout",
     "output_type": "stream",
     "text": [
      "Release Dates Summary\n",
      "Count: 983\n",
      "Realtime range: 2025-02-11 to 2025-03-23, Duration: 40 days, 0:00:00\n"
     ]
    },
    {
     "data": {
      "text/html": [
       "<div><style>\n",
       ".dataframe > thead > tr,\n",
       ".dataframe > tbody > tr {\n",
       "  text-align: right;\n",
       "  white-space: pre-wrap;\n",
       "}\n",
       "</style>\n",
       "<small>shape: (9, 5)</small><table border=\"1\" class=\"dataframe\"><thead><tr><th>statistic</th><th>release_id</th><th>release_name</th><th>release_last_updated</th><th>date</th></tr><tr><td>str</td><td>f64</td><td>str</td><td>str</td><td>str</td></tr></thead><tbody><tr><td>&quot;count&quot;</td><td>983.0</td><td>&quot;983&quot;</td><td>&quot;983&quot;</td><td>&quot;983&quot;</td></tr><tr><td>&quot;null_count&quot;</td><td>0.0</td><td>&quot;0&quot;</td><td>&quot;0&quot;</td><td>&quot;0&quot;</td></tr><tr><td>&quot;mean&quot;</td><td>306.861648</td><td>null</td><td>&quot;2025-03-09 12:42:00.620549+00:…</td><td>&quot;2025-03-02 03:44:07.812000&quot;</td></tr><tr><td>&quot;std&quot;</td><td>155.231071</td><td>null</td><td>null</td><td>null</td></tr><tr><td>&quot;min&quot;</td><td>9.0</td><td>&quot;ADP National Employment Report&quot;</td><td>&quot;2023-11-28 21:36:04+00:00&quot;</td><td>&quot;2025-02-11&quot;</td></tr><tr><td>&quot;25%&quot;</td><td>198.0</td><td>null</td><td>&quot;2025-03-12 15:04:04+00:00&quot;</td><td>&quot;2025-02-20&quot;</td></tr><tr><td>&quot;50%&quot;</td><td>326.0</td><td>null</td><td>&quot;2025-03-13 08:32:03+00:00&quot;</td><td>&quot;2025-03-03&quot;</td></tr><tr><td>&quot;75%&quot;</td><td>445.0</td><td>null</td><td>&quot;2025-03-13 12:02:08+00:00&quot;</td><td>&quot;2025-03-12&quot;</td></tr><tr><td>&quot;max&quot;</td><td>769.0</td><td>&quot;Zillow Home Value Index (ZHVI)&quot;</td><td>&quot;2025-03-13 16:06:05+00:00&quot;</td><td>&quot;2025-03-23&quot;</td></tr></tbody></table></div>"
      ],
      "text/plain": [
       "shape: (9, 5)\n",
       "┌────────────┬────────────┬───────────────────┬──────────────────────┬─────────────────────────────┐\n",
       "│ statistic  ┆ release_id ┆ release_name      ┆ release_last_updated ┆ date                        │\n",
       "│ ---        ┆ ---        ┆ ---               ┆ ---                  ┆ ---                         │\n",
       "│ str        ┆ f64        ┆ str               ┆ str                  ┆ str                         │\n",
       "╞════════════╪════════════╪═══════════════════╪══════════════════════╪═════════════════════════════╡\n",
       "│ count      ┆ 983.0      ┆ 983               ┆ 983                  ┆ 983                         │\n",
       "│ null_count ┆ 0.0        ┆ 0                 ┆ 0                    ┆ 0                           │\n",
       "│ mean       ┆ 306.861648 ┆ null              ┆ 2025-03-09           ┆ 2025-03-02 03:44:07.812000  │\n",
       "│            ┆            ┆                   ┆ 12:42:00.620549+00:… ┆                             │\n",
       "│ std        ┆ 155.231071 ┆ null              ┆ null                 ┆ null                        │\n",
       "│ min        ┆ 9.0        ┆ ADP National      ┆ 2023-11-28           ┆ 2025-02-11                  │\n",
       "│            ┆            ┆ Employment Report ┆ 21:36:04+00:00       ┆                             │\n",
       "│ 25%        ┆ 198.0      ┆ null              ┆ 2025-03-12           ┆ 2025-02-20                  │\n",
       "│            ┆            ┆                   ┆ 15:04:04+00:00       ┆                             │\n",
       "│ 50%        ┆ 326.0      ┆ null              ┆ 2025-03-13           ┆ 2025-03-03                  │\n",
       "│            ┆            ┆                   ┆ 08:32:03+00:00       ┆                             │\n",
       "│ 75%        ┆ 445.0      ┆ null              ┆ 2025-03-13           ┆ 2025-03-12                  │\n",
       "│            ┆            ┆                   ┆ 12:02:08+00:00       ┆                             │\n",
       "│ max        ┆ 769.0      ┆ Zillow Home Value ┆ 2025-03-13           ┆ 2025-03-23                  │\n",
       "│            ┆            ┆ Index (ZHVI)      ┆ 16:06:05+00:00       ┆                             │\n",
       "└────────────┴────────────┴───────────────────┴──────────────────────┴─────────────────────────────┘"
      ]
     },
     "execution_count": 14,
     "metadata": {},
     "output_type": "execute_result"
    }
   ],
   "source": [
    "# Get release dates from the past into the future\n",
    "from datetime import date, timedelta\n",
    "\n",
    "from fred_data.releases import get_release_dates\n",
    "\n",
    "release_dates_over_time = get_release_dates(\n",
    "    fred_client,\n",
    "    realtime_start=date.today() - timedelta(days=30),\n",
    "    realtime_end=date.today() + timedelta(days=10),\n",
    "    include_release_dates_with_no_data=True\n",
    ")\n",
    "release_dates_over_time_df = release_dates_over_time.release_dates\n",
    "\n",
    "print(f\"Release Dates Summary\")\n",
    "print(f\"Count: {release_dates_over_time.count}\")\n",
    "print(f\"Realtime range: {release_dates_over_time.realtime_start} to {release_dates_over_time.realtime_end}, Duration: {release_dates_over_time.realtime_end - release_dates_over_time.realtime_start}\")\n",
    "release_dates_over_time_df.describe()"
   ]
  },
  {
   "cell_type": "markdown",
   "metadata": {},
   "source": [
    "### Series\n",
    "\n",
    "A series is a collection of observations over time. A series includes metadata about itself.\n",
    "\n",
    "Unanswered Question: How do you tie a series (or its observations) back to the source(s) that generated that series or observation?"
   ]
  },
  {
   "cell_type": "code",
   "execution_count": 15,
   "metadata": {},
   "outputs": [
    {
     "name": "stdout",
     "output_type": "stream",
     "text": [
      "Search Results\n",
      "Count: 1186\n",
      "Realtime range: 2025-03-13 to 2025-03-13, Duration: 0:00:00\n"
     ]
    },
    {
     "data": {
      "text/html": [
       "<div><style>\n",
       ".dataframe > thead > tr,\n",
       ".dataframe > tbody > tr {\n",
       "  text-align: right;\n",
       "  white-space: pre-wrap;\n",
       "}\n",
       "</style>\n",
       "<small>shape: (9, 17)</small><table border=\"1\" class=\"dataframe\"><thead><tr><th>statistic</th><th>id</th><th>realtime_start</th><th>realtime_end</th><th>title</th><th>observation_start</th><th>observation_end</th><th>frequency</th><th>frequency_short</th><th>units</th><th>units_short</th><th>seasonal_adjustment</th><th>seasonal_adjustment_short</th><th>last_updated</th><th>popularity</th><th>group_popularity</th><th>notes</th></tr><tr><td>str</td><td>str</td><td>str</td><td>str</td><td>str</td><td>str</td><td>str</td><td>str</td><td>str</td><td>str</td><td>str</td><td>str</td><td>str</td><td>str</td><td>f64</td><td>f64</td><td>str</td></tr></thead><tbody><tr><td>&quot;count&quot;</td><td>&quot;1186&quot;</td><td>&quot;1186&quot;</td><td>&quot;1186&quot;</td><td>&quot;1186&quot;</td><td>&quot;1186&quot;</td><td>&quot;1186&quot;</td><td>&quot;1186&quot;</td><td>&quot;1186&quot;</td><td>&quot;1186&quot;</td><td>&quot;1186&quot;</td><td>&quot;1186&quot;</td><td>&quot;1186&quot;</td><td>&quot;1186&quot;</td><td>1186.0</td><td>1186.0</td><td>&quot;1144&quot;</td></tr><tr><td>&quot;null_count&quot;</td><td>&quot;0&quot;</td><td>&quot;0&quot;</td><td>&quot;0&quot;</td><td>&quot;0&quot;</td><td>&quot;0&quot;</td><td>&quot;0&quot;</td><td>&quot;0&quot;</td><td>&quot;0&quot;</td><td>&quot;0&quot;</td><td>&quot;0&quot;</td><td>&quot;0&quot;</td><td>&quot;0&quot;</td><td>&quot;0&quot;</td><td>0.0</td><td>0.0</td><td>&quot;42&quot;</td></tr><tr><td>&quot;mean&quot;</td><td>null</td><td>&quot;2025-03-13 00:00:00&quot;</td><td>&quot;2025-03-13 00:00:00&quot;</td><td>null</td><td>&quot;1991-12-04 16:44:06.880000&quot;</td><td>&quot;2023-10-16 01:37:07.993000&quot;</td><td>null</td><td>null</td><td>null</td><td>null</td><td>null</td><td>null</td><td>&quot;2024-08-22 18:46:53.230185+00:…</td><td>0.934233</td><td>1.515177</td><td>null</td></tr><tr><td>&quot;std&quot;</td><td>null</td><td>null</td><td>null</td><td>null</td><td>null</td><td>null</td><td>null</td><td>null</td><td>null</td><td>null</td><td>null</td><td>null</td><td>null</td><td>1.887304</td><td>2.997358</td><td>null</td></tr><tr><td>&quot;min&quot;</td><td>&quot;ALLMARGATIL&quot;</td><td>&quot;2025-03-13&quot;</td><td>&quot;2025-03-13&quot;</td><td>&quot;All Marginally Attached Worker…</td><td>&quot;1948-01-01&quot;</td><td>&quot;2008-12-01&quot;</td><td>&quot;Annual&quot;</td><td>&quot;A&quot;</td><td>&quot;Dollars&quot;</td><td>&quot;$&quot;</td><td>&quot;Not Seasonally Adjusted&quot;</td><td>&quot;NSA&quot;</td><td>&quot;2009-03-12 20:01:08+00:00&quot;</td><td>0.0</td><td>0.0</td><td>&quot;A state&#x27;s labor-force particip…</td></tr><tr><td>&quot;25%&quot;</td><td>null</td><td>&quot;2025-03-13&quot;</td><td>&quot;2025-03-13&quot;</td><td>null</td><td>&quot;1990-01-01&quot;</td><td>&quot;2023-01-01&quot;</td><td>null</td><td>null</td><td>null</td><td>null</td><td>null</td><td>null</td><td>&quot;2024-05-01 15:51:12+00:00&quot;</td><td>0.0</td><td>1.0</td><td>null</td></tr><tr><td>&quot;50%&quot;</td><td>null</td><td>&quot;2025-03-13&quot;</td><td>&quot;2025-03-13&quot;</td><td>null</td><td>&quot;1990-01-01&quot;</td><td>&quot;2023-10-01&quot;</td><td>null</td><td>null</td><td>null</td><td>null</td><td>null</td><td>null</td><td>&quot;2024-12-12 15:31:53+00:00&quot;</td><td>1.0</td><td>1.0</td><td>null</td></tr><tr><td>&quot;75%&quot;</td><td>null</td><td>&quot;2025-03-13&quot;</td><td>&quot;2025-03-13&quot;</td><td>null</td><td>&quot;1990-01-01&quot;</td><td>&quot;2024-12-01&quot;</td><td>null</td><td>null</td><td>null</td><td>null</td><td>null</td><td>null</td><td>&quot;2025-02-05 16:20:02+00:00&quot;</td><td>1.0</td><td>1.0</td><td>null</td></tr><tr><td>&quot;max&quot;</td><td>&quot;WIKENO9URN&quot;</td><td>&quot;2025-03-13&quot;</td><td>&quot;2025-03-13&quot;</td><td>&quot;Unemployment Rate in Woodford …</td><td>&quot;2020-04-04&quot;</td><td>&quot;2025-03-01&quot;</td><td>&quot;Weekly, Ending Saturday&quot;</td><td>&quot;W&quot;</td><td>&quot;Thousands of Dollars&quot;</td><td>&quot;Thous. of $&quot;</td><td>&quot;Smoothed Seasonally Adjusted&quot;</td><td>&quot;SSA&quot;</td><td>&quot;2025-03-07 13:37:06+00:00&quot;</td><td>31.0</td><td>39.0</td><td>&quot;U-6 unemployment rate, as defi…</td></tr></tbody></table></div>"
      ],
      "text/plain": [
       "shape: (9, 17)\n",
       "┌───────────┬───────────┬───────────┬───────────┬───┬───────────┬───────────┬───────────┬──────────┐\n",
       "│ statistic ┆ id        ┆ realtime_ ┆ realtime_ ┆ … ┆ last_upda ┆ popularit ┆ group_pop ┆ notes    │\n",
       "│ ---       ┆ ---       ┆ start     ┆ end       ┆   ┆ ted       ┆ y         ┆ ularity   ┆ ---      │\n",
       "│ str       ┆ str       ┆ ---       ┆ ---       ┆   ┆ ---       ┆ ---       ┆ ---       ┆ str      │\n",
       "│           ┆           ┆ str       ┆ str       ┆   ┆ str       ┆ f64       ┆ f64       ┆          │\n",
       "╞═══════════╪═══════════╪═══════════╪═══════════╪═══╪═══════════╪═══════════╪═══════════╪══════════╡\n",
       "│ count     ┆ 1186      ┆ 1186      ┆ 1186      ┆ … ┆ 1186      ┆ 1186.0    ┆ 1186.0    ┆ 1144     │\n",
       "│ null_coun ┆ 0         ┆ 0         ┆ 0         ┆ … ┆ 0         ┆ 0.0       ┆ 0.0       ┆ 42       │\n",
       "│ t         ┆           ┆           ┆           ┆   ┆           ┆           ┆           ┆          │\n",
       "│ mean      ┆ null      ┆ 2025-03-1 ┆ 2025-03-1 ┆ … ┆ 2024-08-2 ┆ 0.934233  ┆ 1.515177  ┆ null     │\n",
       "│           ┆           ┆ 3         ┆ 3         ┆   ┆ 2 18:46:5 ┆           ┆           ┆          │\n",
       "│           ┆           ┆ 00:00:00  ┆ 00:00:00  ┆   ┆ 3.230185+ ┆           ┆           ┆          │\n",
       "│           ┆           ┆           ┆           ┆   ┆ 00:…      ┆           ┆           ┆          │\n",
       "│ std       ┆ null      ┆ null      ┆ null      ┆ … ┆ null      ┆ 1.887304  ┆ 2.997358  ┆ null     │\n",
       "│ min       ┆ ALLMARGAT ┆ 2025-03-1 ┆ 2025-03-1 ┆ … ┆ 2009-03-1 ┆ 0.0       ┆ 0.0       ┆ A        │\n",
       "│           ┆ IL        ┆ 3         ┆ 3         ┆   ┆ 2 20:01:0 ┆           ┆           ┆ state's  │\n",
       "│           ┆           ┆           ┆           ┆   ┆ 8+00:00   ┆           ┆           ┆ labor-fo │\n",
       "│           ┆           ┆           ┆           ┆   ┆           ┆           ┆           ┆ rce part │\n",
       "│           ┆           ┆           ┆           ┆   ┆           ┆           ┆           ┆ icip…    │\n",
       "│ 25%       ┆ null      ┆ 2025-03-1 ┆ 2025-03-1 ┆ … ┆ 2024-05-0 ┆ 0.0       ┆ 1.0       ┆ null     │\n",
       "│           ┆           ┆ 3         ┆ 3         ┆   ┆ 1 15:51:1 ┆           ┆           ┆          │\n",
       "│           ┆           ┆           ┆           ┆   ┆ 2+00:00   ┆           ┆           ┆          │\n",
       "│ 50%       ┆ null      ┆ 2025-03-1 ┆ 2025-03-1 ┆ … ┆ 2024-12-1 ┆ 1.0       ┆ 1.0       ┆ null     │\n",
       "│           ┆           ┆ 3         ┆ 3         ┆   ┆ 2 15:31:5 ┆           ┆           ┆          │\n",
       "│           ┆           ┆           ┆           ┆   ┆ 3+00:00   ┆           ┆           ┆          │\n",
       "│ 75%       ┆ null      ┆ 2025-03-1 ┆ 2025-03-1 ┆ … ┆ 2025-02-0 ┆ 1.0       ┆ 1.0       ┆ null     │\n",
       "│           ┆           ┆ 3         ┆ 3         ┆   ┆ 5 16:20:0 ┆           ┆           ┆          │\n",
       "│           ┆           ┆           ┆           ┆   ┆ 2+00:00   ┆           ┆           ┆          │\n",
       "│ max       ┆ WIKENO9UR ┆ 2025-03-1 ┆ 2025-03-1 ┆ … ┆ 2025-03-0 ┆ 31.0      ┆ 39.0      ┆ U-6 unem │\n",
       "│           ┆ N         ┆ 3         ┆ 3         ┆   ┆ 7 13:37:0 ┆           ┆           ┆ ployment │\n",
       "│           ┆           ┆           ┆           ┆   ┆ 6+00:00   ┆           ┆           ┆ rate, as │\n",
       "│           ┆           ┆           ┆           ┆   ┆           ┆           ┆           ┆ defi…    │\n",
       "└───────────┴───────────┴───────────┴───────────┴───┴───────────┴───────────┴───────────┴──────────┘"
      ]
     },
     "execution_count": 15,
     "metadata": {},
     "output_type": "execute_result"
    }
   ],
   "source": [
    "# Get series search results from the API\n",
    "import polars as pl\n",
    "\n",
    "from fred_data.series import get_search_results\n",
    "\n",
    "search_text = \"illinois unemployment\"\n",
    "\n",
    "search_results = get_search_results(\n",
    "    fred_client,\n",
    "    search_text=search_text,\n",
    ")\n",
    "search_results_df = search_results.series\n",
    "\n",
    "print(f\"Search Results\")\n",
    "print(f\"Count: {search_results.count}\")\n",
    "print(f\"Realtime range: {search_results.realtime_start} to {search_results.realtime_end}, Duration: {search_results.realtime_end - search_results.realtime_start}\")\n",
    "search_results_df_summary = pl.DataFrame() if search_results_df.is_empty() else search_results_df.describe()\n",
    "search_results_df_summary"
   ]
  },
  {
   "cell_type": "code",
   "execution_count": 16,
   "metadata": {},
   "outputs": [
    {
     "name": "stdout",
     "output_type": "stream",
     "text": [
      "Release Series Results\n",
      "Count: 6\n",
      "Realtime range: 2025-03-13 to 2025-03-13, Duration: 0:00:00\n"
     ]
    },
    {
     "data": {
      "text/html": [
       "<div><style>\n",
       ".dataframe > thead > tr,\n",
       ".dataframe > tbody > tr {\n",
       "  text-align: right;\n",
       "  white-space: pre-wrap;\n",
       "}\n",
       "</style>\n",
       "<small>shape: (9, 17)</small><table border=\"1\" class=\"dataframe\"><thead><tr><th>statistic</th><th>id</th><th>realtime_start</th><th>realtime_end</th><th>title</th><th>observation_start</th><th>observation_end</th><th>frequency</th><th>frequency_short</th><th>units</th><th>units_short</th><th>seasonal_adjustment</th><th>seasonal_adjustment_short</th><th>last_updated</th><th>popularity</th><th>group_popularity</th><th>notes</th></tr><tr><td>str</td><td>str</td><td>str</td><td>str</td><td>str</td><td>str</td><td>str</td><td>str</td><td>str</td><td>str</td><td>str</td><td>str</td><td>str</td><td>str</td><td>f64</td><td>f64</td><td>str</td></tr></thead><tbody><tr><td>&quot;count&quot;</td><td>&quot;6&quot;</td><td>&quot;6&quot;</td><td>&quot;6&quot;</td><td>&quot;6&quot;</td><td>&quot;6&quot;</td><td>&quot;6&quot;</td><td>&quot;6&quot;</td><td>&quot;6&quot;</td><td>&quot;6&quot;</td><td>&quot;6&quot;</td><td>&quot;6&quot;</td><td>&quot;6&quot;</td><td>&quot;6&quot;</td><td>6.0</td><td>6.0</td><td>&quot;6&quot;</td></tr><tr><td>&quot;null_count&quot;</td><td>&quot;0&quot;</td><td>&quot;0&quot;</td><td>&quot;0&quot;</td><td>&quot;0&quot;</td><td>&quot;0&quot;</td><td>&quot;0&quot;</td><td>&quot;0&quot;</td><td>&quot;0&quot;</td><td>&quot;0&quot;</td><td>&quot;0&quot;</td><td>&quot;0&quot;</td><td>&quot;0&quot;</td><td>&quot;0&quot;</td><td>0.0</td><td>0.0</td><td>&quot;0&quot;</td></tr><tr><td>&quot;mean&quot;</td><td>null</td><td>&quot;2025-03-13 00:00:00&quot;</td><td>&quot;2025-03-13 00:00:00&quot;</td><td>null</td><td>&quot;1989-07-02 12:00:00&quot;</td><td>&quot;2022-07-02 12:00:00&quot;</td><td>null</td><td>null</td><td>null</td><td>null</td><td>null</td><td>null</td><td>&quot;2022-08-03 09:20:02.166666+00:…</td><td>20.333333</td><td>20.333333</td><td>null</td></tr><tr><td>&quot;std&quot;</td><td>null</td><td>null</td><td>null</td><td>null</td><td>null</td><td>null</td><td>null</td><td>null</td><td>null</td><td>null</td><td>null</td><td>null</td><td>null</td><td>19.946595</td><td>19.946595</td><td>null</td></tr><tr><td>&quot;min&quot;</td><td>&quot;RTWEXAFEGS&quot;</td><td>&quot;2025-03-13&quot;</td><td>&quot;2025-03-13&quot;</td><td>&quot;Real Advanced Foreign Economie…</td><td>&quot;1973-01-01&quot;</td><td>&quot;2019-12-01&quot;</td><td>&quot;Monthly&quot;</td><td>&quot;M&quot;</td><td>&quot;Index Jan 2006=100&quot;</td><td>&quot;Index Jan 2006=100&quot;</td><td>&quot;Not Seasonally Adjusted&quot;</td><td>&quot;NSA&quot;</td><td>&quot;2020-01-02 21:21:01+00:00&quot;</td><td>3.0</td><td>3.0</td><td>&quot;Averages of daily figures. Ser…</td></tr><tr><td>&quot;25%&quot;</td><td>null</td><td>&quot;2025-03-13&quot;</td><td>&quot;2025-03-13&quot;</td><td>null</td><td>&quot;1973-01-01&quot;</td><td>&quot;2019-12-01&quot;</td><td>null</td><td>null</td><td>null</td><td>null</td><td>null</td><td>null</td><td>&quot;2020-01-02 21:21:02+00:00&quot;</td><td>6.0</td><td>6.0</td><td>null</td></tr><tr><td>&quot;50%&quot;</td><td>null</td><td>&quot;2025-03-13&quot;</td><td>&quot;2025-03-13&quot;</td><td>null</td><td>&quot;2006-01-01&quot;</td><td>&quot;2025-02-01&quot;</td><td>null</td><td>null</td><td>null</td><td>null</td><td>null</td><td>null</td><td>&quot;2025-03-03 21:19:02+00:00&quot;</td><td>21.0</td><td>21.0</td><td>null</td></tr><tr><td>&quot;75%&quot;</td><td>null</td><td>&quot;2025-03-13&quot;</td><td>&quot;2025-03-13&quot;</td><td>null</td><td>&quot;2006-01-01&quot;</td><td>&quot;2025-02-01&quot;</td><td>null</td><td>null</td><td>null</td><td>null</td><td>null</td><td>null</td><td>&quot;2025-03-03 21:19:03+00:00&quot;</td><td>28.0</td><td>28.0</td><td>null</td></tr><tr><td>&quot;max&quot;</td><td>&quot;TWEXOPA&quot;</td><td>&quot;2025-03-13&quot;</td><td>&quot;2025-03-13&quot;</td><td>&quot;Real OITP Dollar Index (Goods …</td><td>&quot;2006-01-01&quot;</td><td>&quot;2025-02-01&quot;</td><td>&quot;Monthly&quot;</td><td>&quot;M&quot;</td><td>&quot;Index Mar 1973=100&quot;</td><td>&quot;Index Mar 1973=100&quot;</td><td>&quot;Not Seasonally Adjusted&quot;</td><td>&quot;NSA&quot;</td><td>&quot;2025-03-03 21:19:03+00:00&quot;</td><td>56.0</td><td>56.0</td><td>&quot;For more information about tra…</td></tr></tbody></table></div>"
      ],
      "text/plain": [
       "shape: (9, 17)\n",
       "┌───────────┬───────────┬───────────┬───────────┬───┬───────────┬───────────┬───────────┬──────────┐\n",
       "│ statistic ┆ id        ┆ realtime_ ┆ realtime_ ┆ … ┆ last_upda ┆ popularit ┆ group_pop ┆ notes    │\n",
       "│ ---       ┆ ---       ┆ start     ┆ end       ┆   ┆ ted       ┆ y         ┆ ularity   ┆ ---      │\n",
       "│ str       ┆ str       ┆ ---       ┆ ---       ┆   ┆ ---       ┆ ---       ┆ ---       ┆ str      │\n",
       "│           ┆           ┆ str       ┆ str       ┆   ┆ str       ┆ f64       ┆ f64       ┆          │\n",
       "╞═══════════╪═══════════╪═══════════╪═══════════╪═══╪═══════════╪═══════════╪═══════════╪══════════╡\n",
       "│ count     ┆ 6         ┆ 6         ┆ 6         ┆ … ┆ 6         ┆ 6.0       ┆ 6.0       ┆ 6        │\n",
       "│ null_coun ┆ 0         ┆ 0         ┆ 0         ┆ … ┆ 0         ┆ 0.0       ┆ 0.0       ┆ 0        │\n",
       "│ t         ┆           ┆           ┆           ┆   ┆           ┆           ┆           ┆          │\n",
       "│ mean      ┆ null      ┆ 2025-03-1 ┆ 2025-03-1 ┆ … ┆ 2022-08-0 ┆ 20.333333 ┆ 20.333333 ┆ null     │\n",
       "│           ┆           ┆ 3         ┆ 3         ┆   ┆ 3 09:20:0 ┆           ┆           ┆          │\n",
       "│           ┆           ┆ 00:00:00  ┆ 00:00:00  ┆   ┆ 2.166666+ ┆           ┆           ┆          │\n",
       "│           ┆           ┆           ┆           ┆   ┆ 00:…      ┆           ┆           ┆          │\n",
       "│ std       ┆ null      ┆ null      ┆ null      ┆ … ┆ null      ┆ 19.946595 ┆ 19.946595 ┆ null     │\n",
       "│ min       ┆ RTWEXAFEG ┆ 2025-03-1 ┆ 2025-03-1 ┆ … ┆ 2020-01-0 ┆ 3.0       ┆ 3.0       ┆ Averages │\n",
       "│           ┆ S         ┆ 3         ┆ 3         ┆   ┆ 2 21:21:0 ┆           ┆           ┆ of daily │\n",
       "│           ┆           ┆           ┆           ┆   ┆ 1+00:00   ┆           ┆           ┆ figures. │\n",
       "│           ┆           ┆           ┆           ┆   ┆           ┆           ┆           ┆ Ser…     │\n",
       "│ 25%       ┆ null      ┆ 2025-03-1 ┆ 2025-03-1 ┆ … ┆ 2020-01-0 ┆ 6.0       ┆ 6.0       ┆ null     │\n",
       "│           ┆           ┆ 3         ┆ 3         ┆   ┆ 2 21:21:0 ┆           ┆           ┆          │\n",
       "│           ┆           ┆           ┆           ┆   ┆ 2+00:00   ┆           ┆           ┆          │\n",
       "│ 50%       ┆ null      ┆ 2025-03-1 ┆ 2025-03-1 ┆ … ┆ 2025-03-0 ┆ 21.0      ┆ 21.0      ┆ null     │\n",
       "│           ┆           ┆ 3         ┆ 3         ┆   ┆ 3 21:19:0 ┆           ┆           ┆          │\n",
       "│           ┆           ┆           ┆           ┆   ┆ 2+00:00   ┆           ┆           ┆          │\n",
       "│ 75%       ┆ null      ┆ 2025-03-1 ┆ 2025-03-1 ┆ … ┆ 2025-03-0 ┆ 28.0      ┆ 28.0      ┆ null     │\n",
       "│           ┆           ┆ 3         ┆ 3         ┆   ┆ 3 21:19:0 ┆           ┆           ┆          │\n",
       "│           ┆           ┆           ┆           ┆   ┆ 3+00:00   ┆           ┆           ┆          │\n",
       "│ max       ┆ TWEXOPA   ┆ 2025-03-1 ┆ 2025-03-1 ┆ … ┆ 2025-03-0 ┆ 56.0      ┆ 56.0      ┆ For more │\n",
       "│           ┆           ┆ 3         ┆ 3         ┆   ┆ 3 21:19:0 ┆           ┆           ┆ informat │\n",
       "│           ┆           ┆           ┆           ┆   ┆ 3+00:00   ┆           ┆           ┆ ion      │\n",
       "│           ┆           ┆           ┆           ┆   ┆           ┆           ┆           ┆ about    │\n",
       "│           ┆           ┆           ┆           ┆   ┆           ┆           ┆           ┆ tra…     │\n",
       "└───────────┴───────────┴───────────┴───────────┴───┴───────────┴───────────┴───────────┴──────────┘"
      ]
     },
     "execution_count": 16,
     "metadata": {},
     "output_type": "execute_result"
    }
   ],
   "source": [
    "# Get all series contained within a given release\n",
    "\n",
    "from fred_data.series import get_series_for_release\n",
    "\n",
    "\n",
    "# Grabbed from releases_df from cells above\n",
    "stl_financial_stress_release_id = 245\n",
    "stl_financial_stress_multi_series = get_series_for_release(fred_client, stl_financial_stress_release_id)\n",
    "stl_financial_stress_multi_series_df = stl_financial_stress_multi_series.series\n",
    "\n",
    "print(f\"Release Series Results\")\n",
    "print(f\"Count: {stl_financial_stress_multi_series.count}\")\n",
    "print(f\"Realtime range: {stl_financial_stress_multi_series.realtime_start} to {stl_financial_stress_multi_series.realtime_end}, Duration: {stl_financial_stress_multi_series.realtime_end - stl_financial_stress_multi_series.realtime_start}\")\n",
    "st_louis_financial_stress_series_summary = pl.DataFrame() if stl_financial_stress_multi_series_df.is_empty() else stl_financial_stress_multi_series_df.describe()\n",
    "st_louis_financial_stress_series_summary\n"
   ]
  },
  {
   "cell_type": "markdown",
   "metadata": {},
   "source": [
    "### Observations\n",
    "\n",
    "Observations are the actual data for a given series. Multiple vintages of observations can exist for a given series to faciliate:\n",
    "1. New data coming in for a given time period after a series has already been published for that time period for the series\n",
    "2. Changes in how a series is derived/calculated\n",
    "\n",
    "[ALFRED keeps track of old vintage data, where-as FRED only shows the newest vintage of data](http://fred.stlouisfed.org/docs/api/fred/fred_vs_alfred.html)"
   ]
  },
  {
   "cell_type": "code",
   "execution_count": 5,
   "metadata": {},
   "outputs": [
    {
     "data": {
      "application/vnd.plotly.v1+json": {
       "config": {
        "plotlyServerURL": "https://plot.ly"
       },
       "data": [
        {
         "hovertemplate": "Date=%{x}<br>Index Jan 2006=100=%{y}<extra></extra>",
         "legendgroup": "",
         "line": {
          "color": "#636efa",
          "dash": "solid"
         },
         "marker": {
          "symbol": "circle"
         },
         "mode": "lines",
         "name": "",
         "orientation": "v",
         "showlegend": false,
         "type": "scatter",
         "x": [
          "2006-01-01",
          "2006-02-01",
          "2006-03-01",
          "2006-04-01",
          "2006-05-01",
          "2006-06-01",
          "2006-07-01",
          "2006-08-01",
          "2006-09-01",
          "2006-10-01",
          "2006-11-01",
          "2006-12-01",
          "2007-01-01",
          "2007-02-01",
          "2007-03-01",
          "2007-04-01",
          "2007-05-01",
          "2007-06-01",
          "2007-07-01",
          "2007-08-01",
          "2007-09-01",
          "2007-10-01",
          "2007-11-01",
          "2007-12-01",
          "2008-01-01",
          "2008-02-01",
          "2008-03-01",
          "2008-04-01",
          "2008-05-01",
          "2008-06-01",
          "2008-07-01",
          "2008-08-01",
          "2008-09-01",
          "2008-10-01",
          "2008-11-01",
          "2008-12-01",
          "2009-01-01",
          "2009-02-01",
          "2009-03-01",
          "2009-04-01",
          "2009-05-01",
          "2009-06-01",
          "2009-07-01",
          "2009-08-01",
          "2009-09-01",
          "2009-10-01",
          "2009-11-01",
          "2009-12-01",
          "2010-01-01",
          "2010-02-01",
          "2010-03-01",
          "2010-04-01",
          "2010-05-01",
          "2010-06-01",
          "2010-07-01",
          "2010-08-01",
          "2010-09-01",
          "2010-10-01",
          "2010-11-01",
          "2010-12-01",
          "2011-01-01",
          "2011-02-01",
          "2011-03-01",
          "2011-04-01",
          "2011-05-01",
          "2011-06-01",
          "2011-07-01",
          "2011-08-01",
          "2011-09-01",
          "2011-10-01",
          "2011-11-01",
          "2011-12-01",
          "2012-01-01",
          "2012-02-01",
          "2012-03-01",
          "2012-04-01",
          "2012-05-01",
          "2012-06-01",
          "2012-07-01",
          "2012-08-01",
          "2012-09-01",
          "2012-10-01",
          "2012-11-01",
          "2012-12-01",
          "2013-01-01",
          "2013-02-01",
          "2013-03-01",
          "2013-04-01",
          "2013-05-01",
          "2013-06-01",
          "2013-07-01",
          "2013-08-01",
          "2013-09-01",
          "2013-10-01",
          "2013-11-01",
          "2013-12-01",
          "2014-01-01",
          "2014-02-01",
          "2014-03-01",
          "2014-04-01",
          "2014-05-01",
          "2014-06-01",
          "2014-07-01",
          "2014-08-01",
          "2014-09-01",
          "2014-10-01",
          "2014-11-01",
          "2014-12-01",
          "2015-01-01",
          "2015-02-01",
          "2015-03-01",
          "2015-04-01",
          "2015-05-01",
          "2015-06-01",
          "2015-07-01",
          "2015-08-01",
          "2015-09-01",
          "2015-10-01",
          "2015-11-01",
          "2015-12-01",
          "2016-01-01",
          "2016-02-01",
          "2016-03-01",
          "2016-04-01",
          "2016-05-01",
          "2016-06-01",
          "2016-07-01",
          "2016-08-01",
          "2016-09-01",
          "2016-10-01",
          "2016-11-01",
          "2016-12-01",
          "2017-01-01",
          "2017-02-01",
          "2017-03-01",
          "2017-04-01",
          "2017-05-01",
          "2017-06-01",
          "2017-07-01",
          "2017-08-01",
          "2017-09-01",
          "2017-10-01",
          "2017-11-01",
          "2017-12-01",
          "2018-01-01",
          "2018-02-01",
          "2018-03-01",
          "2018-04-01",
          "2018-05-01",
          "2018-06-01",
          "2018-07-01",
          "2018-08-01",
          "2018-09-01",
          "2018-10-01",
          "2018-11-01",
          "2018-12-01",
          "2019-01-01",
          "2019-02-01",
          "2019-03-01",
          "2019-04-01",
          "2019-05-01",
          "2019-06-01",
          "2019-07-01",
          "2019-08-01",
          "2019-09-01",
          "2019-10-01",
          "2019-11-01",
          "2019-12-01",
          "2020-01-01",
          "2020-02-01",
          "2020-03-01",
          "2020-04-01",
          "2020-05-01",
          "2020-06-01",
          "2020-07-01",
          "2020-08-01",
          "2020-09-01",
          "2020-10-01",
          "2020-11-01",
          "2020-12-01",
          "2021-01-01",
          "2021-02-01",
          "2021-03-01",
          "2021-04-01",
          "2021-05-01",
          "2021-06-01",
          "2021-07-01",
          "2021-08-01",
          "2021-09-01",
          "2021-10-01",
          "2021-11-01",
          "2021-12-01",
          "2022-01-01",
          "2022-02-01",
          "2022-03-01",
          "2022-04-01",
          "2022-05-01",
          "2022-06-01",
          "2022-07-01",
          "2022-08-01",
          "2022-09-01",
          "2022-10-01",
          "2022-11-01",
          "2022-12-01",
          "2023-01-01",
          "2023-02-01",
          "2023-03-01",
          "2023-04-01",
          "2023-05-01",
          "2023-06-01",
          "2023-07-01",
          "2023-08-01",
          "2023-09-01",
          "2023-10-01",
          "2023-11-01",
          "2023-12-01",
          "2024-01-01",
          "2024-02-01",
          "2024-03-01",
          "2024-04-01",
          "2024-05-01",
          "2024-06-01",
          "2024-07-01",
          "2024-08-01",
          "2024-09-01",
          "2024-10-01",
          "2024-11-01",
          "2024-12-01",
          "2025-01-01",
          "2025-02-01"
         ],
         "xaxis": "x",
         "y": {
          "bdata": "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",
          "dtype": "f8"
         },
         "yaxis": "y"
        }
       ],
       "layout": {
        "legend": {
         "tracegroupgap": 0
        },
        "template": {
         "data": {
          "bar": [
           {
            "error_x": {
             "color": "#2a3f5f"
            },
            "error_y": {
             "color": "#2a3f5f"
            },
            "marker": {
             "line": {
              "color": "#E5ECF6",
              "width": 0.5
             },
             "pattern": {
              "fillmode": "overlay",
              "size": 10,
              "solidity": 0.2
             }
            },
            "type": "bar"
           }
          ],
          "barpolar": [
           {
            "marker": {
             "line": {
              "color": "#E5ECF6",
              "width": 0.5
             },
             "pattern": {
              "fillmode": "overlay",
              "size": 10,
              "solidity": 0.2
             }
            },
            "type": "barpolar"
           }
          ],
          "carpet": [
           {
            "aaxis": {
             "endlinecolor": "#2a3f5f",
             "gridcolor": "white",
             "linecolor": "white",
             "minorgridcolor": "white",
             "startlinecolor": "#2a3f5f"
            },
            "baxis": {
             "endlinecolor": "#2a3f5f",
             "gridcolor": "white",
             "linecolor": "white",
             "minorgridcolor": "white",
             "startlinecolor": "#2a3f5f"
            },
            "type": "carpet"
           }
          ],
          "choropleth": [
           {
            "colorbar": {
             "outlinewidth": 0,
             "ticks": ""
            },
            "type": "choropleth"
           }
          ],
          "contour": [
           {
            "colorbar": {
             "outlinewidth": 0,
             "ticks": ""
            },
            "colorscale": [
             [
              0,
              "#0d0887"
             ],
             [
              0.1111111111111111,
              "#46039f"
             ],
             [
              0.2222222222222222,
              "#7201a8"
             ],
             [
              0.3333333333333333,
              "#9c179e"
             ],
             [
              0.4444444444444444,
              "#bd3786"
             ],
             [
              0.5555555555555556,
              "#d8576b"
             ],
             [
              0.6666666666666666,
              "#ed7953"
             ],
             [
              0.7777777777777778,
              "#fb9f3a"
             ],
             [
              0.8888888888888888,
              "#fdca26"
             ],
             [
              1,
              "#f0f921"
             ]
            ],
            "type": "contour"
           }
          ],
          "contourcarpet": [
           {
            "colorbar": {
             "outlinewidth": 0,
             "ticks": ""
            },
            "type": "contourcarpet"
           }
          ],
          "heatmap": [
           {
            "colorbar": {
             "outlinewidth": 0,
             "ticks": ""
            },
            "colorscale": [
             [
              0,
              "#0d0887"
             ],
             [
              0.1111111111111111,
              "#46039f"
             ],
             [
              0.2222222222222222,
              "#7201a8"
             ],
             [
              0.3333333333333333,
              "#9c179e"
             ],
             [
              0.4444444444444444,
              "#bd3786"
             ],
             [
              0.5555555555555556,
              "#d8576b"
             ],
             [
              0.6666666666666666,
              "#ed7953"
             ],
             [
              0.7777777777777778,
              "#fb9f3a"
             ],
             [
              0.8888888888888888,
              "#fdca26"
             ],
             [
              1,
              "#f0f921"
             ]
            ],
            "type": "heatmap"
           }
          ],
          "histogram": [
           {
            "marker": {
             "pattern": {
              "fillmode": "overlay",
              "size": 10,
              "solidity": 0.2
             }
            },
            "type": "histogram"
           }
          ],
          "histogram2d": [
           {
            "colorbar": {
             "outlinewidth": 0,
             "ticks": ""
            },
            "colorscale": [
             [
              0,
              "#0d0887"
             ],
             [
              0.1111111111111111,
              "#46039f"
             ],
             [
              0.2222222222222222,
              "#7201a8"
             ],
             [
              0.3333333333333333,
              "#9c179e"
             ],
             [
              0.4444444444444444,
              "#bd3786"
             ],
             [
              0.5555555555555556,
              "#d8576b"
             ],
             [
              0.6666666666666666,
              "#ed7953"
             ],
             [
              0.7777777777777778,
              "#fb9f3a"
             ],
             [
              0.8888888888888888,
              "#fdca26"
             ],
             [
              1,
              "#f0f921"
             ]
            ],
            "type": "histogram2d"
           }
          ],
          "histogram2dcontour": [
           {
            "colorbar": {
             "outlinewidth": 0,
             "ticks": ""
            },
            "colorscale": [
             [
              0,
              "#0d0887"
             ],
             [
              0.1111111111111111,
              "#46039f"
             ],
             [
              0.2222222222222222,
              "#7201a8"
             ],
             [
              0.3333333333333333,
              "#9c179e"
             ],
             [
              0.4444444444444444,
              "#bd3786"
             ],
             [
              0.5555555555555556,
              "#d8576b"
             ],
             [
              0.6666666666666666,
              "#ed7953"
             ],
             [
              0.7777777777777778,
              "#fb9f3a"
             ],
             [
              0.8888888888888888,
              "#fdca26"
             ],
             [
              1,
              "#f0f921"
             ]
            ],
            "type": "histogram2dcontour"
           }
          ],
          "mesh3d": [
           {
            "colorbar": {
             "outlinewidth": 0,
             "ticks": ""
            },
            "type": "mesh3d"
           }
          ],
          "parcoords": [
           {
            "line": {
             "colorbar": {
              "outlinewidth": 0,
              "ticks": ""
             }
            },
            "type": "parcoords"
           }
          ],
          "pie": [
           {
            "automargin": true,
            "type": "pie"
           }
          ],
          "scatter": [
           {
            "fillpattern": {
             "fillmode": "overlay",
             "size": 10,
             "solidity": 0.2
            },
            "type": "scatter"
           }
          ],
          "scatter3d": [
           {
            "line": {
             "colorbar": {
              "outlinewidth": 0,
              "ticks": ""
             }
            },
            "marker": {
             "colorbar": {
              "outlinewidth": 0,
              "ticks": ""
             }
            },
            "type": "scatter3d"
           }
          ],
          "scattercarpet": [
           {
            "marker": {
             "colorbar": {
              "outlinewidth": 0,
              "ticks": ""
             }
            },
            "type": "scattercarpet"
           }
          ],
          "scattergeo": [
           {
            "marker": {
             "colorbar": {
              "outlinewidth": 0,
              "ticks": ""
             }
            },
            "type": "scattergeo"
           }
          ],
          "scattergl": [
           {
            "marker": {
             "colorbar": {
              "outlinewidth": 0,
              "ticks": ""
             }
            },
            "type": "scattergl"
           }
          ],
          "scattermap": [
           {
            "marker": {
             "colorbar": {
              "outlinewidth": 0,
              "ticks": ""
             }
            },
            "type": "scattermap"
           }
          ],
          "scattermapbox": [
           {
            "marker": {
             "colorbar": {
              "outlinewidth": 0,
              "ticks": ""
             }
            },
            "type": "scattermapbox"
           }
          ],
          "scatterpolar": [
           {
            "marker": {
             "colorbar": {
              "outlinewidth": 0,
              "ticks": ""
             }
            },
            "type": "scatterpolar"
           }
          ],
          "scatterpolargl": [
           {
            "marker": {
             "colorbar": {
              "outlinewidth": 0,
              "ticks": ""
             }
            },
            "type": "scatterpolargl"
           }
          ],
          "scatterternary": [
           {
            "marker": {
             "colorbar": {
              "outlinewidth": 0,
              "ticks": ""
             }
            },
            "type": "scatterternary"
           }
          ],
          "surface": [
           {
            "colorbar": {
             "outlinewidth": 0,
             "ticks": ""
            },
            "colorscale": [
             [
              0,
              "#0d0887"
             ],
             [
              0.1111111111111111,
              "#46039f"
             ],
             [
              0.2222222222222222,
              "#7201a8"
             ],
             [
              0.3333333333333333,
              "#9c179e"
             ],
             [
              0.4444444444444444,
              "#bd3786"
             ],
             [
              0.5555555555555556,
              "#d8576b"
             ],
             [
              0.6666666666666666,
              "#ed7953"
             ],
             [
              0.7777777777777778,
              "#fb9f3a"
             ],
             [
              0.8888888888888888,
              "#fdca26"
             ],
             [
              1,
              "#f0f921"
             ]
            ],
            "type": "surface"
           }
          ],
          "table": [
           {
            "cells": {
             "fill": {
              "color": "#EBF0F8"
             },
             "line": {
              "color": "white"
             }
            },
            "header": {
             "fill": {
              "color": "#C8D4E3"
             },
             "line": {
              "color": "white"
             }
            },
            "type": "table"
           }
          ]
         },
         "layout": {
          "annotationdefaults": {
           "arrowcolor": "#2a3f5f",
           "arrowhead": 0,
           "arrowwidth": 1
          },
          "autotypenumbers": "strict",
          "coloraxis": {
           "colorbar": {
            "outlinewidth": 0,
            "ticks": ""
           }
          },
          "colorscale": {
           "diverging": [
            [
             0,
             "#8e0152"
            ],
            [
             0.1,
             "#c51b7d"
            ],
            [
             0.2,
             "#de77ae"
            ],
            [
             0.3,
             "#f1b6da"
            ],
            [
             0.4,
             "#fde0ef"
            ],
            [
             0.5,
             "#f7f7f7"
            ],
            [
             0.6,
             "#e6f5d0"
            ],
            [
             0.7,
             "#b8e186"
            ],
            [
             0.8,
             "#7fbc41"
            ],
            [
             0.9,
             "#4d9221"
            ],
            [
             1,
             "#276419"
            ]
           ],
           "sequential": [
            [
             0,
             "#0d0887"
            ],
            [
             0.1111111111111111,
             "#46039f"
            ],
            [
             0.2222222222222222,
             "#7201a8"
            ],
            [
             0.3333333333333333,
             "#9c179e"
            ],
            [
             0.4444444444444444,
             "#bd3786"
            ],
            [
             0.5555555555555556,
             "#d8576b"
            ],
            [
             0.6666666666666666,
             "#ed7953"
            ],
            [
             0.7777777777777778,
             "#fb9f3a"
            ],
            [
             0.8888888888888888,
             "#fdca26"
            ],
            [
             1,
             "#f0f921"
            ]
           ],
           "sequentialminus": [
            [
             0,
             "#0d0887"
            ],
            [
             0.1111111111111111,
             "#46039f"
            ],
            [
             0.2222222222222222,
             "#7201a8"
            ],
            [
             0.3333333333333333,
             "#9c179e"
            ],
            [
             0.4444444444444444,
             "#bd3786"
            ],
            [
             0.5555555555555556,
             "#d8576b"
            ],
            [
             0.6666666666666666,
             "#ed7953"
            ],
            [
             0.7777777777777778,
             "#fb9f3a"
            ],
            [
             0.8888888888888888,
             "#fdca26"
            ],
            [
             1,
             "#f0f921"
            ]
           ]
          },
          "colorway": [
           "#636efa",
           "#EF553B",
           "#00cc96",
           "#ab63fa",
           "#FFA15A",
           "#19d3f3",
           "#FF6692",
           "#B6E880",
           "#FF97FF",
           "#FECB52"
          ],
          "font": {
           "color": "#2a3f5f"
          },
          "geo": {
           "bgcolor": "white",
           "lakecolor": "white",
           "landcolor": "#E5ECF6",
           "showlakes": true,
           "showland": true,
           "subunitcolor": "white"
          },
          "hoverlabel": {
           "align": "left"
          },
          "hovermode": "closest",
          "mapbox": {
           "style": "light"
          },
          "paper_bgcolor": "white",
          "plot_bgcolor": "#E5ECF6",
          "polar": {
           "angularaxis": {
            "gridcolor": "white",
            "linecolor": "white",
            "ticks": ""
           },
           "bgcolor": "#E5ECF6",
           "radialaxis": {
            "gridcolor": "white",
            "linecolor": "white",
            "ticks": ""
           }
          },
          "scene": {
           "xaxis": {
            "backgroundcolor": "#E5ECF6",
            "gridcolor": "white",
            "gridwidth": 2,
            "linecolor": "white",
            "showbackground": true,
            "ticks": "",
            "zerolinecolor": "white"
           },
           "yaxis": {
            "backgroundcolor": "#E5ECF6",
            "gridcolor": "white",
            "gridwidth": 2,
            "linecolor": "white",
            "showbackground": true,
            "ticks": "",
            "zerolinecolor": "white"
           },
           "zaxis": {
            "backgroundcolor": "#E5ECF6",
            "gridcolor": "white",
            "gridwidth": 2,
            "linecolor": "white",
            "showbackground": true,
            "ticks": "",
            "zerolinecolor": "white"
           }
          },
          "shapedefaults": {
           "line": {
            "color": "#2a3f5f"
           }
          },
          "ternary": {
           "aaxis": {
            "gridcolor": "white",
            "linecolor": "white",
            "ticks": ""
           },
           "baxis": {
            "gridcolor": "white",
            "linecolor": "white",
            "ticks": ""
           },
           "bgcolor": "#E5ECF6",
           "caxis": {
            "gridcolor": "white",
            "linecolor": "white",
            "ticks": ""
           }
          },
          "title": {
           "x": 0.05
          },
          "xaxis": {
           "automargin": true,
           "gridcolor": "white",
           "linecolor": "white",
           "ticks": "",
           "title": {
            "standoff": 15
           },
           "zerolinecolor": "white",
           "zerolinewidth": 2
          },
          "yaxis": {
           "automargin": true,
           "gridcolor": "white",
           "linecolor": "white",
           "ticks": "",
           "title": {
            "standoff": 15
           },
           "zerolinecolor": "white",
           "zerolinewidth": 2
          }
         }
        },
        "title": {
         "text": "Real Broad Dollar Index"
        },
        "xaxis": {
         "anchor": "y",
         "domain": [
          0,
          1
         ],
         "title": {
          "text": "Date"
         }
        },
        "yaxis": {
         "anchor": "x",
         "domain": [
          0,
          1
         ],
         "title": {
          "text": "Index Jan 2006=100"
         }
        }
       }
      }
     },
     "metadata": {},
     "output_type": "display_data"
    }
   ],
   "source": [
    "from datetime import date, timedelta\n",
    "\n",
    "# Just using Plotly express for easy graphing\n",
    "import plotly.express as px\n",
    "\n",
    "from fred_data.observations import get_observations_for_series\n",
    "from fred_data.series import get_series_by_id\n",
    "\n",
    "# Grabbed from results of \"Series\" section cells\n",
    "real_broad_dollar_index_series_id = \"RTWEXBGS\"\n",
    "real_broad_dollar_index_series = get_series_by_id(fred_client, series_id=real_broad_dollar_index_series_id)\n",
    "today = date.today()\n",
    "real_broad_dollar_index_observations = get_observations_for_series(\n",
    "    fred_client,\n",
    "    series_id=real_broad_dollar_index_series_id,\n",
    "    observation_start=today - timedelta(days=365*30), # 30 years\n",
    "    observation_end=today,\n",
    ")\n",
    "real_broad_dollar_index_observations_df = real_broad_dollar_index_observations.observations\n",
    "\n",
    "observations_chart = px.line(\n",
    "    x=real_broad_dollar_index_observations_df[\"date\"],\n",
    "    y=real_broad_dollar_index_observations_df[\"value\"],\n",
    "    title=real_broad_dollar_index_series.title,\n",
    "    labels={\n",
    "        \"x\": \"Date\",\n",
    "        \"y\": real_broad_dollar_index_series.units\n",
    "    }\n",
    ")\n",
    "observations_chart"
   ]
  }
 ],
 "metadata": {
  "kernelspec": {
   "display_name": ".venv",
   "language": "python",
   "name": "python3"
  },
  "language_info": {
   "codemirror_mode": {
    "name": "ipython",
    "version": 3
   },
   "file_extension": ".py",
   "mimetype": "text/x-python",
   "name": "python",
   "nbconvert_exporter": "python",
   "pygments_lexer": "ipython3",
   "version": "3.13.2"
  }
 },
 "nbformat": 4,
 "nbformat_minor": 2
}
